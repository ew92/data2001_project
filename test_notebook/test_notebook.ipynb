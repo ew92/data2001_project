{
 "cells": [
  {
   "cell_type": "markdown",
   "id": "horizontal-combination",
   "metadata": {},
   "source": [
    "# Hello World"
   ]
  },
  {
   "cell_type": "code",
   "execution_count": 2,
   "id": "surrounded-glance",
   "metadata": {},
   "outputs": [
    {
     "name": "stdout",
     "output_type": "stream",
     "text": [
      "Wind directions by number of days:\n",
      "{'NE': 6, 'E': 2, 'N': 2, 'W': 4, 'NNE': 4, 'NNW': 5, 'NW': 5, 'SSW': 10, 'S': 9, 'WNW': 7, 'SW': 4, 'SSE': 5, 'ENE': 2, 'WSW': 5, 'SE': 7, 'ESE': 1}\n"
     ]
    },
    {
     "data": {
      "text/plain": [
       "{'SSW': 10,\n",
       " 'S': 9,\n",
       " 'WNW': 7,\n",
       " 'SE': 7,\n",
       " 'NE': 6,\n",
       " 'NNW': 5,\n",
       " 'NW': 5,\n",
       " 'SSE': 5,\n",
       " 'WSW': 5,\n",
       " 'W': 4,\n",
       " 'NNE': 4,\n",
       " 'SW': 4,\n",
       " 'E': 2,\n",
       " 'N': 2,\n",
       " 'ENE': 2,\n",
       " 'ESE': 1}"
      ]
     },
     "execution_count": 2,
     "metadata": {},
     "output_type": "execute_result"
    }
   ],
   "source": [
    "import pandas as pd\n",
    "\n",
    "wind_directions = {}\n",
    "is_first_line = True\n",
    "\n",
    "# This is only to reliably recreate the local csv (will save to current working directory)\n",
    "data = pd.read_csv(\"https://eugeneward.com.au/study/demodata/data1002/climate_data_Dec2017.csv\")\n",
    "data_csv = data.to_csv(path_or_buf=\"dldata.csv\", index=False)\n",
    "\n",
    "# Pattern Credit: USYD Grok Module\n",
    "\n",
    "# You will need to know the column index for the variable of interest\n",
    "\n",
    "for row in open(\"dldata.csv\"):\n",
    "  if is_first_line:\n",
    "    is_first_line = False\n",
    "  else:\n",
    "    values = row.split(\",\")\n",
    "    wdir = values[9]\n",
    "    if wdir in wind_directions:\n",
    "      wind_directions[wdir] += 1\n",
    "    else:\n",
    "      wind_directions[wdir] = 1\n",
    "\n",
    "print(\"Wind directions by number of days:\")\n",
    "print(wind_directions)\n",
    "\n",
    "{k: v for k, v in sorted(wind_directions.items(), key=lambda item: item[1], reverse=True)}"
   ]
  },
  {
   "cell_type": "code",
   "execution_count": 3,
   "id": "honey-tunnel",
   "metadata": {},
   "outputs": [
    {
     "data": {
      "image/png": "[encoded data removed]",
      "text/plain": [
       "<Figure size 432x288 with 1 Axes>"
      ]
     },
     "metadata": {
      "needs_background": "light"
     },
     "output_type": "display_data"
    }
   ],
   "source": [
    "from matplotlib import pyplot as plt\n",
    "\n",
    "plt.bar(*zip(*wind_directions.items()))\n",
    "plt.show()"
   ]
  },
  {
   "cell_type": "code",
   "execution_count": null,
   "id": "infinite-serial",
   "metadata": {},
   "outputs": [],
   "source": []
  }
 ],
 "metadata": {
  "kernelspec": {
   "display_name": "Python 3",
   "language": "python",
   "name": "python3"
  },
  "language_info": {
   "codemirror_mode": {
    "name": "ipython",
    "version": 3
   },
   "file_extension": ".py",
   "mimetype": "text/x-python",
   "name": "python",
   "nbconvert_exporter": "python",
   "pygments_lexer": "ipython3",
   "version": "3.7.4"
  }
 },
 "nbformat": 4,
 "nbformat_minor": 5
}
