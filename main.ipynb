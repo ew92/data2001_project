{
 "cells": [
  {
   "cell_type": "markdown",
   "metadata": {},
   "source": [
    "# DATA2001 2021 Assignment\n",
    "*An analysis of neighbourhood fire risk and median income & rent.*\n",
    "\n"
   ]
  },
  {
   "cell_type": "code",
   "execution_count": 6,
   "metadata": {},
   "outputs": [],
   "source": [
    "import pandas as pd\n",
    "import geopandas as gpd\n",
    "import os\n",
    "import numpy as np\n",
    "import json\n",
    "\n",
    "from shapely.geometry import Point, Polygon, MultiPolygon\n",
    "from geopandas import GeoSeries, GeoDataFrame\n",
    "from geoalchemy2 import Geometry, WKTElement\n",
    "from sqlalchemy import *\n",
    "from sqlalchemy import create_engine\n",
    "import psycopg2\n",
    "import psycopg2.extras\n",
    "\n",
    "import matplotlib.pyplot as plt"
   ]
  },
  {
   "cell_type": "code",
   "execution_count": null,
   "metadata": {},
   "outputs": [],
   "source": [
    "#For troubleshooting in the case your data isn't loading.\n",
    "#os.chdir('M:\\\\Jupyter Notebooks\\\\data2001_project')\n",
    "os.getcwd()"
   ]
  },
  {
   "cell_type": "markdown",
   "metadata": {},
   "source": [
    "## Task 1: Data Integration and Database Generation\n",
    "\n",
    "### Loading the datasets"
   ]
  },
  {
   "cell_type": "code",
   "execution_count": 60,
   "metadata": {},
   "outputs": [
    {
     "data": {
      "text/html": [
       "<div>\n",
       "<style scoped>\n",
       "    .dataframe tbody tr th:only-of-type {\n",
       "        vertical-align: middle;\n",
       "    }\n",
       "\n",
       "    .dataframe tbody tr th {\n",
       "        vertical-align: top;\n",
       "    }\n",
       "\n",
       "    .dataframe thead th {\n",
       "        text-align: right;\n",
       "    }\n",
       "</style>\n",
       "<table border=\"1\" class=\"dataframe\">\n",
       "  <thead>\n",
       "    <tr style=\"text-align: right;\">\n",
       "      <th></th>\n",
       "      <th>area_id</th>\n",
       "      <th>area_name</th>\n",
       "      <th>parent_area_id</th>\n",
       "    </tr>\n",
       "  </thead>\n",
       "  <tbody>\n",
       "    <tr>\n",
       "      <th>0</th>\n",
       "      <td>1</td>\n",
       "      <td>New South Wales</td>\n",
       "      <td>0</td>\n",
       "    </tr>\n",
       "    <tr>\n",
       "      <th>1</th>\n",
       "      <td>10</td>\n",
       "      <td>Greater Sydney</td>\n",
       "      <td>1</td>\n",
       "    </tr>\n",
       "  </tbody>\n",
       "</table>\n",
       "</div>"
      ],
      "text/plain": [
       "   area_id        area_name  parent_area_id\n",
       "0        1  New South Wales               0\n",
       "1       10   Greater Sydney               1"
      ]
     },
     "execution_count": 60,
     "metadata": {},
     "output_type": "execute_result"
    }
   ],
   "source": [
    "stat_areas_df = pd.read_csv('./data/StatisticalAreas.csv')\n",
    "stat_areas_df.head(2)"
   ]
  },
  {
   "cell_type": "code",
   "execution_count": 61,
   "metadata": {},
   "outputs": [
    {
     "data": {
      "text/html": [
       "<div>\n",
       "<style scoped>\n",
       "    .dataframe tbody tr th:only-of-type {\n",
       "        vertical-align: middle;\n",
       "    }\n",
       "\n",
       "    .dataframe tbody tr th {\n",
       "        vertical-align: top;\n",
       "    }\n",
       "\n",
       "    .dataframe thead th {\n",
       "        text-align: right;\n",
       "    }\n",
       "</style>\n",
       "<table border=\"1\" class=\"dataframe\">\n",
       "  <thead>\n",
       "    <tr style=\"text-align: right;\">\n",
       "      <th></th>\n",
       "      <th>area_id</th>\n",
       "      <th>area_name</th>\n",
       "      <th>land_area</th>\n",
       "      <th>population</th>\n",
       "      <th>number_of_dwellings</th>\n",
       "      <th>number_of_businesses</th>\n",
       "      <th>median_annual_household_income</th>\n",
       "      <th>avg_monthly_rent</th>\n",
       "    </tr>\n",
       "  </thead>\n",
       "  <tbody>\n",
       "    <tr>\n",
       "      <th>0</th>\n",
       "      <td>102011028</td>\n",
       "      <td>Avoca Beach - Copacabana</td>\n",
       "      <td>643.8</td>\n",
       "      <td>7590</td>\n",
       "      <td>2325</td>\n",
       "      <td>738.0</td>\n",
       "      <td>46996.0</td>\n",
       "      <td>1906.0</td>\n",
       "    </tr>\n",
       "  </tbody>\n",
       "</table>\n",
       "</div>"
      ],
      "text/plain": [
       "     area_id                 area_name  land_area population  \\\n",
       "0  102011028  Avoca Beach - Copacabana      643.8       7590   \n",
       "\n",
       "  number_of_dwellings  number_of_businesses  median_annual_household_income  \\\n",
       "0                2325                 738.0                         46996.0   \n",
       "\n",
       "   avg_monthly_rent  \n",
       "0            1906.0  "
      ]
     },
     "execution_count": 61,
     "metadata": {},
     "output_type": "execute_result"
    }
   ],
   "source": [
    "nbhd_df = pd.read_csv('./data/Neighbourhoods.csv')\n",
    "nbhd_df.head(1)"
   ]
  },
  {
   "cell_type": "code",
   "execution_count": 62,
   "metadata": {},
   "outputs": [
    {
     "data": {
      "text/html": [
       "<div>\n",
       "<style scoped>\n",
       "    .dataframe tbody tr th:only-of-type {\n",
       "        vertical-align: middle;\n",
       "    }\n",
       "\n",
       "    .dataframe tbody tr th {\n",
       "        vertical-align: top;\n",
       "    }\n",
       "\n",
       "    .dataframe thead th {\n",
       "        text-align: right;\n",
       "    }\n",
       "</style>\n",
       "<table border=\"1\" class=\"dataframe\">\n",
       "  <thead>\n",
       "    <tr style=\"text-align: right;\">\n",
       "      <th></th>\n",
       "      <th>area_id</th>\n",
       "      <th>area_name</th>\n",
       "      <th>number_of_businesses</th>\n",
       "      <th>accommodation_and_food_services</th>\n",
       "      <th>retail_trade</th>\n",
       "      <th>agriculture_forestry_and_fishing</th>\n",
       "      <th>health_care_and_social_assistance</th>\n",
       "      <th>public_administration_and_safety</th>\n",
       "      <th>transport_postal_and_warehousing</th>\n",
       "    </tr>\n",
       "  </thead>\n",
       "  <tbody>\n",
       "    <tr>\n",
       "      <th>0</th>\n",
       "      <td>101021007</td>\n",
       "      <td>Braidwood</td>\n",
       "      <td>629</td>\n",
       "      <td>26</td>\n",
       "      <td>27</td>\n",
       "      <td>280</td>\n",
       "      <td>11</td>\n",
       "      <td>0</td>\n",
       "      <td>35</td>\n",
       "    </tr>\n",
       "  </tbody>\n",
       "</table>\n",
       "</div>"
      ],
      "text/plain": [
       "     area_id  area_name  number_of_businesses  \\\n",
       "0  101021007  Braidwood                   629   \n",
       "\n",
       "   accommodation_and_food_services  retail_trade  \\\n",
       "0                               26            27   \n",
       "\n",
       "   agriculture_forestry_and_fishing  health_care_and_social_assistance  \\\n",
       "0                               280                                 11   \n",
       "\n",
       "   public_administration_and_safety  transport_postal_and_warehousing  \n",
       "0                                 0                                35  "
      ]
     },
     "execution_count": 62,
     "metadata": {},
     "output_type": "execute_result"
    }
   ],
   "source": [
    "busi_stat_df = pd.read_csv('./data/BusinessStats.csv')\n",
    "busi_stat_df.head(1)"
   ]
  },
  {
   "cell_type": "code",
   "execution_count": 70,
   "metadata": {},
   "outputs": [
    {
     "name": "stdout",
     "output_type": "stream",
     "text": [
      "epsg:4283\n"
     ]
    },
    {
     "data": {
      "text/html": [
       "<div>\n",
       "<style scoped>\n",
       "    .dataframe tbody tr th:only-of-type {\n",
       "        vertical-align: middle;\n",
       "    }\n",
       "\n",
       "    .dataframe tbody tr th {\n",
       "        vertical-align: top;\n",
       "    }\n",
       "\n",
       "    .dataframe thead th {\n",
       "        text-align: right;\n",
       "    }\n",
       "</style>\n",
       "<table border=\"1\" class=\"dataframe\">\n",
       "  <thead>\n",
       "    <tr style=\"text-align: right;\">\n",
       "      <th></th>\n",
       "      <th>category</th>\n",
       "      <th>shape_leng</th>\n",
       "      <th>shape_area</th>\n",
       "      <th>geometry</th>\n",
       "    </tr>\n",
       "  </thead>\n",
       "  <tbody>\n",
       "    <tr>\n",
       "      <th>0</th>\n",
       "      <td>1</td>\n",
       "      <td>0.000017</td>\n",
       "      <td>5.392400e-12</td>\n",
       "      <td>POINT (149.11319 -33.05824)</td>\n",
       "    </tr>\n",
       "  </tbody>\n",
       "</table>\n",
       "</div>"
      ],
      "text/plain": [
       "   category  shape_leng    shape_area                     geometry\n",
       "0         1    0.000017  5.392400e-12  POINT (149.11319 -33.05824)"
      ]
     },
     "execution_count": 70,
     "metadata": {},
     "output_type": "execute_result"
    }
   ],
   "source": [
    "rfs_gdf = gpd.read_file('./data/RFSNSW_BFPL/RFSNSW_BFPL.shp')\n",
    "print(rfs_gdf.crs) # Check EPSG / CRS -- 4283 = GDA94\n",
    "rfs_gdf.columns = [x.lower() for x in rfs_gdf.columns] # lower case col names\n",
    "rfs_gdf.head(1)"
   ]
  },
  {
   "cell_type": "code",
   "execution_count": 71,
   "metadata": {},
   "outputs": [
    {
     "name": "stdout",
     "output_type": "stream",
     "text": [
      "epsg:4283\n"
     ]
    },
    {
     "data": {
      "text/html": [
       "<div>\n",
       "<style scoped>\n",
       "    .dataframe tbody tr th:only-of-type {\n",
       "        vertical-align: middle;\n",
       "    }\n",
       "\n",
       "    .dataframe tbody tr th {\n",
       "        vertical-align: top;\n",
       "    }\n",
       "\n",
       "    .dataframe thead th {\n",
       "        text-align: right;\n",
       "    }\n",
       "</style>\n",
       "<table border=\"1\" class=\"dataframe\">\n",
       "  <thead>\n",
       "    <tr style=\"text-align: right;\">\n",
       "      <th></th>\n",
       "      <th>sa2_main16</th>\n",
       "      <th>sa2_5dig16</th>\n",
       "      <th>sa2_name16</th>\n",
       "      <th>sa3_code16</th>\n",
       "      <th>sa3_name16</th>\n",
       "      <th>sa4_code16</th>\n",
       "      <th>sa4_name16</th>\n",
       "      <th>gcc_code16</th>\n",
       "      <th>gcc_name16</th>\n",
       "      <th>ste_code16</th>\n",
       "      <th>ste_name16</th>\n",
       "      <th>areasqkm16</th>\n",
       "      <th>geometry</th>\n",
       "    </tr>\n",
       "  </thead>\n",
       "  <tbody>\n",
       "    <tr>\n",
       "      <th>0</th>\n",
       "      <td>101021007</td>\n",
       "      <td>11007</td>\n",
       "      <td>Braidwood</td>\n",
       "      <td>10102</td>\n",
       "      <td>Queanbeyan</td>\n",
       "      <td>101</td>\n",
       "      <td>Capital Region</td>\n",
       "      <td>1RNSW</td>\n",
       "      <td>Rest of NSW</td>\n",
       "      <td>1</td>\n",
       "      <td>New South Wales</td>\n",
       "      <td>3418.3525</td>\n",
       "      <td>POLYGON ((149.58423 -35.44427, 149.58444 -35.4...</td>\n",
       "    </tr>\n",
       "  </tbody>\n",
       "</table>\n",
       "</div>"
      ],
      "text/plain": [
       "  sa2_main16 sa2_5dig16 sa2_name16 sa3_code16  sa3_name16 sa4_code16  \\\n",
       "0  101021007      11007  Braidwood      10102  Queanbeyan        101   \n",
       "\n",
       "       sa4_name16 gcc_code16   gcc_name16 ste_code16       ste_name16  \\\n",
       "0  Capital Region      1RNSW  Rest of NSW          1  New South Wales   \n",
       "\n",
       "   areasqkm16                                           geometry  \n",
       "0   3418.3525  POLYGON ((149.58423 -35.44427, 149.58444 -35.4...  "
      ]
     },
     "execution_count": 71,
     "metadata": {},
     "output_type": "execute_result"
    }
   ],
   "source": [
    "sa2_gdf = gpd.read_file('./data/1270055001_sa2_2016_aust_shape/SA2_2016_AUST.shp')\n",
    "print(sa2_gdf.crs) # Check EPSG / CRS -- 4283 = GDA94\n",
    "sa2_gdf.columns = [x.lower() for x in sa2_gdf.columns] # lower case col names\n",
    "sa2_gdf.head(1)"
   ]
  },
  {
   "cell_type": "code",
   "execution_count": 76,
   "metadata": {},
   "outputs": [
    {
     "data": {
      "text/plain": [
       "{'MultiPolygon', None, 'Polygon'}"
      ]
     },
     "execution_count": 76,
     "metadata": {},
     "output_type": "execute_result"
    }
   ],
   "source": [
    "set(sa2_gdf.geometry.type)"
   ]
  },
  {
   "cell_type": "markdown",
   "metadata": {},
   "source": [
    "### Creation of database and tables"
   ]
  },
  {
   "cell_type": "code",
   "execution_count": 13,
   "metadata": {},
   "outputs": [
    {
     "name": "stdout",
     "output_type": "stream",
     "text": [
      "function setup successful.\n"
     ]
    }
   ],
   "source": [
    "# Function for accessing Postgres DB (SOURCE: DATA2001 Lab materials)\n",
    "\n",
    "def pgconnect_using_credfile(credential_filepath):\n",
    "    try:\n",
    "        with open(credential_filepath) as f:\n",
    "            db_conn_dict = json.load(f)\n",
    "        connstring = 'postgres+psycopg2://'+db_conn_dict['user']+':'+db_conn_dict['password']+'@'+db_conn_dict['host']+'/'+db_conn_dict['database']\n",
    "        db = create_engine(connstring, echo=False)\n",
    "        conn = db.connect()\n",
    "        print('connected')\n",
    "    except Exception as e:\n",
    "        print(\"unable to connect to the database\")\n",
    "        print(e)\n",
    "        return None\n",
    "    return db,conn\n",
    "\n",
    "print(\"function setup successful.\")"
   ]
  },
  {
   "cell_type": "code",
   "execution_count": 14,
   "metadata": {},
   "outputs": [
    {
     "name": "stdout",
     "output_type": "stream",
     "text": [
      "connected\n"
     ]
    }
   ],
   "source": [
    "# Connect to University server student Postgres DB\n",
    "\n",
    "credfilepath = './data2x01_db.json' # Not tracked on Git, must be locally available\n",
    "\n",
    "db, conn = pgconnect_using_credfile(credfilepath)"
   ]
  },
  {
   "cell_type": "code",
   "execution_count": 15,
   "metadata": {},
   "outputs": [
    {
     "name": "stdout",
     "output_type": "stream",
     "text": [
      "function setup successful.\n"
     ]
    }
   ],
   "source": [
    "# Function for querying the PostgreSQL DB.\n",
    "# Returns value and a converted dataframe (SOURCE: DATA2001 Lab materials)\n",
    "\n",
    "def pgquery( conn, sqlcmd, args=None, silent=False ):\n",
    "    \"\"\" utility function to execute some SQL query statement\n",
    "    can take optional arguments to fill in (dictionary)\n",
    "    will print out on screen the result set of the query\n",
    "    error and transaction handling built-in \"\"\"\n",
    "    retdf = pd.DataFrame()\n",
    "    retval = False\n",
    "    try:\n",
    "        if args is None:\n",
    "            retdf = pd.read_sql_query(sqlcmd,conn)\n",
    "        else:\n",
    "            retdf = pd.read_sql_query(sqlcmd,conn,params=args)\n",
    "        if silent == False:\n",
    "            print(retdf.shape)\n",
    "            print(retdf.to_string())\n",
    "        retval = True\n",
    "    except Exception as e:\n",
    "        if silent == False:\n",
    "            print(\"db read error: \")\n",
    "            print(e)\n",
    "    return retval,retdf\n",
    "\n",
    "print(\"function setup successful.\")"
   ]
  },
  {
   "cell_type": "code",
   "execution_count": 16,
   "metadata": {},
   "outputs": [
    {
     "name": "stdout",
     "output_type": "stream",
     "text": [
      "(1, 1)\n",
      "                         postgis_version\n",
      "0  3.0 USE_GEOS=1 USE_PROJ=1 USE_STATS=1\n"
     ]
    },
    {
     "data": {
      "text/html": [
       "<div>\n",
       "<style scoped>\n",
       "    .dataframe tbody tr th:only-of-type {\n",
       "        vertical-align: middle;\n",
       "    }\n",
       "\n",
       "    .dataframe tbody tr th {\n",
       "        vertical-align: top;\n",
       "    }\n",
       "\n",
       "    .dataframe thead th {\n",
       "        text-align: right;\n",
       "    }\n",
       "</style>\n",
       "<table border=\"1\" class=\"dataframe\">\n",
       "  <thead>\n",
       "    <tr style=\"text-align: right;\">\n",
       "      <th></th>\n",
       "      <th>postgis_version</th>\n",
       "    </tr>\n",
       "  </thead>\n",
       "  <tbody>\n",
       "    <tr>\n",
       "      <th>0</th>\n",
       "      <td>3.0 USE_GEOS=1 USE_PROJ=1 USE_STATS=1</td>\n",
       "    </tr>\n",
       "  </tbody>\n",
       "</table>\n",
       "</div>"
      ],
      "text/plain": [
       "                         postgis_version\n",
       "0  3.0 USE_GEOS=1 USE_PROJ=1 USE_STATS=1"
      ]
     },
     "execution_count": 16,
     "metadata": {},
     "output_type": "execute_result"
    }
   ],
   "source": [
    "# Checking we have PostGIS working on our connection (SOURCE: DATA2001 Lab materials)\n",
    "\n",
    "postgis_check = '''\n",
    "SELECT PostGIS_Version();\n",
    "'''\n",
    "\n",
    "retval,retdf = pgquery(conn,postgis_check)\n",
    "retdf"
   ]
  },
  {
   "cell_type": "markdown",
   "metadata": {},
   "source": [
    "### Creation of Tables (Dataframes)"
   ]
  },
  {
   "cell_type": "code",
   "execution_count": 47,
   "metadata": {},
   "outputs": [
    {
     "data": {
      "text/plain": [
       "<sqlalchemy.engine.result.ResultProxy at 0x11c71d2d0>"
      ]
     },
     "execution_count": 47,
     "metadata": {},
     "output_type": "execute_result"
    }
   ],
   "source": [
    "neighbourhoods_create = '''CREATE TABLE neighbourhoods (\n",
    "                     var_id CHAR(9),\n",
    "                     area_name VARCHAR(100),\n",
    "                     land_area FLOAT,\n",
    "                     population NUMERIC,\n",
    "                     number_of_dwellings NUMERIC,\n",
    "                     number_of_businesses NUMERIC,\n",
    "                     median_annual_household_income NUMERIC,\n",
    "                     avg_monthly_rent NUMERIC\n",
    "                     )'''\n",
    "\n",
    "conn.execute(\"DROP TABLE IF EXISTS neighbourhoods\")\n",
    "conn.execute(neighbourhoods_create)"
   ]
  },
  {
   "cell_type": "code",
   "execution_count": 48,
   "metadata": {},
   "outputs": [],
   "source": [
    "nbhd_df.to_sql('neighbourhoods', con = conn, if_exists = 'replace', index=False)"
   ]
  },
  {
   "cell_type": "code",
   "execution_count": 49,
   "metadata": {},
   "outputs": [
    {
     "name": "stdout",
     "output_type": "stream",
     "text": [
      "(1, 8)\n",
      "     area_id                 area_name  land_area population number_of_dwellings  number_of_businesses  median_annual_household_income  avg_monthly_rent\n",
      "0  102011028  Avoca Beach - Copacabana      643.8       7590                2325                 738.0                         46996.0            1906.0\n"
     ]
    },
    {
     "data": {
      "text/html": [
       "<div>\n",
       "<style scoped>\n",
       "    .dataframe tbody tr th:only-of-type {\n",
       "        vertical-align: middle;\n",
       "    }\n",
       "\n",
       "    .dataframe tbody tr th {\n",
       "        vertical-align: top;\n",
       "    }\n",
       "\n",
       "    .dataframe thead th {\n",
       "        text-align: right;\n",
       "    }\n",
       "</style>\n",
       "<table border=\"1\" class=\"dataframe\">\n",
       "  <thead>\n",
       "    <tr style=\"text-align: right;\">\n",
       "      <th></th>\n",
       "      <th>area_id</th>\n",
       "      <th>area_name</th>\n",
       "      <th>land_area</th>\n",
       "      <th>population</th>\n",
       "      <th>number_of_dwellings</th>\n",
       "      <th>number_of_businesses</th>\n",
       "      <th>median_annual_household_income</th>\n",
       "      <th>avg_monthly_rent</th>\n",
       "    </tr>\n",
       "  </thead>\n",
       "  <tbody>\n",
       "    <tr>\n",
       "      <th>0</th>\n",
       "      <td>102011028</td>\n",
       "      <td>Avoca Beach - Copacabana</td>\n",
       "      <td>643.8</td>\n",
       "      <td>7590</td>\n",
       "      <td>2325</td>\n",
       "      <td>738.0</td>\n",
       "      <td>46996.0</td>\n",
       "      <td>1906.0</td>\n",
       "    </tr>\n",
       "  </tbody>\n",
       "</table>\n",
       "</div>"
      ],
      "text/plain": [
       "     area_id                 area_name  land_area population  \\\n",
       "0  102011028  Avoca Beach - Copacabana      643.8       7590   \n",
       "\n",
       "  number_of_dwellings  number_of_businesses  median_annual_household_income  \\\n",
       "0                2325                 738.0                         46996.0   \n",
       "\n",
       "   avg_monthly_rent  \n",
       "0            1906.0  "
      ]
     },
     "execution_count": 49,
     "metadata": {},
     "output_type": "execute_result"
    }
   ],
   "source": [
    "# Check table\n",
    "a_response, a_df = pgquery(conn, \"\"\"SELECT * FROM neighbourhoods\n",
    "LIMIT 1;\"\"\")\n",
    "a_df.head()"
   ]
  },
  {
   "cell_type": "code",
   "execution_count": 50,
   "metadata": {},
   "outputs": [
    {
     "data": {
      "text/plain": [
       "<sqlalchemy.engine.result.ResultProxy at 0x11c728150>"
      ]
     },
     "execution_count": 50,
     "metadata": {},
     "output_type": "execute_result"
    }
   ],
   "source": [
    "business_create = '''CREATE TABLE business (\n",
    "                     var_id CHAR(9),\n",
    "                     area_name VARCHAR(100),\n",
    "                     number_of_businesses NUMERIC,\n",
    "                     accommodation_and_food_services NUMERIC,\n",
    "                     retail_trade NUMERIC,\n",
    "                     agriculture_forestry_and_fishing NUMERIC,\n",
    "                     health_care_and_social_assistance NUMERIC,\n",
    "                     public_administration_and_safety NUMERIC,\n",
    "                     transport_postal_and_warehousing NUMERIC\n",
    "                     )'''\n",
    "\n",
    "conn.execute(\"DROP TABLE IF EXISTS business\")\n",
    "conn.execute(business_create)"
   ]
  },
  {
   "cell_type": "code",
   "execution_count": 51,
   "metadata": {},
   "outputs": [],
   "source": [
    "busi_stat_df.to_sql('business', con = conn, if_exists = 'replace', index=False)"
   ]
  },
  {
   "cell_type": "code",
   "execution_count": 52,
   "metadata": {},
   "outputs": [
    {
     "name": "stdout",
     "output_type": "stream",
     "text": [
      "(1, 9)\n",
      "     area_id  area_name  number_of_businesses  accommodation_and_food_services  retail_trade  agriculture_forestry_and_fishing  health_care_and_social_assistance  public_administration_and_safety  transport_postal_and_warehousing\n",
      "0  101021007  Braidwood                   629                               26            27                               280                                 11                                 0                                35\n"
     ]
    },
    {
     "data": {
      "text/html": [
       "<div>\n",
       "<style scoped>\n",
       "    .dataframe tbody tr th:only-of-type {\n",
       "        vertical-align: middle;\n",
       "    }\n",
       "\n",
       "    .dataframe tbody tr th {\n",
       "        vertical-align: top;\n",
       "    }\n",
       "\n",
       "    .dataframe thead th {\n",
       "        text-align: right;\n",
       "    }\n",
       "</style>\n",
       "<table border=\"1\" class=\"dataframe\">\n",
       "  <thead>\n",
       "    <tr style=\"text-align: right;\">\n",
       "      <th></th>\n",
       "      <th>area_id</th>\n",
       "      <th>area_name</th>\n",
       "      <th>number_of_businesses</th>\n",
       "      <th>accommodation_and_food_services</th>\n",
       "      <th>retail_trade</th>\n",
       "      <th>agriculture_forestry_and_fishing</th>\n",
       "      <th>health_care_and_social_assistance</th>\n",
       "      <th>public_administration_and_safety</th>\n",
       "      <th>transport_postal_and_warehousing</th>\n",
       "    </tr>\n",
       "  </thead>\n",
       "  <tbody>\n",
       "    <tr>\n",
       "      <th>0</th>\n",
       "      <td>101021007</td>\n",
       "      <td>Braidwood</td>\n",
       "      <td>629</td>\n",
       "      <td>26</td>\n",
       "      <td>27</td>\n",
       "      <td>280</td>\n",
       "      <td>11</td>\n",
       "      <td>0</td>\n",
       "      <td>35</td>\n",
       "    </tr>\n",
       "  </tbody>\n",
       "</table>\n",
       "</div>"
      ],
      "text/plain": [
       "     area_id  area_name  number_of_businesses  \\\n",
       "0  101021007  Braidwood                   629   \n",
       "\n",
       "   accommodation_and_food_services  retail_trade  \\\n",
       "0                               26            27   \n",
       "\n",
       "   agriculture_forestry_and_fishing  health_care_and_social_assistance  \\\n",
       "0                               280                                 11   \n",
       "\n",
       "   public_administration_and_safety  transport_postal_and_warehousing  \n",
       "0                                 0                                35  "
      ]
     },
     "execution_count": 52,
     "metadata": {},
     "output_type": "execute_result"
    }
   ],
   "source": [
    "# Check table\n",
    "a_response, a_df = pgquery(conn, \"\"\"SELECT * FROM business\n",
    "LIMIT 1;\"\"\")\n",
    "a_df.head()"
   ]
  },
  {
   "cell_type": "code",
   "execution_count": 53,
   "metadata": {},
   "outputs": [
    {
     "data": {
      "text/plain": [
       "<sqlalchemy.engine.result.ResultProxy at 0x11c72d350>"
      ]
     },
     "execution_count": 53,
     "metadata": {},
     "output_type": "execute_result"
    }
   ],
   "source": [
    "stat_areas_create = '''CREATE TABLE stat_areas (\n",
    "                     area_id VARCHAR(9),\n",
    "                     area_name VARCHAR(100),\n",
    "                     parent_area_id VARCHAR(9)\n",
    "                     )'''\n",
    "\n",
    "conn.execute(\"DROP TABLE IF EXISTS stat_areas\")\n",
    "conn.execute(stat_areas_create)"
   ]
  },
  {
   "cell_type": "code",
   "execution_count": 64,
   "metadata": {},
   "outputs": [],
   "source": [
    "stat_areas_df.to_sql('stat_areas', con = conn, if_exists = 'replace', index=False)"
   ]
  },
  {
   "cell_type": "code",
   "execution_count": 65,
   "metadata": {},
   "outputs": [
    {
     "name": "stdout",
     "output_type": "stream",
     "text": [
      "(1, 3)\n",
      "   area_id        area_name  parent_area_id\n",
      "0        1  New South Wales               0\n"
     ]
    },
    {
     "data": {
      "text/html": [
       "<div>\n",
       "<style scoped>\n",
       "    .dataframe tbody tr th:only-of-type {\n",
       "        vertical-align: middle;\n",
       "    }\n",
       "\n",
       "    .dataframe tbody tr th {\n",
       "        vertical-align: top;\n",
       "    }\n",
       "\n",
       "    .dataframe thead th {\n",
       "        text-align: right;\n",
       "    }\n",
       "</style>\n",
       "<table border=\"1\" class=\"dataframe\">\n",
       "  <thead>\n",
       "    <tr style=\"text-align: right;\">\n",
       "      <th></th>\n",
       "      <th>area_id</th>\n",
       "      <th>area_name</th>\n",
       "      <th>parent_area_id</th>\n",
       "    </tr>\n",
       "  </thead>\n",
       "  <tbody>\n",
       "    <tr>\n",
       "      <th>0</th>\n",
       "      <td>1</td>\n",
       "      <td>New South Wales</td>\n",
       "      <td>0</td>\n",
       "    </tr>\n",
       "  </tbody>\n",
       "</table>\n",
       "</div>"
      ],
      "text/plain": [
       "   area_id        area_name  parent_area_id\n",
       "0        1  New South Wales               0"
      ]
     },
     "execution_count": 65,
     "metadata": {},
     "output_type": "execute_result"
    }
   ],
   "source": [
    "# Check table\n",
    "a_response, a_df = pgquery(conn, \"\"\"SELECT * FROM stat_areas\n",
    "LIMIT 1;\"\"\")\n",
    "a_df.head()"
   ]
  },
  {
   "cell_type": "markdown",
   "metadata": {},
   "source": [
    "### Creation of Tables (GeoDataframes)"
   ]
  },
  {
   "cell_type": "code",
   "execution_count": 73,
   "metadata": {},
   "outputs": [
    {
     "data": {
      "text/plain": [
       "<sqlalchemy.engine.result.ResultProxy at 0x11d2cf750>"
      ]
     },
     "execution_count": 73,
     "metadata": {},
     "output_type": "execute_result"
    }
   ],
   "source": [
    "rfs_bushfire_create = '''CREATE TABLE rfs_bushfire (\n",
    "                     category CHAR(1),\n",
    "                     shape_leng FLOAT,\n",
    "                     shape_area FLOAT,\n",
    "                     geom GEOMETRY(POINT, 4283)\n",
    "                     )'''\n",
    "\n",
    "conn.execute(\"DROP TABLE IF EXISTS rfs_bushfire\")\n",
    "conn.execute(rfs_bushfire_create)"
   ]
  },
  {
   "cell_type": "code",
   "execution_count": null,
   "metadata": {},
   "outputs": [],
   "source": [
    "# TO-DO: LOAD DATA INTO THIS TABLE WITH APPROPRIATE WKT CONVERSION PROCESS"
   ]
  },
  {
   "cell_type": "code",
   "execution_count": 80,
   "metadata": {},
   "outputs": [
    {
     "data": {
      "text/plain": [
       "<sqlalchemy.engine.result.ResultProxy at 0x11d474890>"
      ]
     },
     "execution_count": 80,
     "metadata": {},
     "output_type": "execute_result"
    }
   ],
   "source": [
    "sa2_shape_create = '''CREATE TABLE sa2_shape (\n",
    "                     sa2_main16 VARCHAR(80),\n",
    "                     sa2_5dig16 VARCHAR(80),\n",
    "                     sa2_name16 VARCHAR(100),\n",
    "                     sa3_code16 VARCHAR(80),\n",
    "                     sa3_name16 VARCHAR(100),\n",
    "                     sa4_code16 VARCHAR(80),\n",
    "                     sa4_name16 VARCHAR(100),\n",
    "                     gcc_code16 VARCHAR(80),\n",
    "                     gcc_name16 VARCHAR(100),\n",
    "                     ste_code16 VARCHAR(80),\n",
    "                     ste_name16 VARCHAR(100),\n",
    "                     areasqkm16 FLOAT,\n",
    "                     geom GEOMETRY(MULTIPOLYGON, 4283)\n",
    "                     )'''\n",
    "\n",
    "conn.execute(\"DROP TABLE IF EXISTS sa2_shape\")\n",
    "conn.execute(sa2_shape_create)"
   ]
  },
  {
   "cell_type": "code",
   "execution_count": null,
   "metadata": {},
   "outputs": [],
   "source": [
    "# TO-DO: LOAD DATA INTO THIS TABLE WITH APPROPRIATE WKT CONVERSION PROCESS"
   ]
  },
  {
   "cell_type": "code",
   "execution_count": 8,
   "metadata": {},
   "outputs": [
    {
     "name": "stdout",
     "output_type": "stream",
     "text": [
      "disconnected\n"
     ]
    }
   ],
   "source": [
    "# Disconnect from DB\n",
    "\n",
    "conn.close()\n",
    "db.dispose()\n",
    "print(\"disconnected\")"
   ]
  },
  {
   "cell_type": "markdown",
   "metadata": {},
   "source": [
    "## Task 2: Fire Risk Analysis\n",
    "\n",
    "### Fire Risk Score\n",
    "\n",
    "$$fire_risk = S(z(population_density)+z(dwelling_&_business_density)+z(bfpl_density)−z(assistive_service_density))$$"
   ]
  },
  {
   "cell_type": "code",
   "execution_count": 21,
   "metadata": {},
   "outputs": [],
   "source": [
    "#Z-score\n",
    "def z(x, avg, sd):\n",
    "    return((x-avg)/sd)\n",
    "\n",
    "#Sigmoidal function. Did not use native exponential because fails for large negative values.\n",
    "def sigmoid(x):\n",
    "    return(1/(1+np.exp(-x)))\n",
    "\n",
    "#Fire risk score formula.\n",
    "def fire_risk(pop_d, dwell_bus_d, bfpl_d, ass_serv_d):\n",
    "    fire_risk_score = sigmoid(z(pop_d)+z(dwell_bus_d)+z(bfpl_d)-z(ass_serv_d))\n",
    "    return fire_risk_score"
   ]
  }
 ],
 "metadata": {
  "kernelspec": {
   "display_name": "Python 3",
   "language": "python",
   "name": "python3"
  },
  "language_info": {
   "codemirror_mode": {
    "name": "ipython",
    "version": 3
   },
   "file_extension": ".py",
   "mimetype": "text/x-python",
   "name": "python",
   "nbconvert_exporter": "python",
   "pygments_lexer": "ipython3",
   "version": "3.7.4"
  }
 },
 "nbformat": 4,
 "nbformat_minor": 4
}
