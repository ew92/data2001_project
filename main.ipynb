{
 "cells": [
  {
   "cell_type": "markdown",
   "metadata": {},
   "source": [
    "# DATA2001 2021 Assignment\n",
    "*An analysis of neighbourhood fire risk and median income & rent.*\n",
    "\n"
   ]
  },
  {
   "cell_type": "code",
   "execution_count": 1,
   "metadata": {},
   "outputs": [],
   "source": [
    "import pandas as pd\n",
    "import geopandas as gpd\n",
    "import os\n",
    "import numpy as np\n",
    "\n",
    "import requests\n",
    "import json\n",
    "\n",
    "from shapely.geometry import Point, Polygon, MultiPolygon\n",
    "from geopandas import GeoSeries, GeoDataFrame\n",
    "from geoalchemy2 import Geometry, WKTElement\n",
    "from sqlalchemy import *\n",
    "from sqlalchemy import create_engine\n",
    "import psycopg2\n",
    "import psycopg2.extras\n",
    "\n",
    "import matplotlib.pyplot as plt"
   ]
  },
  {
   "cell_type": "code",
   "execution_count": 2,
   "metadata": {},
   "outputs": [],
   "source": [
    "# ------ Internal use MATTHEW\n",
    "#For troubleshooting in the case your data isn't loading.\n",
    "#os.chdir('M:\\\\Jupyter Notebooks\\\\data2001_project')\n",
    "#os.getcwd()"
   ]
  },
  {
   "cell_type": "markdown",
   "metadata": {},
   "source": [
    "## Task 1: Data Integration and Database Generation\n",
    "\n",
    "### Loading datasets (standard dataframes)"
   ]
  },
  {
   "cell_type": "code",
   "execution_count": 3,
   "metadata": {},
   "outputs": [
    {
     "name": "stdout",
     "output_type": "stream",
     "text": [
      "area_id            int64\n",
      "area_name         object\n",
      "parent_area_id     int64\n",
      "dtype: object\n"
     ]
    }
   ],
   "source": [
    "stat_areas_df = pd.read_csv('./data/StatisticalAreas.csv')\n",
    "print(stat_areas_df.dtypes)"
   ]
  },
  {
   "cell_type": "code",
   "execution_count": 4,
   "metadata": {},
   "outputs": [
    {
     "name": "stdout",
     "output_type": "stream",
     "text": [
      "431\n",
      "106          2\n",
      "111          2\n",
      "114          2\n",
      "118011340    1\n",
      "11903        1\n",
      "            ..\n",
      "125021477    1\n",
      "125021476    1\n",
      "116021562    1\n",
      "114021289    1\n",
      "124011450    1\n",
      "Name: area_id, Length: 431, dtype: int64\n",
      "434\n",
      "431\n"
     ]
    },
    {
     "data": {
      "text/html": [
       "<div>\n",
       "<style scoped>\n",
       "    .dataframe tbody tr th:only-of-type {\n",
       "        vertical-align: middle;\n",
       "    }\n",
       "\n",
       "    .dataframe tbody tr th {\n",
       "        vertical-align: top;\n",
       "    }\n",
       "\n",
       "    .dataframe thead th {\n",
       "        text-align: right;\n",
       "    }\n",
       "</style>\n",
       "<table border=\"1\" class=\"dataframe\">\n",
       "  <thead>\n",
       "    <tr style=\"text-align: right;\">\n",
       "      <th></th>\n",
       "      <th>area_id</th>\n",
       "      <th>area_name</th>\n",
       "      <th>parent_area_id</th>\n",
       "    </tr>\n",
       "  </thead>\n",
       "  <tbody>\n",
       "    <tr>\n",
       "      <th>0</th>\n",
       "      <td>1</td>\n",
       "      <td>New South Wales</td>\n",
       "      <td>0</td>\n",
       "    </tr>\n",
       "    <tr>\n",
       "      <th>1</th>\n",
       "      <td>10</td>\n",
       "      <td>Greater Sydney</td>\n",
       "      <td>1</td>\n",
       "    </tr>\n",
       "  </tbody>\n",
       "</table>\n",
       "</div>"
      ],
      "text/plain": [
       "   area_id        area_name  parent_area_id\n",
       "0        1  New South Wales               0\n",
       "1       10   Greater Sydney               1"
      ]
     },
     "execution_count": 4,
     "metadata": {},
     "output_type": "execute_result"
    }
   ],
   "source": [
    "# Cleaning - remove duplicates\n",
    "print(len(stat_areas_df.area_id.unique()))\n",
    "print(stat_areas_df.area_id.value_counts())\n",
    "\n",
    "# DUPLICATE ROWS in statisticalareas - confirmed\n",
    "\n",
    "#stat_areas_df.loc[stat_areas_df['area_id']==106]\n",
    "#stat_areas_df.loc[stat_areas_df['area_id']==111]\n",
    "#stat_areas_df.loc[stat_areas_df['area_id']==114]\n",
    "\n",
    "print(len(stat_areas_df))\n",
    "stat_areas_df = stat_areas_df.drop_duplicates()\n",
    "print(len(stat_areas_df))\n",
    "\n",
    "stat_areas_df.head(2)"
   ]
  },
  {
   "cell_type": "code",
   "execution_count": 5,
   "metadata": {},
   "outputs": [
    {
     "data": {
      "text/html": [
       "<div>\n",
       "<style scoped>\n",
       "    .dataframe tbody tr th:only-of-type {\n",
       "        vertical-align: middle;\n",
       "    }\n",
       "\n",
       "    .dataframe tbody tr th {\n",
       "        vertical-align: top;\n",
       "    }\n",
       "\n",
       "    .dataframe thead th {\n",
       "        text-align: right;\n",
       "    }\n",
       "</style>\n",
       "<table border=\"1\" class=\"dataframe\">\n",
       "  <thead>\n",
       "    <tr style=\"text-align: right;\">\n",
       "      <th></th>\n",
       "      <th>area_id</th>\n",
       "      <th>area_name</th>\n",
       "      <th>land_area</th>\n",
       "      <th>population</th>\n",
       "      <th>dwellings</th>\n",
       "      <th>businesses</th>\n",
       "      <th>median_income</th>\n",
       "      <th>avg_monthly_rent</th>\n",
       "    </tr>\n",
       "  </thead>\n",
       "  <tbody>\n",
       "    <tr>\n",
       "      <th>0</th>\n",
       "      <td>102011028</td>\n",
       "      <td>Avoca Beach - Copacabana</td>\n",
       "      <td>643.8</td>\n",
       "      <td>7590</td>\n",
       "      <td>2325</td>\n",
       "      <td>738.0</td>\n",
       "      <td>46996.0</td>\n",
       "      <td>1906.0</td>\n",
       "    </tr>\n",
       "  </tbody>\n",
       "</table>\n",
       "</div>"
      ],
      "text/plain": [
       "     area_id                 area_name  land_area population dwellings  \\\n",
       "0  102011028  Avoca Beach - Copacabana      643.8       7590      2325   \n",
       "\n",
       "   businesses  median_income  avg_monthly_rent  \n",
       "0       738.0        46996.0            1906.0  "
      ]
     },
     "execution_count": 5,
     "metadata": {},
     "output_type": "execute_result"
    }
   ],
   "source": [
    "nbhd_df = pd.read_csv('./data/Neighbourhoods.csv')\n",
    "\n",
    "# nbhd_df.area_id.value_counts() # confirmed no duplicate area_id\n",
    "\n",
    "# Changing column names according to assignment sheet\n",
    "nbhd_df = nbhd_df.rename(columns={'number_of_dwellings':'dwellings', 'number_of_businesses':'businesses', 'median_annual_household_income':'median_income'}) \n",
    "nbhd_df.head(1)"
   ]
  },
  {
   "cell_type": "code",
   "execution_count": 6,
   "metadata": {},
   "outputs": [
    {
     "name": "stdout",
     "output_type": "stream",
     "text": [
      "322\n",
      "area_id               int64\n",
      "area_name            object\n",
      "land_area           float64\n",
      "population           object\n",
      "dwellings            object\n",
      "businesses          float64\n",
      "median_income       float64\n",
      "avg_monthly_rent    float64\n",
      "dtype: object\n"
     ]
    }
   ],
   "source": [
    "print(len(nbhd_df))\n",
    "print(nbhd_df.dtypes)"
   ]
  },
  {
   "cell_type": "code",
   "execution_count": 7,
   "metadata": {},
   "outputs": [],
   "source": [
    "# Cleaning - correcting number representation\n",
    "nbhd_df['population'] = nbhd_df['population'].str.replace(',','')\n",
    "nbhd_df['population'] = nbhd_df['population'].astype('float64')\n",
    "\n",
    "nbhd_df['dwellings'] = nbhd_df['dwellings'].str.replace(',','')\n",
    "nbhd_df['dwellings'] = nbhd_df['dwellings'].astype('float64')"
   ]
  },
  {
   "cell_type": "code",
   "execution_count": 8,
   "metadata": {},
   "outputs": [
    {
     "name": "stdout",
     "output_type": "stream",
     "text": [
      "2301\n",
      "area_id                              int64\n",
      "number_of_businesses                 int64\n",
      "accommodation_and_food               int64\n",
      "retail_trade                         int64\n",
      "agriculture_forestry_and_fishing     int64\n",
      "health_care_and_social_assistance    int64\n",
      "public_administration_and_safety     int64\n",
      "transport_postal_and_warehousing     int64\n",
      "dtype: object\n"
     ]
    }
   ],
   "source": [
    "busi_stat_df = pd.read_csv('./data/BusinessStats.csv')\n",
    "\n",
    "busi_stat_df = busi_stat_df.drop(columns=['area_name']) #Not in the required columns according to May revision of assigment sheet v3\n",
    "busi_stat_df = busi_stat_df.rename(columns={'accommodation_and_food_services':'accommodation_and_food'}) #Changing column names according to assignment sheet\n",
    "\n",
    "# busi_stat_df.area_id.value_counts() # confirmed no duplicates\n",
    "print(len(busi_stat_df))\n",
    "print(busi_stat_df.dtypes)"
   ]
  },
  {
   "cell_type": "code",
   "execution_count": 9,
   "metadata": {},
   "outputs": [
    {
     "name": "stdout",
     "output_type": "stream",
     "text": [
      "object\n",
      "object\n",
      "object\n"
     ]
    }
   ],
   "source": [
    "# DECISION: cast area_id in each df as string in order to ensure integrity going into DB as non-numeric values\n",
    "\n",
    "stat_areas_df['area_id'] = stat_areas_df['area_id'].astype('str')\n",
    "print(stat_areas_df['area_id'].dtype)\n",
    "\n",
    "nbhd_df['area_id'] = nbhd_df['area_id'].astype('str')\n",
    "print(nbhd_df['area_id'].dtype)\n",
    "\n",
    "busi_stat_df['area_id'] = busi_stat_df['area_id'].astype('str')\n",
    "print(busi_stat_df['area_id'].dtype)"
   ]
  },
  {
   "cell_type": "code",
   "execution_count": 10,
   "metadata": {},
   "outputs": [],
   "source": [
    "# POSSIBLE DESIGN DECISION: LIMIT BUSINESS STAT OBSERVATIONS IN DB TO THE NEIGHBOURHOODS STUDIED\n",
    "\n",
    "# print(len(busi_stat_df))\n",
    "# busi_stat_df = busi_stat_df.loc[busi_stat_df['area_id'].isin(nbhd_df['area_id'].tolist())]\n",
    "# print(len(busi_stat_df))"
   ]
  },
  {
   "cell_type": "markdown",
   "metadata": {},
   "source": [
    "### Loading datasets (geodataframes)\n",
    "#### RFS NSW Bushfire Prone Land - shapefile"
   ]
  },
  {
   "cell_type": "code",
   "execution_count": 11,
   "metadata": {},
   "outputs": [
    {
     "name": "stdout",
     "output_type": "stream",
     "text": [
      "epsg:4283\n",
      "category         int64\n",
      "shape_leng     float64\n",
      "shape_area     float64\n",
      "geometry      geometry\n",
      "dtype: object\n"
     ]
    },
    {
     "data": {
      "text/html": [
       "<div>\n",
       "<style scoped>\n",
       "    .dataframe tbody tr th:only-of-type {\n",
       "        vertical-align: middle;\n",
       "    }\n",
       "\n",
       "    .dataframe tbody tr th {\n",
       "        vertical-align: top;\n",
       "    }\n",
       "\n",
       "    .dataframe thead th {\n",
       "        text-align: right;\n",
       "    }\n",
       "</style>\n",
       "<table border=\"1\" class=\"dataframe\">\n",
       "  <thead>\n",
       "    <tr style=\"text-align: right;\">\n",
       "      <th></th>\n",
       "      <th>category</th>\n",
       "      <th>shape_leng</th>\n",
       "      <th>shape_area</th>\n",
       "      <th>geometry</th>\n",
       "    </tr>\n",
       "  </thead>\n",
       "  <tbody>\n",
       "    <tr>\n",
       "      <th>0</th>\n",
       "      <td>1</td>\n",
       "      <td>0.000017</td>\n",
       "      <td>5.392400e-12</td>\n",
       "      <td>POINT (149.11319 -33.05824)</td>\n",
       "    </tr>\n",
       "  </tbody>\n",
       "</table>\n",
       "</div>"
      ],
      "text/plain": [
       "   category  shape_leng    shape_area                     geometry\n",
       "0         1    0.000017  5.392400e-12  POINT (149.11319 -33.05824)"
      ]
     },
     "execution_count": 11,
     "metadata": {},
     "output_type": "execute_result"
    }
   ],
   "source": [
    "rfs_gdf = gpd.read_file('./data/RFSNSW_BFPL/RFSNSW_BFPL.shp')\n",
    "print(rfs_gdf.crs) # Check EPSG / CRS -- 4283 = GDA94\n",
    "rfs_gdf.columns = [x.lower() for x in rfs_gdf.columns] # lower case col names\n",
    "print(rfs_gdf.dtypes)\n",
    "rfs_gdf.head(1)"
   ]
  },
  {
   "cell_type": "code",
   "execution_count": 12,
   "metadata": {},
   "outputs": [
    {
     "name": "stdout",
     "output_type": "stream",
     "text": [
      "516633\n"
     ]
    },
    {
     "data": {
      "text/plain": [
       "Point    516633\n",
       "dtype: int64"
      ]
     },
     "execution_count": 12,
     "metadata": {},
     "output_type": "execute_result"
    }
   ],
   "source": [
    "# Check geometries\n",
    "print(len(rfs_gdf))\n",
    "rfs_gdf.geometry.type.value_counts()"
   ]
  },
  {
   "cell_type": "code",
   "execution_count": 13,
   "metadata": {},
   "outputs": [
    {
     "data": {
      "text/html": [
       "<div>\n",
       "<style scoped>\n",
       "    .dataframe tbody tr th:only-of-type {\n",
       "        vertical-align: middle;\n",
       "    }\n",
       "\n",
       "    .dataframe tbody tr th {\n",
       "        vertical-align: top;\n",
       "    }\n",
       "\n",
       "    .dataframe thead th {\n",
       "        text-align: right;\n",
       "    }\n",
       "</style>\n",
       "<table border=\"1\" class=\"dataframe\">\n",
       "  <thead>\n",
       "    <tr style=\"text-align: right;\">\n",
       "      <th></th>\n",
       "      <th>gid</th>\n",
       "      <th>category</th>\n",
       "      <th>shape_leng</th>\n",
       "      <th>shape_area</th>\n",
       "      <th>geometry</th>\n",
       "    </tr>\n",
       "  </thead>\n",
       "  <tbody>\n",
       "    <tr>\n",
       "      <th>0</th>\n",
       "      <td>0</td>\n",
       "      <td>1</td>\n",
       "      <td>0.000017</td>\n",
       "      <td>5.392400e-12</td>\n",
       "      <td>POINT (149.11319 -33.05824)</td>\n",
       "    </tr>\n",
       "    <tr>\n",
       "      <th>1</th>\n",
       "      <td>1</td>\n",
       "      <td>1</td>\n",
       "      <td>0.000178</td>\n",
       "      <td>1.140005e-09</td>\n",
       "      <td>POINT (152.27536 -29.68316)</td>\n",
       "    </tr>\n",
       "    <tr>\n",
       "      <th>2</th>\n",
       "      <td>2</td>\n",
       "      <td>1</td>\n",
       "      <td>0.000890</td>\n",
       "      <td>4.950178e-08</td>\n",
       "      <td>POINT (152.14244 -29.68266)</td>\n",
       "    </tr>\n",
       "    <tr>\n",
       "      <th>3</th>\n",
       "      <td>3</td>\n",
       "      <td>1</td>\n",
       "      <td>0.000442</td>\n",
       "      <td>8.094091e-09</td>\n",
       "      <td>POINT (152.27579 -29.68259)</td>\n",
       "    </tr>\n",
       "    <tr>\n",
       "      <th>4</th>\n",
       "      <td>4</td>\n",
       "      <td>1</td>\n",
       "      <td>0.000890</td>\n",
       "      <td>4.950155e-08</td>\n",
       "      <td>POINT (151.99619 -29.68131)</td>\n",
       "    </tr>\n",
       "  </tbody>\n",
       "</table>\n",
       "</div>"
      ],
      "text/plain": [
       "   gid  category  shape_leng    shape_area                     geometry\n",
       "0    0         1    0.000017  5.392400e-12  POINT (149.11319 -33.05824)\n",
       "1    1         1    0.000178  1.140005e-09  POINT (152.27536 -29.68316)\n",
       "2    2         1    0.000890  4.950178e-08  POINT (152.14244 -29.68266)\n",
       "3    3         1    0.000442  8.094091e-09  POINT (152.27579 -29.68259)\n",
       "4    4         1    0.000890  4.950155e-08  POINT (151.99619 -29.68131)"
      ]
     },
     "execution_count": 13,
     "metadata": {},
     "output_type": "execute_result"
    }
   ],
   "source": [
    "# Recreate incrementing 'gid' (0 index)\n",
    "rfs_gdf.insert(loc=0, column='gid', value=rfs_gdf.index)\n",
    "rfs_gdf.head()"
   ]
  },
  {
   "cell_type": "markdown",
   "metadata": {},
   "source": [
    "#### ABS Statistical Area 2 (2016) - shapefile"
   ]
  },
  {
   "cell_type": "code",
   "execution_count": 14,
   "metadata": {},
   "outputs": [
    {
     "name": "stdout",
     "output_type": "stream",
     "text": [
      "epsg:4283\n"
     ]
    },
    {
     "data": {
      "text/html": [
       "<div>\n",
       "<style scoped>\n",
       "    .dataframe tbody tr th:only-of-type {\n",
       "        vertical-align: middle;\n",
       "    }\n",
       "\n",
       "    .dataframe tbody tr th {\n",
       "        vertical-align: top;\n",
       "    }\n",
       "\n",
       "    .dataframe thead th {\n",
       "        text-align: right;\n",
       "    }\n",
       "</style>\n",
       "<table border=\"1\" class=\"dataframe\">\n",
       "  <thead>\n",
       "    <tr style=\"text-align: right;\">\n",
       "      <th></th>\n",
       "      <th>g_id</th>\n",
       "      <th>sa2_main16</th>\n",
       "      <th>sa2_5dig16</th>\n",
       "      <th>sa2_name16</th>\n",
       "      <th>sa3_code</th>\n",
       "      <th>sa3_name</th>\n",
       "      <th>sa4_code</th>\n",
       "      <th>sa4_name</th>\n",
       "      <th>gcc_code</th>\n",
       "      <th>gcc_name</th>\n",
       "      <th>ste_code</th>\n",
       "      <th>ste_name</th>\n",
       "      <th>areasqkm16</th>\n",
       "      <th>geometry</th>\n",
       "    </tr>\n",
       "  </thead>\n",
       "  <tbody>\n",
       "    <tr>\n",
       "      <th>0</th>\n",
       "      <td>0</td>\n",
       "      <td>101021007</td>\n",
       "      <td>11007</td>\n",
       "      <td>Braidwood</td>\n",
       "      <td>10102</td>\n",
       "      <td>Queanbeyan</td>\n",
       "      <td>101</td>\n",
       "      <td>Capital Region</td>\n",
       "      <td>1RNSW</td>\n",
       "      <td>Rest of NSW</td>\n",
       "      <td>1</td>\n",
       "      <td>New South Wales</td>\n",
       "      <td>3418.3525</td>\n",
       "      <td>POLYGON ((149.58423 -35.44427, 149.58444 -35.4...</td>\n",
       "    </tr>\n",
       "  </tbody>\n",
       "</table>\n",
       "</div>"
      ],
      "text/plain": [
       "   g_id sa2_main16 sa2_5dig16 sa2_name16 sa3_code    sa3_name sa4_code  \\\n",
       "0     0  101021007      11007  Braidwood    10102  Queanbeyan      101   \n",
       "\n",
       "         sa4_name gcc_code     gcc_name ste_code         ste_name  areasqkm16  \\\n",
       "0  Capital Region    1RNSW  Rest of NSW        1  New South Wales   3418.3525   \n",
       "\n",
       "                                            geometry  \n",
       "0  POLYGON ((149.58423 -35.44427, 149.58444 -35.4...  "
      ]
     },
     "execution_count": 14,
     "metadata": {},
     "output_type": "execute_result"
    }
   ],
   "source": [
    "sa2_gdf = gpd.read_file('./data/1270055001_sa2_2016_aust_shape/SA2_2016_AUST.shp')\n",
    "\n",
    "print(sa2_gdf.crs) # Check EPSG / CRS -- 4283 = GDA94\n",
    "\n",
    "sa2_gdf.columns = [x.lower() for x in sa2_gdf.columns] # lower case col names\n",
    "\n",
    "# Recreate incrementing 'g_id' (0 index)\n",
    "sa2_gdf.insert(loc=0, column='g_id', value=sa2_gdf.index)\n",
    "\n",
    "# Changing column names according to assignment sheet\n",
    "sa2_gdf=sa2_gdf.rename(columns={'sa3_code16':'sa3_code', 'sa3_name16':'sa3_name', 'sa4_code16':'sa4_code', 'sa4_name16':'sa4_name', 'gcc_code16':'gcc_code', 'gcc_name16':'gcc_name', 'ste_code16':'ste_code', 'ste_name16':'ste_name'})\n",
    "\n",
    "sa2_gdf['sa2_main16'] = sa2_gdf['sa2_main16'].astype('str')\n",
    "\n",
    "sa2_gdf.head(1)"
   ]
  },
  {
   "cell_type": "code",
   "execution_count": 15,
   "metadata": {},
   "outputs": [
    {
     "name": "stdout",
     "output_type": "stream",
     "text": [
      "2310\n",
      "Polygon         2083\n",
      "MultiPolygon     209\n",
      "dtype: int64\n",
      "Null geometry count: 18\n"
     ]
    }
   ],
   "source": [
    "# Check geometries\n",
    "print(len(sa2_gdf))\n",
    "print(sa2_gdf.geometry.type.value_counts())\n",
    "no_geoms_sa2 = sum(sa2_gdf.geometry.type.isna())\n",
    "print(f'Null geometry count: {no_geoms_sa2}')"
   ]
  },
  {
   "cell_type": "code",
   "execution_count": 16,
   "metadata": {},
   "outputs": [
    {
     "data": {
      "text/html": [
       "<div>\n",
       "<style scoped>\n",
       "    .dataframe tbody tr th:only-of-type {\n",
       "        vertical-align: middle;\n",
       "    }\n",
       "\n",
       "    .dataframe tbody tr th {\n",
       "        vertical-align: top;\n",
       "    }\n",
       "\n",
       "    .dataframe thead th {\n",
       "        text-align: right;\n",
       "    }\n",
       "</style>\n",
       "<table border=\"1\" class=\"dataframe\">\n",
       "  <thead>\n",
       "    <tr style=\"text-align: right;\">\n",
       "      <th></th>\n",
       "      <th>g_id</th>\n",
       "      <th>sa2_main16</th>\n",
       "      <th>sa2_5dig16</th>\n",
       "      <th>sa2_name16</th>\n",
       "      <th>sa3_code</th>\n",
       "      <th>sa3_name</th>\n",
       "      <th>sa4_code</th>\n",
       "      <th>sa4_name</th>\n",
       "      <th>gcc_code</th>\n",
       "      <th>gcc_name</th>\n",
       "      <th>ste_code</th>\n",
       "      <th>ste_name</th>\n",
       "      <th>areasqkm16</th>\n",
       "      <th>geometry</th>\n",
       "    </tr>\n",
       "  </thead>\n",
       "  <tbody>\n",
       "    <tr>\n",
       "      <th>576</th>\n",
       "      <td>576</td>\n",
       "      <td>197979799</td>\n",
       "      <td>19799</td>\n",
       "      <td>Migratory - Offshore - Shipping (NSW)</td>\n",
       "      <td>19797</td>\n",
       "      <td>Migratory - Offshore - Shipping (NSW)</td>\n",
       "      <td>197</td>\n",
       "      <td>Migratory - Offshore - Shipping (NSW)</td>\n",
       "      <td>19799</td>\n",
       "      <td>Migratory - Offshore - Shipping (NSW)</td>\n",
       "      <td>1</td>\n",
       "      <td>New South Wales</td>\n",
       "      <td>0.0</td>\n",
       "      <td>None</td>\n",
       "    </tr>\n",
       "  </tbody>\n",
       "</table>\n",
       "</div>"
      ],
      "text/plain": [
       "     g_id sa2_main16 sa2_5dig16                             sa2_name16  \\\n",
       "576   576  197979799      19799  Migratory - Offshore - Shipping (NSW)   \n",
       "\n",
       "    sa3_code                               sa3_name sa4_code  \\\n",
       "576    19797  Migratory - Offshore - Shipping (NSW)      197   \n",
       "\n",
       "                                  sa4_name gcc_code  \\\n",
       "576  Migratory - Offshore - Shipping (NSW)    19799   \n",
       "\n",
       "                                  gcc_name ste_code         ste_name  \\\n",
       "576  Migratory - Offshore - Shipping (NSW)        1  New South Wales   \n",
       "\n",
       "     areasqkm16 geometry  \n",
       "576         0.0     None  "
      ]
     },
     "execution_count": 16,
     "metadata": {},
     "output_type": "execute_result"
    }
   ],
   "source": [
    "sa2_gdf.loc[sa2_gdf.geometry.type.isna()].head(1)"
   ]
  },
  {
   "cell_type": "code",
   "execution_count": 17,
   "metadata": {},
   "outputs": [
    {
     "name": "stdout",
     "output_type": "stream",
     "text": [
      "New South Wales                 578\n",
      "Queensland                      530\n",
      "Victoria                        464\n",
      "Western Australia               254\n",
      "South Australia                 174\n",
      "Australian Capital Territory    133\n",
      "Tasmania                        101\n",
      "Northern Territory               70\n",
      "Other Territories                 6\n",
      "Name: ste_name, dtype: int64\n",
      "\n",
      "\n",
      "Greater Sydney                           312\n",
      "Rest of NSW                              264\n",
      "Migratory - Offshore - Shipping (NSW)      1\n",
      "No usual address (NSW)                     1\n",
      "Name: gcc_name, dtype: int64\n"
     ]
    }
   ],
   "source": [
    "# Inspection / preliminary exploration\n",
    "print(sa2_gdf.ste_name.value_counts()) # Confirm federal level dataset\n",
    "print(\"\\n\")\n",
    "print(sa2_gdf.loc[sa2_gdf.ste_name==\"New South Wales\"]['gcc_name'].value_counts()) # Confirm Greater Sydney GCCSA"
   ]
  },
  {
   "cell_type": "code",
   "execution_count": 18,
   "metadata": {},
   "outputs": [],
   "source": [
    "# POSSIBLE DECISION: REMOVE THE 18 ROWS WHERE NO SPATIAL JOINS OR FUNCTIONS CAN BE PERFORMED (NULL GEOMETRIES)\n",
    "\n",
    "#sa2_gdf = sa2_gdf[sa2_gdf['geometry'].notna()]\n",
    "#print(sa2_gdf.loc[sa2_gdf.ste_name==\"New South Wales\"]['gcc_name'].value_counts())"
   ]
  },
  {
   "cell_type": "markdown",
   "metadata": {},
   "source": [
    "### Additional dataset: Telephone Exchanges NSW\n",
    "#### Geodataframe created from a retrieved JSON from ArcGIS REST Web Service provided by Geoscience Australia"
   ]
  },
  {
   "cell_type": "code",
   "execution_count": 19,
   "metadata": {},
   "outputs": [
    {
     "name": "stdout",
     "output_type": "stream",
     "text": [
      "EPSG:\n",
      "{'wkid': 4283, 'latestWkid': 4283}\n"
     ]
    },
    {
     "data": {
      "text/html": [
       "<div>\n",
       "<style scoped>\n",
       "    .dataframe tbody tr th:only-of-type {\n",
       "        vertical-align: middle;\n",
       "    }\n",
       "\n",
       "    .dataframe tbody tr th {\n",
       "        vertical-align: top;\n",
       "    }\n",
       "\n",
       "    .dataframe thead th {\n",
       "        text-align: right;\n",
       "    }\n",
       "</style>\n",
       "<table border=\"1\" class=\"dataframe\">\n",
       "  <thead>\n",
       "    <tr style=\"text-align: right;\">\n",
       "      <th></th>\n",
       "      <th>name</th>\n",
       "      <th>geometry</th>\n",
       "    </tr>\n",
       "  </thead>\n",
       "  <tbody>\n",
       "    <tr>\n",
       "      <th>574</th>\n",
       "      <td>Wooli</td>\n",
       "      <td>POINT (153.25366 -29.80452)</td>\n",
       "    </tr>\n",
       "    <tr>\n",
       "      <th>575</th>\n",
       "      <td>Wisemans Ferry</td>\n",
       "      <td>POINT (150.98660 -33.38578)</td>\n",
       "    </tr>\n",
       "    <tr>\n",
       "      <th>576</th>\n",
       "      <td>Werombi</td>\n",
       "      <td>POINT (150.57313 -33.97689)</td>\n",
       "    </tr>\n",
       "    <tr>\n",
       "      <th>577</th>\n",
       "      <td>Maraylya</td>\n",
       "      <td>POINT (150.91293 -33.59606)</td>\n",
       "    </tr>\n",
       "    <tr>\n",
       "      <th>578</th>\n",
       "      <td>Kemps Creek</td>\n",
       "      <td>POINT (150.82714 -33.87712)</td>\n",
       "    </tr>\n",
       "  </tbody>\n",
       "</table>\n",
       "</div>"
      ],
      "text/plain": [
       "               name                     geometry\n",
       "574           Wooli  POINT (153.25366 -29.80452)\n",
       "575  Wisemans Ferry  POINT (150.98660 -33.38578)\n",
       "576         Werombi  POINT (150.57313 -33.97689)\n",
       "577        Maraylya  POINT (150.91293 -33.59606)\n",
       "578     Kemps Creek  POINT (150.82714 -33.87712)"
      ]
     },
     "execution_count": 19,
     "metadata": {},
     "output_type": "execute_result"
    },
    {
     "data": {
      "image/png": "[encoded data removed]",
      "text/plain": [
       "<Figure size 432x288 with 1 Axes>"
      ]
     },
     "metadata": {
      "needs_background": "light"
     },
     "output_type": "display_data"
    }
   ],
   "source": [
    "# Geoscience Australia - National Telephone Exchanges ArcGIS REST Web Service (Open API - no key required)\n",
    "# https://services.ga.gov.au/gis/rest/services/Telephone_Exchanges/MapServer/0\n",
    "# Usage permitted under Creative Commons Attribution 4.0 International Licence\n",
    "\n",
    "# This service requires a relational model style syntax for its parameters, \n",
    "# e.g. WHERE (STATE)='New South Wales'\n",
    "# These params then need to be converted to URL encoded characters for making the endpoint GET request\n",
    "\n",
    "# We query the active communications exchanges in New South Wales to form our additional dataset\n",
    "# with parameter: format = json\n",
    "\n",
    "query_param = \"%28STATE%29%3D%27New+South+Wales%27\" # (STATE)='New South Wales'\n",
    "response = requests.get(\"https://services.ga.gov.au/gis/rest/services/Telephone_Exchanges/MapServer/0/query?where=\"+\n",
    "                        query_param+\n",
    "                        \"&f=json\")\n",
    "\n",
    "assert response.status_code == 200\n",
    "\n",
    "exchanges_json = response.json()\n",
    "\n",
    "# We have inspected the full JSON result in previous requests and deploy the keys accordingly\n",
    "\n",
    "print('EPSG:\\n' + str(exchanges_json['spatialReference'])) # Confirmed GDA94\n",
    "\n",
    "# Convert results to pandas dataframe\n",
    "names_recs = []\n",
    "longs = []\n",
    "lats = []\n",
    "\n",
    "for i in range(0, len(exchanges_json['features'])):\n",
    "    item_name = exchanges_json['features'][i]['attributes']['name']\n",
    "    item_long = exchanges_json['features'][i]['geometry']['x']\n",
    "    item_lat = exchanges_json['features'][i]['geometry']['y']\n",
    "    names_recs.append(item_name)\n",
    "    longs.append(item_long)\n",
    "    lats.append(item_lat)\n",
    "\n",
    "names_series = pd.Series(names_recs)\n",
    "longs_series = pd.Series(longs)\n",
    "lats_series = pd.Series(lats)\n",
    "\n",
    "exchanges_df = pd.DataFrame({'name': names_series, 'longitude': longs_series,\n",
    "                            'latitude': lats_series})\n",
    "\n",
    "# Convert the df to geodataframe where longitude and latitude are combined into POINT geometries\n",
    "exchanges_gdf = gpd.GeoDataFrame(exchanges_df,\n",
    "                                       geometry=gpd.points_from_xy(exchanges_df.longitude, exchanges_df.latitude))\n",
    "\n",
    "exchanges_gdf = exchanges_gdf.drop(columns=['longitude', 'latitude'])\n",
    "exchanges_gdf.plot(color='white', edgecolor='red')\n",
    "exchanges_gdf.tail()\n"
   ]
  },
  {
   "cell_type": "markdown",
   "metadata": {},
   "source": [
    "### Connecting with Database and Creation of Tables"
   ]
  },
  {
   "cell_type": "code",
   "execution_count": 20,
   "metadata": {},
   "outputs": [
    {
     "name": "stdout",
     "output_type": "stream",
     "text": [
      "function setup successful.\n"
     ]
    }
   ],
   "source": [
    "### ---------------ATTN MARKER \n",
    "# - RUN THIS---------------\n",
    "\n",
    "# ASSUME THIS WORKS MOST GENERALLY E.g. FOR RUNNING IN USYD SERVER\n",
    "\n",
    "# Function for accessing Postgres DB (SOURCE: DATA2001 Lab materials) - Eugene\n",
    "\n",
    "def pgconnect_using_credfile(credential_filepath):\n",
    "    try:\n",
    "        with open(credential_filepath) as f:\n",
    "            db_conn_dict = json.load(f)\n",
    "        connstring = 'postgres+psycopg2://'+db_conn_dict['user']+':'+db_conn_dict['password']+'@'+db_conn_dict['host']+'/'+db_conn_dict['database']\n",
    "        db = create_engine(connstring, echo=False)\n",
    "        conn = db.connect()\n",
    "        print('connected')\n",
    "    except Exception as e:\n",
    "        print(\"unable to connect to the database\")\n",
    "        print(e)\n",
    "        return None\n",
    "    return db,conn\n",
    "\n",
    "print(\"function setup successful.\")"
   ]
  },
  {
   "cell_type": "code",
   "execution_count": 72,
   "metadata": {},
   "outputs": [],
   "source": [
    "### ---------------ATTN MARKER - DO *NOT* RUN---------------\n",
    "# Alternative Function for accessing Postgres DB (SOURCE: DATA2001 Lab materials) - Matthew\n",
    "# JUST FOR MATTHEW\n",
    "\n",
    "def pgconnect_using_credfile(credential_filepath):\n",
    "    try:\n",
    "        args = {\n",
    "            'sslmode':'disable',\n",
    "            'gssencmode':'disable'\n",
    "        }\n",
    "        with open(credential_filepath) as f:\n",
    "            db_conn_dict = json.load(f)\n",
    "        connstring = 'postgresql+psycopg2://'+db_conn_dict['user']+':'+db_conn_dict['password']+'@'+db_conn_dict['host']+'/'+db_conn_dict['database']\n",
    "        db = create_engine(connstring, echo=False, connect_args=args)\n",
    "        conn = db.connect()\n",
    "        print('connected')\n",
    "    except Exception as e:\n",
    "        print(\"unable to connect to the database\")\n",
    "        print(e)\n",
    "        return None\n",
    "    return db,conn"
   ]
  },
  {
   "cell_type": "code",
   "execution_count": 75,
   "metadata": {},
   "outputs": [
    {
     "name": "stdout",
     "output_type": "stream",
     "text": [
      "connected\n"
     ]
    }
   ],
   "source": [
    "# Connect to University server student Postgres DB\n",
    "\n",
    "credfilepath = './data2x01_db.json' # Internal note: not tracked on Git, must be locally available. \n",
    "# Eugene's credentials JSON to be uploaded in submission\n",
    "\n",
    "db, conn = pgconnect_using_credfile(credfilepath)"
   ]
  },
  {
   "cell_type": "code",
   "execution_count": 73,
   "metadata": {},
   "outputs": [
    {
     "name": "stdout",
     "output_type": "stream",
     "text": [
      "function setup successful.\n"
     ]
    }
   ],
   "source": [
    "# Function for querying the PostgreSQL DB.\n",
    "# Returns value and a converted dataframe (SOURCE: DATA2001 Lab materials)\n",
    "\n",
    "def pgquery( conn, sqlcmd, args=None, silent=False ):\n",
    "    \"\"\" utility function to execute some SQL query statement\n",
    "    can take optional arguments to fill in (dictionary)\n",
    "    will print out on screen the result set of the query\n",
    "    error and transaction handling built-in \"\"\"\n",
    "    retdf = pd.DataFrame()\n",
    "    retval = False\n",
    "    try:\n",
    "        if args is None:\n",
    "            retdf = pd.read_sql_query(sqlcmd,conn)\n",
    "        else:\n",
    "            retdf = pd.read_sql_query(sqlcmd,conn,params=args)\n",
    "        if silent == False:\n",
    "            print(retdf.shape)\n",
    "            print(retdf.to_string())\n",
    "        retval = True\n",
    "    except Exception as e:\n",
    "        if silent == False:\n",
    "            print(\"db read error: \")\n",
    "            print(e)\n",
    "    return retval,retdf\n",
    "\n",
    "print(\"function setup successful.\")"
   ]
  },
  {
   "cell_type": "code",
   "execution_count": 24,
   "metadata": {},
   "outputs": [
    {
     "name": "stdout",
     "output_type": "stream",
     "text": [
      "(1, 1)\n",
      "                         postgis_version\n",
      "0  3.0 USE_GEOS=1 USE_PROJ=1 USE_STATS=1\n"
     ]
    },
    {
     "data": {
      "text/html": [
       "<div>\n",
       "<style scoped>\n",
       "    .dataframe tbody tr th:only-of-type {\n",
       "        vertical-align: middle;\n",
       "    }\n",
       "\n",
       "    .dataframe tbody tr th {\n",
       "        vertical-align: top;\n",
       "    }\n",
       "\n",
       "    .dataframe thead th {\n",
       "        text-align: right;\n",
       "    }\n",
       "</style>\n",
       "<table border=\"1\" class=\"dataframe\">\n",
       "  <thead>\n",
       "    <tr style=\"text-align: right;\">\n",
       "      <th></th>\n",
       "      <th>postgis_version</th>\n",
       "    </tr>\n",
       "  </thead>\n",
       "  <tbody>\n",
       "    <tr>\n",
       "      <th>0</th>\n",
       "      <td>3.0 USE_GEOS=1 USE_PROJ=1 USE_STATS=1</td>\n",
       "    </tr>\n",
       "  </tbody>\n",
       "</table>\n",
       "</div>"
      ],
      "text/plain": [
       "                         postgis_version\n",
       "0  3.0 USE_GEOS=1 USE_PROJ=1 USE_STATS=1"
      ]
     },
     "execution_count": 24,
     "metadata": {},
     "output_type": "execute_result"
    }
   ],
   "source": [
    "# Checking we have PostGIS working on our connection (SOURCE: DATA2001 Lab materials)\n",
    "\n",
    "postgis_check = '''\n",
    "SELECT PostGIS_Version();\n",
    "'''\n",
    "\n",
    "retval,retdf = pgquery(conn,postgis_check)\n",
    "retdf"
   ]
  },
  {
   "cell_type": "markdown",
   "metadata": {},
   "source": [
    "### Creation of Database Tables (from dataframes)"
   ]
  },
  {
   "cell_type": "code",
   "execution_count": 25,
   "metadata": {},
   "outputs": [
    {
     "name": "stdout",
     "output_type": "stream",
     "text": [
      "['spatial_ref_sys', 'exchanges']\n"
     ]
    },
    {
     "name": "stderr",
     "output_type": "stream",
     "text": [
      "<ipython-input-25-36d40393d6b7>:2: SADeprecationWarning: The Engine.table_names() method is deprecated and will be removed in a future release.  Please refer to Inspector.get_table_names(). (deprecated since: 1.4)\n",
      "  print(db.table_names())\n"
     ]
    }
   ],
   "source": [
    "# Check existing tables in Postgres DB public schema\n",
    "print(db.table_names())"
   ]
  },
  {
   "cell_type": "code",
   "execution_count": 26,
   "metadata": {},
   "outputs": [
    {
     "data": {
      "text/plain": [
       "True     322\n",
       "False    109\n",
       "Name: exists, dtype: int64"
      ]
     },
     "execution_count": 26,
     "metadata": {},
     "output_type": "execute_result"
    }
   ],
   "source": [
    "# Establishing set relationships between tables\n",
    "test_df = stat_areas_df.copy() # 431 unique area_ids exist in statisticalareas\n",
    "subset = set(nbhd_df.area_id.unique()) # 322 unique area_ids exist in neighbourhoods\n",
    "test_df['exists'] = stat_areas_df.area_id.map(lambda x : True if x in subset else False)\n",
    "test_df['exists'].value_counts()\n",
    "\n",
    "# Statisticalareas contains a set of area_ids of which the set of neighbourhoods area_id values is a subset \n",
    "# (It is a PK in its own table and an FK in relation to statisticalareas)"
   ]
  },
  {
   "cell_type": "code",
   "execution_count": 27,
   "metadata": {},
   "outputs": [
    {
     "name": "stdout",
     "output_type": "stream",
     "text": [
      "323\n"
     ]
    },
    {
     "data": {
      "text/plain": [
       "False    1987\n",
       "True      323\n",
       "Name: exists, dtype: int64"
      ]
     },
     "execution_count": 27,
     "metadata": {},
     "output_type": "execute_result"
    }
   ],
   "source": [
    "sa2s_in_statareas = stat_areas_df.loc[stat_areas_df['area_id'].str.len() == 9]\n",
    "print(len(sa2s_in_statareas))\n",
    "\n",
    "test_df2 = sa2_gdf.copy()\n",
    "subset2 = set(sa2s_in_statareas.area_id.unique())\n",
    "test_df2['exists'] = sa2_gdf.sa2_main16.map(lambda x : True if x in subset2 else False)\n",
    "test_df2['exists'].value_counts()"
   ]
  },
  {
   "cell_type": "markdown",
   "metadata": {},
   "source": [
    "#### Statistical Areas"
   ]
  },
  {
   "cell_type": "code",
   "execution_count": 28,
   "metadata": {},
   "outputs": [
    {
     "data": {
      "text/plain": [
       "<sqlalchemy.engine.cursor.LegacyCursorResult at 0x24c4e92cb20>"
      ]
     },
     "execution_count": 28,
     "metadata": {},
     "output_type": "execute_result"
    }
   ],
   "source": [
    "conn.execute(\"DROP TABLE IF EXISTS statisticalareas\")\n",
    "\n",
    "stat_areas_create = '''CREATE TABLE statisticalareas (\n",
    "                     area_id VARCHAR NOT NULL,\n",
    "                     area_name VARCHAR NOT NULL,\n",
    "                     parent_area_id VARCHAR NOT NULL,\n",
    "                     CONSTRAINT statisticalareas_pkey PRIMARY KEY (area_id)\n",
    "                     )'''\n",
    "\n",
    "conn.execute(stat_areas_create)"
   ]
  },
  {
   "cell_type": "code",
   "execution_count": 29,
   "metadata": {},
   "outputs": [
    {
     "name": "stdout",
     "output_type": "stream",
     "text": [
      "Data inserted into Table\n",
      "(1, 3)\n",
      "  area_id        area_name parent_area_id\n",
      "0       1  New South Wales              0\n"
     ]
    },
    {
     "data": {
      "text/html": [
       "<div>\n",
       "<style scoped>\n",
       "    .dataframe tbody tr th:only-of-type {\n",
       "        vertical-align: middle;\n",
       "    }\n",
       "\n",
       "    .dataframe tbody tr th {\n",
       "        vertical-align: top;\n",
       "    }\n",
       "\n",
       "    .dataframe thead th {\n",
       "        text-align: right;\n",
       "    }\n",
       "</style>\n",
       "<table border=\"1\" class=\"dataframe\">\n",
       "  <thead>\n",
       "    <tr style=\"text-align: right;\">\n",
       "      <th></th>\n",
       "      <th>area_id</th>\n",
       "      <th>area_name</th>\n",
       "      <th>parent_area_id</th>\n",
       "    </tr>\n",
       "  </thead>\n",
       "  <tbody>\n",
       "    <tr>\n",
       "      <th>0</th>\n",
       "      <td>1</td>\n",
       "      <td>New South Wales</td>\n",
       "      <td>0</td>\n",
       "    </tr>\n",
       "  </tbody>\n",
       "</table>\n",
       "</div>"
      ],
      "text/plain": [
       "  area_id        area_name parent_area_id\n",
       "0       1  New South Wales              0"
      ]
     },
     "execution_count": 29,
     "metadata": {},
     "output_type": "execute_result"
    }
   ],
   "source": [
    "# Insert dataset\n",
    "stat_areas_df.to_sql('statisticalareas', con = conn, if_exists = 'append', index=False)\n",
    "print('Data inserted into Table')\n",
    "\n",
    "# Check table\n",
    "a_response, a_df = pgquery(conn, \"\"\"SELECT * FROM statisticalareas\n",
    "LIMIT 1;\"\"\")\n",
    "a_df.head()"
   ]
  },
  {
   "cell_type": "markdown",
   "metadata": {},
   "source": [
    "#### Neighbourhoods"
   ]
  },
  {
   "cell_type": "code",
   "execution_count": 30,
   "metadata": {},
   "outputs": [
    {
     "data": {
      "text/plain": [
       "<sqlalchemy.engine.cursor.LegacyCursorResult at 0x24c4be4c460>"
      ]
     },
     "execution_count": 30,
     "metadata": {},
     "output_type": "execute_result"
    }
   ],
   "source": [
    "conn.execute(\"DROP TABLE IF EXISTS neighbourhoods\")\n",
    "\n",
    "neighbourhoods_create = '''CREATE TABLE neighbourhoods (\n",
    "                     area_id VARCHAR NOT NULL,\n",
    "                     area_name VARCHAR NOT NULL,\n",
    "                     land_area FLOAT NOT NULL,\n",
    "                     population NUMERIC,\n",
    "                     dwellings NUMERIC NOT NULL,\n",
    "                     businesses NUMERIC,\n",
    "                     median_income NUMERIC,\n",
    "                     avg_monthly_rent NUMERIC,\n",
    "                     CONSTRAINT neighbourhoods_pkey PRIMARY KEY (area_id),\n",
    "                     CONSTRAINT neighbourhoods_fkey1 FOREIGN KEY(area_id) REFERENCES statisticalareas(area_id)\n",
    "                     )'''\n",
    "\n",
    "# ALLOW NULL for 'population' 'businesses' avg_monthly_rent' 'median_income'\n",
    "# CONSIDER PREPROCESS CLEANING LATER\n",
    "\n",
    "conn.execute(neighbourhoods_create)"
   ]
  },
  {
   "cell_type": "code",
   "execution_count": 31,
   "metadata": {},
   "outputs": [
    {
     "name": "stdout",
     "output_type": "stream",
     "text": [
      "Data inserted into Table\n",
      "(1, 8)\n",
      "     area_id                 area_name  land_area  population  dwellings  businesses  median_income  avg_monthly_rent\n",
      "0  102011028  Avoca Beach - Copacabana      643.8      7590.0     2325.0       738.0        46996.0            1906.0\n"
     ]
    },
    {
     "data": {
      "text/html": [
       "<div>\n",
       "<style scoped>\n",
       "    .dataframe tbody tr th:only-of-type {\n",
       "        vertical-align: middle;\n",
       "    }\n",
       "\n",
       "    .dataframe tbody tr th {\n",
       "        vertical-align: top;\n",
       "    }\n",
       "\n",
       "    .dataframe thead th {\n",
       "        text-align: right;\n",
       "    }\n",
       "</style>\n",
       "<table border=\"1\" class=\"dataframe\">\n",
       "  <thead>\n",
       "    <tr style=\"text-align: right;\">\n",
       "      <th></th>\n",
       "      <th>area_id</th>\n",
       "      <th>area_name</th>\n",
       "      <th>land_area</th>\n",
       "      <th>population</th>\n",
       "      <th>dwellings</th>\n",
       "      <th>businesses</th>\n",
       "      <th>median_income</th>\n",
       "      <th>avg_monthly_rent</th>\n",
       "    </tr>\n",
       "  </thead>\n",
       "  <tbody>\n",
       "    <tr>\n",
       "      <th>0</th>\n",
       "      <td>102011028</td>\n",
       "      <td>Avoca Beach - Copacabana</td>\n",
       "      <td>643.8</td>\n",
       "      <td>7590.0</td>\n",
       "      <td>2325.0</td>\n",
       "      <td>738.0</td>\n",
       "      <td>46996.0</td>\n",
       "      <td>1906.0</td>\n",
       "    </tr>\n",
       "  </tbody>\n",
       "</table>\n",
       "</div>"
      ],
      "text/plain": [
       "     area_id                 area_name  land_area  population  dwellings  \\\n",
       "0  102011028  Avoca Beach - Copacabana      643.8      7590.0     2325.0   \n",
       "\n",
       "   businesses  median_income  avg_monthly_rent  \n",
       "0       738.0        46996.0            1906.0  "
      ]
     },
     "execution_count": 31,
     "metadata": {},
     "output_type": "execute_result"
    }
   ],
   "source": [
    "# Insert dataset\n",
    "nbhd_df.to_sql('neighbourhoods', con = conn, if_exists = 'append', index=False)\n",
    "print('Data inserted into Table')\n",
    "\n",
    "# Check table\n",
    "a_response, a_df = pgquery(conn, \"\"\"SELECT * FROM neighbourhoods\n",
    "LIMIT 1;\"\"\")\n",
    "a_df.head()"
   ]
  },
  {
   "cell_type": "markdown",
   "metadata": {},
   "source": [
    "#### Business Stats"
   ]
  },
  {
   "cell_type": "code",
   "execution_count": 32,
   "metadata": {},
   "outputs": [
    {
     "data": {
      "text/plain": [
       "<sqlalchemy.engine.cursor.LegacyCursorResult at 0x24c4e090f10>"
      ]
     },
     "execution_count": 32,
     "metadata": {},
     "output_type": "execute_result"
    }
   ],
   "source": [
    "conn.execute(\"DROP TABLE IF EXISTS businessstats\")\n",
    "\n",
    "business_create = '''CREATE TABLE businessstats (\n",
    "                     area_id VARCHAR NOT NULL,\n",
    "                     number_of_businesses NUMERIC NOT NULL,\n",
    "                     accommodation_and_food NUMERIC NOT NULL,\n",
    "                     retail_trade NUMERIC NOT NULL,\n",
    "                     agriculture_forestry_and_fishing NUMERIC NOT NULL,\n",
    "                     health_care_and_social_assistance NUMERIC NOT NULL,\n",
    "                     public_administration_and_safety NUMERIC NOT NULL,\n",
    "                     transport_postal_and_warehousing NUMERIC NOT NULL,\n",
    "                     CONSTRAINT businessstats_pkey PRIMARY KEY (area_id)\n",
    "                     )'''\n",
    "\n",
    "conn.execute(business_create)"
   ]
  },
  {
   "cell_type": "code",
   "execution_count": 33,
   "metadata": {},
   "outputs": [
    {
     "name": "stdout",
     "output_type": "stream",
     "text": [
      "Data inserted into Table\n",
      "(1, 1)\n",
      "   count\n",
      "0   2301\n"
     ]
    }
   ],
   "source": [
    "busi_stat_df.to_sql('businessstats', con = conn, if_exists = 'append', index=False)\n",
    "print('Data inserted into Table')\n",
    "\n",
    "# Check table\n",
    "a_response, a_df = pgquery(conn, \"\"\"SELECT COUNT(*) FROM businessstats\n",
    "LIMIT 1;\"\"\")"
   ]
  },
  {
   "cell_type": "code",
   "execution_count": 76,
   "metadata": {},
   "outputs": [
    {
     "name": "stdout",
     "output_type": "stream",
     "text": [
      "(1, 8)\n",
      "     area_id  number_of_businesses  accommodation_and_food  retail_trade  agriculture_forestry_and_fishing  health_care_and_social_assistance  public_administration_and_safety  transport_postal_and_warehousing\n",
      "0  101021007                 629.0                    26.0          27.0                             280.0                               11.0                               0.0                              35.0\n"
     ]
    },
    {
     "data": {
      "text/html": [
       "<div>\n",
       "<style scoped>\n",
       "    .dataframe tbody tr th:only-of-type {\n",
       "        vertical-align: middle;\n",
       "    }\n",
       "\n",
       "    .dataframe tbody tr th {\n",
       "        vertical-align: top;\n",
       "    }\n",
       "\n",
       "    .dataframe thead th {\n",
       "        text-align: right;\n",
       "    }\n",
       "</style>\n",
       "<table border=\"1\" class=\"dataframe\">\n",
       "  <thead>\n",
       "    <tr style=\"text-align: right;\">\n",
       "      <th></th>\n",
       "      <th>area_id</th>\n",
       "      <th>number_of_businesses</th>\n",
       "      <th>accommodation_and_food</th>\n",
       "      <th>retail_trade</th>\n",
       "      <th>agriculture_forestry_and_fishing</th>\n",
       "      <th>health_care_and_social_assistance</th>\n",
       "      <th>public_administration_and_safety</th>\n",
       "      <th>transport_postal_and_warehousing</th>\n",
       "    </tr>\n",
       "  </thead>\n",
       "  <tbody>\n",
       "    <tr>\n",
       "      <th>0</th>\n",
       "      <td>101021007</td>\n",
       "      <td>629.0</td>\n",
       "      <td>26.0</td>\n",
       "      <td>27.0</td>\n",
       "      <td>280.0</td>\n",
       "      <td>11.0</td>\n",
       "      <td>0.0</td>\n",
       "      <td>35.0</td>\n",
       "    </tr>\n",
       "  </tbody>\n",
       "</table>\n",
       "</div>"
      ],
      "text/plain": [
       "     area_id  number_of_businesses  accommodation_and_food  retail_trade  \\\n",
       "0  101021007                 629.0                    26.0          27.0   \n",
       "\n",
       "   agriculture_forestry_and_fishing  health_care_and_social_assistance  \\\n",
       "0                             280.0                               11.0   \n",
       "\n",
       "   public_administration_and_safety  transport_postal_and_warehousing  \n",
       "0                               0.0                              35.0  "
      ]
     },
     "execution_count": 76,
     "metadata": {},
     "output_type": "execute_result"
    }
   ],
   "source": [
    "a_response, a_df = pgquery(conn, \"\"\"SELECT * FROM businessstats\n",
    "LIMIT 1;\"\"\")\n",
    "a_df.head()"
   ]
  },
  {
   "cell_type": "markdown",
   "metadata": {},
   "source": [
    "### Creation of Database Tables (from geodataframes)"
   ]
  },
  {
   "cell_type": "markdown",
   "metadata": {},
   "source": [
    "#### RFS NSW Bushfire Prone Land - shapefile"
   ]
  },
  {
   "cell_type": "code",
   "execution_count": 35,
   "metadata": {},
   "outputs": [],
   "source": [
    "# WKT point geom creation function (SOURCE: DATA2001 Lab materials)\n",
    "\n",
    "def create_wkt_point_element(geom,srid):\n",
    "    return WKTElement(geom.wkt, srid) #WKT stands for well-known text representation, i.e. its a markup language for representing vector geometry object"
   ]
  },
  {
   "cell_type": "code",
   "execution_count": 36,
   "metadata": {},
   "outputs": [
    {
     "data": {
      "text/html": [
       "<div>\n",
       "<style scoped>\n",
       "    .dataframe tbody tr th:only-of-type {\n",
       "        vertical-align: middle;\n",
       "    }\n",
       "\n",
       "    .dataframe tbody tr th {\n",
       "        vertical-align: top;\n",
       "    }\n",
       "\n",
       "    .dataframe thead th {\n",
       "        text-align: right;\n",
       "    }\n",
       "</style>\n",
       "<table border=\"1\" class=\"dataframe\">\n",
       "  <thead>\n",
       "    <tr style=\"text-align: right;\">\n",
       "      <th></th>\n",
       "      <th>gid</th>\n",
       "      <th>category</th>\n",
       "      <th>shape_leng</th>\n",
       "      <th>shape_area</th>\n",
       "      <th>geom</th>\n",
       "    </tr>\n",
       "  </thead>\n",
       "  <tbody>\n",
       "    <tr>\n",
       "      <th>0</th>\n",
       "      <td>0</td>\n",
       "      <td>1</td>\n",
       "      <td>0.000017</td>\n",
       "      <td>5.392400e-12</td>\n",
       "      <td>POINT (149.1131894786667 -33.05824346699998)</td>\n",
       "    </tr>\n",
       "    <tr>\n",
       "      <th>1</th>\n",
       "      <td>1</td>\n",
       "      <td>1</td>\n",
       "      <td>0.000178</td>\n",
       "      <td>1.140005e-09</td>\n",
       "      <td>POINT (152.2753625074807 -29.68315654934266)</td>\n",
       "    </tr>\n",
       "    <tr>\n",
       "      <th>2</th>\n",
       "      <td>2</td>\n",
       "      <td>1</td>\n",
       "      <td>0.000890</td>\n",
       "      <td>4.950178e-08</td>\n",
       "      <td>POINT (152.1424400005001 -29.68265650149996)</td>\n",
       "    </tr>\n",
       "    <tr>\n",
       "      <th>3</th>\n",
       "      <td>3</td>\n",
       "      <td>1</td>\n",
       "      <td>0.000442</td>\n",
       "      <td>8.094091e-09</td>\n",
       "      <td>POINT (152.2757861369404 -29.68259377308781)</td>\n",
       "    </tr>\n",
       "    <tr>\n",
       "      <th>4</th>\n",
       "      <td>4</td>\n",
       "      <td>1</td>\n",
       "      <td>0.000890</td>\n",
       "      <td>4.950155e-08</td>\n",
       "      <td>POINT (151.996189999 -29.68130649949998)</td>\n",
       "    </tr>\n",
       "  </tbody>\n",
       "</table>\n",
       "</div>"
      ],
      "text/plain": [
       "   gid  category  shape_leng    shape_area  \\\n",
       "0    0         1    0.000017  5.392400e-12   \n",
       "1    1         1    0.000178  1.140005e-09   \n",
       "2    2         1    0.000890  4.950178e-08   \n",
       "3    3         1    0.000442  8.094091e-09   \n",
       "4    4         1    0.000890  4.950155e-08   \n",
       "\n",
       "                                           geom  \n",
       "0  POINT (149.1131894786667 -33.05824346699998)  \n",
       "1  POINT (152.2753625074807 -29.68315654934266)  \n",
       "2  POINT (152.1424400005001 -29.68265650149996)  \n",
       "3  POINT (152.2757861369404 -29.68259377308781)  \n",
       "4      POINT (151.996189999 -29.68130649949998)  "
      ]
     },
     "execution_count": 36,
     "metadata": {},
     "output_type": "execute_result"
    }
   ],
   "source": [
    "srid = 4283\n",
    "rfs_gdf['geom'] = rfs_gdf['geometry'].apply(lambda x: create_wkt_point_element(geom=x, srid=srid))\n",
    "rfs_gdf = rfs_gdf.drop(columns=\"geometry\")\n",
    "rfs_gdf.head()"
   ]
  },
  {
   "cell_type": "code",
   "execution_count": 37,
   "metadata": {},
   "outputs": [
    {
     "data": {
      "text/plain": [
       "<sqlalchemy.engine.cursor.LegacyCursorResult at 0x24c606c7670>"
      ]
     },
     "execution_count": 37,
     "metadata": {},
     "output_type": "execute_result"
    }
   ],
   "source": [
    "conn.execute(\"DROP TABLE IF EXISTS rfsnsw_bfpl\")\n",
    "\n",
    "rfs_bushfire_create = '''CREATE TABLE rfsnsw_bfpl (\n",
    "                     gid INTEGER PRIMARY KEY,\n",
    "                     category CHAR(1),\n",
    "                     shape_leng FLOAT,\n",
    "                     shape_area FLOAT,\n",
    "                     geom GEOMETRY(POINT, 4283)\n",
    "                     )'''\n",
    "\n",
    "conn.execute(rfs_bushfire_create)"
   ]
  },
  {
   "cell_type": "code",
   "execution_count": 38,
   "metadata": {},
   "outputs": [],
   "source": [
    "srid = 4283\n",
    "rfs_gdf.to_sql('rfsnsw_bfpl', conn, if_exists='append', index=False, \n",
    "                         dtype={'geom': Geometry('POINT', srid)})"
   ]
  },
  {
   "cell_type": "code",
   "execution_count": 39,
   "metadata": {},
   "outputs": [
    {
     "name": "stdout",
     "output_type": "stream",
     "text": [
      "(1, 5)\n",
      "   gid category  shape_leng    shape_area                                                geom\n",
      "0    0        1    0.000017  5.392400e-12  0101000020BB100000FEA38A3F9FA362403CFC9C85748740C0\n"
     ]
    },
    {
     "data": {
      "text/html": [
       "<div>\n",
       "<style scoped>\n",
       "    .dataframe tbody tr th:only-of-type {\n",
       "        vertical-align: middle;\n",
       "    }\n",
       "\n",
       "    .dataframe tbody tr th {\n",
       "        vertical-align: top;\n",
       "    }\n",
       "\n",
       "    .dataframe thead th {\n",
       "        text-align: right;\n",
       "    }\n",
       "</style>\n",
       "<table border=\"1\" class=\"dataframe\">\n",
       "  <thead>\n",
       "    <tr style=\"text-align: right;\">\n",
       "      <th></th>\n",
       "      <th>gid</th>\n",
       "      <th>category</th>\n",
       "      <th>shape_leng</th>\n",
       "      <th>shape_area</th>\n",
       "      <th>geom</th>\n",
       "    </tr>\n",
       "  </thead>\n",
       "  <tbody>\n",
       "    <tr>\n",
       "      <th>0</th>\n",
       "      <td>0</td>\n",
       "      <td>1</td>\n",
       "      <td>0.000017</td>\n",
       "      <td>5.392400e-12</td>\n",
       "      <td>0101000020BB100000FEA38A3F9FA362403CFC9C857487...</td>\n",
       "    </tr>\n",
       "  </tbody>\n",
       "</table>\n",
       "</div>"
      ],
      "text/plain": [
       "   gid category  shape_leng    shape_area  \\\n",
       "0    0        1    0.000017  5.392400e-12   \n",
       "\n",
       "                                                geom  \n",
       "0  0101000020BB100000FEA38A3F9FA362403CFC9C857487...  "
      ]
     },
     "execution_count": 39,
     "metadata": {},
     "output_type": "execute_result"
    }
   ],
   "source": [
    "# Check table\n",
    "a_response, a_df = pgquery(conn, \"\"\"SELECT * FROM rfsnsw_bfpl\n",
    "LIMIT 1;\"\"\")\n",
    "a_df.head()"
   ]
  },
  {
   "cell_type": "markdown",
   "metadata": {},
   "source": [
    "#### ABS Statistical Area 2 (2016) - shapefile"
   ]
  },
  {
   "cell_type": "code",
   "execution_count": 40,
   "metadata": {},
   "outputs": [
    {
     "name": "stdout",
     "output_type": "stream",
     "text": [
      "0\n"
     ]
    },
    {
     "name": "stderr",
     "output_type": "stream",
     "text": [
      "<ipython-input-40-aec642b6b250>:5: UserWarning: GeoSeries.isna() previously returned True for both missing (None) and empty geometries. Now, it only returns True for missing values. Since the calling GeoSeries contains empty geometries, the result has changed compared to previous versions of GeoPandas.\n",
      "Given a GeoSeries 's', you can use 's.is_empty | s.isna()' to get back the old behaviour.\n",
      "\n",
      "To further ignore this warning, you can do: \n",
      "import warnings; warnings.filterwarnings('ignore', 'GeoSeries.isna', UserWarning)\n",
      "  print(len(sa2_gdf.loc[sa2_gdf.geometry.isna()]))\n"
     ]
    },
    {
     "data": {
      "text/html": [
       "<div>\n",
       "<style scoped>\n",
       "    .dataframe tbody tr th:only-of-type {\n",
       "        vertical-align: middle;\n",
       "    }\n",
       "\n",
       "    .dataframe tbody tr th {\n",
       "        vertical-align: top;\n",
       "    }\n",
       "\n",
       "    .dataframe thead th {\n",
       "        text-align: right;\n",
       "    }\n",
       "</style>\n",
       "<table border=\"1\" class=\"dataframe\">\n",
       "  <thead>\n",
       "    <tr style=\"text-align: right;\">\n",
       "      <th></th>\n",
       "      <th>g_id</th>\n",
       "      <th>sa2_main16</th>\n",
       "      <th>sa2_5dig16</th>\n",
       "      <th>sa2_name16</th>\n",
       "      <th>sa3_code</th>\n",
       "      <th>sa3_name</th>\n",
       "      <th>sa4_code</th>\n",
       "      <th>sa4_name</th>\n",
       "      <th>gcc_code</th>\n",
       "      <th>gcc_name</th>\n",
       "      <th>ste_code</th>\n",
       "      <th>ste_name</th>\n",
       "      <th>areasqkm16</th>\n",
       "      <th>geometry</th>\n",
       "    </tr>\n",
       "  </thead>\n",
       "  <tbody>\n",
       "    <tr>\n",
       "      <th>2305</th>\n",
       "      <td>2305</td>\n",
       "      <td>901021002</td>\n",
       "      <td>91002</td>\n",
       "      <td>Cocos (Keeling) Islands</td>\n",
       "      <td>90102</td>\n",
       "      <td>Cocos (Keeling) Islands</td>\n",
       "      <td>901</td>\n",
       "      <td>Other Territories</td>\n",
       "      <td>9OTER</td>\n",
       "      <td>Other Territories</td>\n",
       "      <td>9</td>\n",
       "      <td>Other Territories</td>\n",
       "      <td>13.7163</td>\n",
       "      <td>MULTIPOLYGON (((96.83047 -12.17636, 96.83045 -...</td>\n",
       "    </tr>\n",
       "    <tr>\n",
       "      <th>2306</th>\n",
       "      <td>2306</td>\n",
       "      <td>901031003</td>\n",
       "      <td>91003</td>\n",
       "      <td>Jervis Bay</td>\n",
       "      <td>90103</td>\n",
       "      <td>Jervis Bay</td>\n",
       "      <td>901</td>\n",
       "      <td>Other Territories</td>\n",
       "      <td>9OTER</td>\n",
       "      <td>Other Territories</td>\n",
       "      <td>9</td>\n",
       "      <td>Other Territories</td>\n",
       "      <td>67.8134</td>\n",
       "      <td>MULTIPOLYGON (((150.69566 -35.18297, 150.69555...</td>\n",
       "    </tr>\n",
       "    <tr>\n",
       "      <th>2307</th>\n",
       "      <td>2307</td>\n",
       "      <td>901041004</td>\n",
       "      <td>91004</td>\n",
       "      <td>Norfolk Island</td>\n",
       "      <td>90104</td>\n",
       "      <td>Norfolk Island</td>\n",
       "      <td>901</td>\n",
       "      <td>Other Territories</td>\n",
       "      <td>9OTER</td>\n",
       "      <td>Other Territories</td>\n",
       "      <td>9</td>\n",
       "      <td>Other Territories</td>\n",
       "      <td>38.6509</td>\n",
       "      <td>MULTIPOLYGON (((167.99472 -29.04534, 167.99432...</td>\n",
       "    </tr>\n",
       "    <tr>\n",
       "      <th>2308</th>\n",
       "      <td>2308</td>\n",
       "      <td>997979799</td>\n",
       "      <td>99799</td>\n",
       "      <td>Migratory - Offshore - Shipping (OT)</td>\n",
       "      <td>99797</td>\n",
       "      <td>Migratory - Offshore - Shipping (OT)</td>\n",
       "      <td>997</td>\n",
       "      <td>Migratory - Offshore - Shipping (OT)</td>\n",
       "      <td>99799</td>\n",
       "      <td>Migratory - Offshore - Shipping (OT)</td>\n",
       "      <td>9</td>\n",
       "      <td>Other Territories</td>\n",
       "      <td>0.0000</td>\n",
       "      <td>GEOMETRYCOLLECTION EMPTY</td>\n",
       "    </tr>\n",
       "    <tr>\n",
       "      <th>2309</th>\n",
       "      <td>2309</td>\n",
       "      <td>999999499</td>\n",
       "      <td>99499</td>\n",
       "      <td>No usual address (OT)</td>\n",
       "      <td>99999</td>\n",
       "      <td>No usual address (OT)</td>\n",
       "      <td>999</td>\n",
       "      <td>No usual address (OT)</td>\n",
       "      <td>99499</td>\n",
       "      <td>No usual address (OT)</td>\n",
       "      <td>9</td>\n",
       "      <td>Other Territories</td>\n",
       "      <td>0.0000</td>\n",
       "      <td>GEOMETRYCOLLECTION EMPTY</td>\n",
       "    </tr>\n",
       "  </tbody>\n",
       "</table>\n",
       "</div>"
      ],
      "text/plain": [
       "      g_id sa2_main16 sa2_5dig16                            sa2_name16  \\\n",
       "2305  2305  901021002      91002               Cocos (Keeling) Islands   \n",
       "2306  2306  901031003      91003                            Jervis Bay   \n",
       "2307  2307  901041004      91004                        Norfolk Island   \n",
       "2308  2308  997979799      99799  Migratory - Offshore - Shipping (OT)   \n",
       "2309  2309  999999499      99499                 No usual address (OT)   \n",
       "\n",
       "     sa3_code                              sa3_name sa4_code  \\\n",
       "2305    90102               Cocos (Keeling) Islands      901   \n",
       "2306    90103                            Jervis Bay      901   \n",
       "2307    90104                        Norfolk Island      901   \n",
       "2308    99797  Migratory - Offshore - Shipping (OT)      997   \n",
       "2309    99999                 No usual address (OT)      999   \n",
       "\n",
       "                                  sa4_name gcc_code  \\\n",
       "2305                     Other Territories    9OTER   \n",
       "2306                     Other Territories    9OTER   \n",
       "2307                     Other Territories    9OTER   \n",
       "2308  Migratory - Offshore - Shipping (OT)    99799   \n",
       "2309                 No usual address (OT)    99499   \n",
       "\n",
       "                                  gcc_name ste_code           ste_name  \\\n",
       "2305                     Other Territories        9  Other Territories   \n",
       "2306                     Other Territories        9  Other Territories   \n",
       "2307                     Other Territories        9  Other Territories   \n",
       "2308  Migratory - Offshore - Shipping (OT)        9  Other Territories   \n",
       "2309                 No usual address (OT)        9  Other Territories   \n",
       "\n",
       "      areasqkm16                                           geometry  \n",
       "2305     13.7163  MULTIPOLYGON (((96.83047 -12.17636, 96.83045 -...  \n",
       "2306     67.8134  MULTIPOLYGON (((150.69566 -35.18297, 150.69555...  \n",
       "2307     38.6509  MULTIPOLYGON (((167.99472 -29.04534, 167.99432...  \n",
       "2308      0.0000                           GEOMETRYCOLLECTION EMPTY  \n",
       "2309      0.0000                           GEOMETRYCOLLECTION EMPTY  "
      ]
     },
     "execution_count": 40,
     "metadata": {},
     "output_type": "execute_result"
    }
   ],
   "source": [
    "# FILL NONE GEOMETRIES WITH EMPTY GEOMETRY OBJECTS SO THAT THEY CAN BE PERSISTED\n",
    "# See: https://geopandas.readthedocs.io/en/latest/docs/reference/api/geopandas.GeoSeries.fillna.html\n",
    "\n",
    "sa2_gdf['geometry'] = sa2_gdf['geometry'].fillna()\n",
    "print(len(sa2_gdf.loc[sa2_gdf.geometry.isna()]))\n",
    "sa2_gdf.tail()"
   ]
  },
  {
   "cell_type": "code",
   "execution_count": 41,
   "metadata": {},
   "outputs": [
    {
     "data": {
      "text/plain": [
       "0                  Polygon\n",
       "1                  Polygon\n",
       "2                  Polygon\n",
       "3                  Polygon\n",
       "4                  Polygon\n",
       "               ...        \n",
       "2305          MultiPolygon\n",
       "2306          MultiPolygon\n",
       "2307          MultiPolygon\n",
       "2308    GeometryCollection\n",
       "2309    GeometryCollection\n",
       "Length: 2310, dtype: object"
      ]
     },
     "execution_count": 41,
     "metadata": {},
     "output_type": "execute_result"
    }
   ],
   "source": [
    "sa2_gdf.geometry.geom_type"
   ]
  },
  {
   "cell_type": "code",
   "execution_count": 42,
   "metadata": {},
   "outputs": [],
   "source": [
    "# WKT polygon geom creation function (SOURCE: DATA2001 Lab materials)\n",
    "\n",
    "def create_wkt_element(geom,srid):\n",
    "    if (geom.geom_type == 'Polygon'):\n",
    "        geom = MultiPolygon([geom])\n",
    "    elif (geom.geom_type == 'GeometryCollection'):\n",
    "        geom = MultiPolygon([geom])\n",
    "    return WKTElement(geom.wkt, srid)"
   ]
  },
  {
   "cell_type": "code",
   "execution_count": 43,
   "metadata": {},
   "outputs": [
    {
     "data": {
      "text/html": [
       "<div>\n",
       "<style scoped>\n",
       "    .dataframe tbody tr th:only-of-type {\n",
       "        vertical-align: middle;\n",
       "    }\n",
       "\n",
       "    .dataframe tbody tr th {\n",
       "        vertical-align: top;\n",
       "    }\n",
       "\n",
       "    .dataframe thead th {\n",
       "        text-align: right;\n",
       "    }\n",
       "</style>\n",
       "<table border=\"1\" class=\"dataframe\">\n",
       "  <thead>\n",
       "    <tr style=\"text-align: right;\">\n",
       "      <th></th>\n",
       "      <th>g_id</th>\n",
       "      <th>sa2_main16</th>\n",
       "      <th>sa2_5dig16</th>\n",
       "      <th>sa2_name16</th>\n",
       "      <th>sa3_code</th>\n",
       "      <th>sa3_name</th>\n",
       "      <th>sa4_code</th>\n",
       "      <th>sa4_name</th>\n",
       "      <th>gcc_code</th>\n",
       "      <th>gcc_name</th>\n",
       "      <th>ste_code</th>\n",
       "      <th>ste_name</th>\n",
       "      <th>areasqkm16</th>\n",
       "      <th>geom</th>\n",
       "    </tr>\n",
       "  </thead>\n",
       "  <tbody>\n",
       "    <tr>\n",
       "      <th>2305</th>\n",
       "      <td>2305</td>\n",
       "      <td>901021002</td>\n",
       "      <td>91002</td>\n",
       "      <td>Cocos (Keeling) Islands</td>\n",
       "      <td>90102</td>\n",
       "      <td>Cocos (Keeling) Islands</td>\n",
       "      <td>901</td>\n",
       "      <td>Other Territories</td>\n",
       "      <td>9OTER</td>\n",
       "      <td>Other Territories</td>\n",
       "      <td>9</td>\n",
       "      <td>Other Territories</td>\n",
       "      <td>13.7163</td>\n",
       "      <td>MULTIPOLYGON (((96.83046599400006 -12.17635995...</td>\n",
       "    </tr>\n",
       "    <tr>\n",
       "      <th>2306</th>\n",
       "      <td>2306</td>\n",
       "      <td>901031003</td>\n",
       "      <td>91003</td>\n",
       "      <td>Jervis Bay</td>\n",
       "      <td>90103</td>\n",
       "      <td>Jervis Bay</td>\n",
       "      <td>901</td>\n",
       "      <td>Other Territories</td>\n",
       "      <td>9OTER</td>\n",
       "      <td>Other Territories</td>\n",
       "      <td>9</td>\n",
       "      <td>Other Territories</td>\n",
       "      <td>67.8134</td>\n",
       "      <td>MULTIPOLYGON (((150.6956629970001 -35.18296700...</td>\n",
       "    </tr>\n",
       "    <tr>\n",
       "      <th>2307</th>\n",
       "      <td>2307</td>\n",
       "      <td>901041004</td>\n",
       "      <td>91004</td>\n",
       "      <td>Norfolk Island</td>\n",
       "      <td>90104</td>\n",
       "      <td>Norfolk Island</td>\n",
       "      <td>901</td>\n",
       "      <td>Other Territories</td>\n",
       "      <td>9OTER</td>\n",
       "      <td>Other Territories</td>\n",
       "      <td>9</td>\n",
       "      <td>Other Territories</td>\n",
       "      <td>38.6509</td>\n",
       "      <td>MULTIPOLYGON (((167.9947210150001 -29.04533600...</td>\n",
       "    </tr>\n",
       "    <tr>\n",
       "      <th>2308</th>\n",
       "      <td>2308</td>\n",
       "      <td>997979799</td>\n",
       "      <td>99799</td>\n",
       "      <td>Migratory - Offshore - Shipping (OT)</td>\n",
       "      <td>99797</td>\n",
       "      <td>Migratory - Offshore - Shipping (OT)</td>\n",
       "      <td>997</td>\n",
       "      <td>Migratory - Offshore - Shipping (OT)</td>\n",
       "      <td>99799</td>\n",
       "      <td>Migratory - Offshore - Shipping (OT)</td>\n",
       "      <td>9</td>\n",
       "      <td>Other Territories</td>\n",
       "      <td>0.0000</td>\n",
       "      <td>MULTIPOLYGON EMPTY</td>\n",
       "    </tr>\n",
       "    <tr>\n",
       "      <th>2309</th>\n",
       "      <td>2309</td>\n",
       "      <td>999999499</td>\n",
       "      <td>99499</td>\n",
       "      <td>No usual address (OT)</td>\n",
       "      <td>99999</td>\n",
       "      <td>No usual address (OT)</td>\n",
       "      <td>999</td>\n",
       "      <td>No usual address (OT)</td>\n",
       "      <td>99499</td>\n",
       "      <td>No usual address (OT)</td>\n",
       "      <td>9</td>\n",
       "      <td>Other Territories</td>\n",
       "      <td>0.0000</td>\n",
       "      <td>MULTIPOLYGON EMPTY</td>\n",
       "    </tr>\n",
       "  </tbody>\n",
       "</table>\n",
       "</div>"
      ],
      "text/plain": [
       "      g_id sa2_main16 sa2_5dig16                            sa2_name16  \\\n",
       "2305  2305  901021002      91002               Cocos (Keeling) Islands   \n",
       "2306  2306  901031003      91003                            Jervis Bay   \n",
       "2307  2307  901041004      91004                        Norfolk Island   \n",
       "2308  2308  997979799      99799  Migratory - Offshore - Shipping (OT)   \n",
       "2309  2309  999999499      99499                 No usual address (OT)   \n",
       "\n",
       "     sa3_code                              sa3_name sa4_code  \\\n",
       "2305    90102               Cocos (Keeling) Islands      901   \n",
       "2306    90103                            Jervis Bay      901   \n",
       "2307    90104                        Norfolk Island      901   \n",
       "2308    99797  Migratory - Offshore - Shipping (OT)      997   \n",
       "2309    99999                 No usual address (OT)      999   \n",
       "\n",
       "                                  sa4_name gcc_code  \\\n",
       "2305                     Other Territories    9OTER   \n",
       "2306                     Other Territories    9OTER   \n",
       "2307                     Other Territories    9OTER   \n",
       "2308  Migratory - Offshore - Shipping (OT)    99799   \n",
       "2309                 No usual address (OT)    99499   \n",
       "\n",
       "                                  gcc_name ste_code           ste_name  \\\n",
       "2305                     Other Territories        9  Other Territories   \n",
       "2306                     Other Territories        9  Other Territories   \n",
       "2307                     Other Territories        9  Other Territories   \n",
       "2308  Migratory - Offshore - Shipping (OT)        9  Other Territories   \n",
       "2309                 No usual address (OT)        9  Other Territories   \n",
       "\n",
       "      areasqkm16                                               geom  \n",
       "2305     13.7163  MULTIPOLYGON (((96.83046599400006 -12.17635995...  \n",
       "2306     67.8134  MULTIPOLYGON (((150.6956629970001 -35.18296700...  \n",
       "2307     38.6509  MULTIPOLYGON (((167.9947210150001 -29.04533600...  \n",
       "2308      0.0000                                 MULTIPOLYGON EMPTY  \n",
       "2309      0.0000                                 MULTIPOLYGON EMPTY  "
      ]
     },
     "execution_count": 43,
     "metadata": {},
     "output_type": "execute_result"
    }
   ],
   "source": [
    "srid = 4283\n",
    "\n",
    "# WKT CONVERSION\n",
    "sa2_gdf['geom'] = sa2_gdf['geometry'].apply(lambda x: create_wkt_element(geom=x, srid=srid))\n",
    "sa2_gdf = sa2_gdf.drop(columns=\"geometry\")\n",
    "sa2_gdf.tail()"
   ]
  },
  {
   "cell_type": "code",
   "execution_count": 44,
   "metadata": {},
   "outputs": [
    {
     "data": {
      "text/plain": [
       "<sqlalchemy.engine.cursor.LegacyCursorResult at 0x24c4eb32520>"
      ]
     },
     "execution_count": 44,
     "metadata": {},
     "output_type": "execute_result"
    }
   ],
   "source": [
    "conn.execute(\"DROP TABLE IF EXISTS sa2_2016_aust\")\n",
    "\n",
    "sa2_shape_create = '''CREATE TABLE sa2_2016_aust (\n",
    "                     g_id INTEGER PRIMARY KEY,\n",
    "                     sa2_main16 VARCHAR,\n",
    "                     sa2_5dig16 VARCHAR,\n",
    "                     sa2_name16 VARCHAR,\n",
    "                     sa3_code   VARCHAR,\n",
    "                     sa3_name   VARCHAR,\n",
    "                     sa4_code   VARCHAR,\n",
    "                     sa4_name   VARCHAR,\n",
    "                     gcc_code   VARCHAR,\n",
    "                     gcc_name   VARCHAR,\n",
    "                     ste_code   VARCHAR,\n",
    "                     ste_name   VARCHAR,\n",
    "                     areasqkm16 FLOAT,\n",
    "                     geom GEOMETRY(MULTIPOLYGON, 4283)\n",
    "                     )'''\n",
    "\n",
    "conn.execute(sa2_shape_create)"
   ]
  },
  {
   "cell_type": "code",
   "execution_count": 45,
   "metadata": {},
   "outputs": [],
   "source": [
    "srid = 4283\n",
    "sa2_gdf.to_sql('sa2_2016_aust', conn, if_exists='append', index=False, \n",
    "                         dtype={'geom': Geometry('MULTIPOLYGON', srid)})"
   ]
  },
  {
   "cell_type": "code",
   "execution_count": 46,
   "metadata": {},
   "outputs": [
    {
     "name": "stdout",
     "output_type": "stream",
     "text": [
      "(1, 14)\n",
      "   g_id sa2_main16 sa2_5dig16                            sa2_name16 sa3_code                              sa3_name sa4_code                              sa4_name gcc_code                              gcc_name ste_code           ste_name  areasqkm16                        geom\n",
      "0  2308  997979799      99799  Migratory - Offshore - Shipping (OT)    99797  Migratory - Offshore - Shipping (OT)      997  Migratory - Offshore - Shipping (OT)    99799  Migratory - Offshore - Shipping (OT)        9  Other Territories         0.0  0106000020BB10000000000000\n"
     ]
    }
   ],
   "source": [
    "# Check table\n",
    "a_response, a_df = pgquery(conn, \"\"\"SELECT * FROM sa2_2016_aust WHERE g_id = 2308\"\"\")"
   ]
  },
  {
   "cell_type": "code",
   "execution_count": 47,
   "metadata": {},
   "outputs": [
    {
     "name": "stdout",
     "output_type": "stream",
     "text": [
      "(1, 1)\n",
      "   count\n",
      "0   2310\n"
     ]
    },
    {
     "data": {
      "text/plain": [
       "(True,\n",
       "    count\n",
       " 0   2310)"
      ]
     },
     "execution_count": 47,
     "metadata": {},
     "output_type": "execute_result"
    }
   ],
   "source": [
    "pgquery(conn, \"\"\"SELECT COUNT(*) FROM sa2_2016_aust\n",
    "LIMIT 1;\"\"\")"
   ]
  },
  {
   "cell_type": "markdown",
   "metadata": {
    "jupyter": {
     "source_hidden": true
    },
    "tags": []
   },
   "source": [
    "### Creation of Database Table - Additional Dataset (geodataframe)"
   ]
  },
  {
   "cell_type": "code",
   "execution_count": 48,
   "metadata": {},
   "outputs": [
    {
     "data": {
      "text/html": [
       "<div>\n",
       "<style scoped>\n",
       "    .dataframe tbody tr th:only-of-type {\n",
       "        vertical-align: middle;\n",
       "    }\n",
       "\n",
       "    .dataframe tbody tr th {\n",
       "        vertical-align: top;\n",
       "    }\n",
       "\n",
       "    .dataframe thead th {\n",
       "        text-align: right;\n",
       "    }\n",
       "</style>\n",
       "<table border=\"1\" class=\"dataframe\">\n",
       "  <thead>\n",
       "    <tr style=\"text-align: right;\">\n",
       "      <th></th>\n",
       "      <th>name</th>\n",
       "      <th>geom</th>\n",
       "    </tr>\n",
       "  </thead>\n",
       "  <tbody>\n",
       "    <tr>\n",
       "      <th>0</th>\n",
       "      <td>Dalley</td>\n",
       "      <td>POINT (151.208312988 -33.86289405799999)</td>\n",
       "    </tr>\n",
       "    <tr>\n",
       "      <th>1</th>\n",
       "      <td>City South</td>\n",
       "      <td>POINT (151.208221436 -33.87556075999998)</td>\n",
       "    </tr>\n",
       "    <tr>\n",
       "      <th>2</th>\n",
       "      <td>East</td>\n",
       "      <td>POINT (151.222091675 -33.87814521799999)</td>\n",
       "    </tr>\n",
       "    <tr>\n",
       "      <th>3</th>\n",
       "      <td>Glebe</td>\n",
       "      <td>POINT (151.188560486 -33.88067626999998)</td>\n",
       "    </tr>\n",
       "    <tr>\n",
       "      <th>4</th>\n",
       "      <td>Kent</td>\n",
       "      <td>POINT (151.204658508 -33.86639785800003)</td>\n",
       "    </tr>\n",
       "  </tbody>\n",
       "</table>\n",
       "</div>"
      ],
      "text/plain": [
       "         name                                      geom\n",
       "0      Dalley  POINT (151.208312988 -33.86289405799999)\n",
       "1  City South  POINT (151.208221436 -33.87556075999998)\n",
       "2        East  POINT (151.222091675 -33.87814521799999)\n",
       "3       Glebe  POINT (151.188560486 -33.88067626999998)\n",
       "4        Kent  POINT (151.204658508 -33.86639785800003)"
      ]
     },
     "execution_count": 48,
     "metadata": {},
     "output_type": "execute_result"
    }
   ],
   "source": [
    "# Use create_wkt_point_element function to create point geom column\n",
    "\n",
    "srid = 4283\n",
    "exchanges_gdf['geom'] = exchanges_gdf['geometry'].apply(lambda x: create_wkt_point_element(geom=x, srid=srid))\n",
    "exchanges_gdf = exchanges_gdf.drop(columns=\"geometry\")\n",
    "exchanges_gdf.head()"
   ]
  },
  {
   "cell_type": "code",
   "execution_count": 49,
   "metadata": {},
   "outputs": [
    {
     "data": {
      "text/plain": [
       "<sqlalchemy.engine.cursor.LegacyCursorResult at 0x24c4e908220>"
      ]
     },
     "execution_count": 49,
     "metadata": {},
     "output_type": "execute_result"
    }
   ],
   "source": [
    "conn.execute(\"DROP TABLE IF EXISTS exchanges\")\n",
    "\n",
    "exchanges_create = '''CREATE TABLE exchanges (\n",
    "                     name VARCHAR NOT NULL,\n",
    "                     geom GEOMETRY(POINT, 4283),\n",
    "                     CONSTRAINT exchanges_pkey PRIMARY KEY (name) \n",
    "                     )'''\n",
    "\n",
    "conn.execute(exchanges_create)"
   ]
  },
  {
   "cell_type": "code",
   "execution_count": 50,
   "metadata": {},
   "outputs": [],
   "source": [
    "srid = 4283\n",
    "exchanges_gdf.to_sql('exchanges', conn, if_exists='append', index=False,\n",
    "                     dtype={'geom': Geometry('POINT', srid)})"
   ]
  },
  {
   "cell_type": "code",
   "execution_count": 71,
   "metadata": {},
   "outputs": [
    {
     "name": "stdout",
     "output_type": "stream",
     "text": [
      "db read error: \n",
      "(builtins.AttributeError) 'NoneType' object has no attribute 'cursor'\n",
      "[SQL: SELECT * FROM exchanges WHERE name = 'Glebe' ]\n"
     ]
    }
   ],
   "source": [
    "# Check table\n",
    "a_response, a_df = pgquery(conn, \"\"\"SELECT * FROM exchanges WHERE name = 'Glebe' \"\"\")"
   ]
  },
  {
   "cell_type": "code",
   "execution_count": 74,
   "metadata": {},
   "outputs": [
    {
     "name": "stdout",
     "output_type": "stream",
     "text": [
      "disconnected\n"
     ]
    }
   ],
   "source": [
    "# Disconnect from DB\n",
    "\n",
    "conn.close()\n",
    "db.dispose()\n",
    "print(\"disconnected\")\n"
   ]
  },
  {
   "cell_type": "markdown",
   "metadata": {},
   "source": [
    "## Task 2: Fire Risk Analysis\n",
    "\n"
   ]
  },
  {
   "cell_type": "code",
   "execution_count": 157,
   "metadata": {},
   "outputs": [],
   "source": [
    "#Z-score\n",
    "def z(x, avg, sd):\n",
    "    return((x-avg)/sd)\n",
    "\n",
    "#Sigmoidal function. Did not use native exponential because fails for large negative values.\n",
    "def sigmoid(x):\n",
    "    return(1/(1+np.exp(-x)))\n",
    "\n",
    "#Fire risk score formula.\n",
    "def fire_risk(pop_d, dwell_d, bus_d, bfpl_d, ass_serv_d, exchange_d):\n",
    "    fire_risk_score = sigmoid(z(pop_d)+z(dwell_d)+z(bus_d)+z(bfpl_d)-z(ass_serv_d)-z(exchange_d))\n",
    "    return fire_risk_score\n",
    "\n",
    "def add_z_score_column(df, **kwargs):\n",
    "    column = [c for c in df.columns.tolist() if 'density' in c][0] #Finds relevant column to calculate Z-score on\n",
    "    if kwargs.get('column'):\n",
    "        column = kwargs.get('column')\n",
    "    mean = np.mean(df[column])\n",
    "    std = np.std(df[column])\n",
    "    df['z_score'] = df[column].map(lambda x: z(x, mean, std))\n",
    "    return df\n",
    "    "
   ]
  },
  {
   "cell_type": "markdown",
   "metadata": {},
   "source": [
    "### Computed Measures\n",
    "\n",
    "For the following computed densities we use SA2 area column as that is most accurately corresponds to area calculated based on geometry.\n"
   ]
  },
  {
   "cell_type": "code",
   "execution_count": 114,
   "metadata": {},
   "outputs": [
    {
     "name": "stdout",
     "output_type": "stream",
     "text": [
      "(10, 4)\n",
      "                     area_name   land_area  areasqkm16  total_area_km2\n",
      "0        Gosford - Springfield   1691.2000     16.9124       16.911863\n",
      "1              Goulburn Region   9035.1221   9035.1221     9035.121481\n",
      "2     Avoca Beach - Copacabana    643.8000      6.4376        6.437286\n",
      "3  Box Head - MacMasters Beach   3208.6000     32.0860       32.086453\n",
      "4              Calga - Kulnura  76795.1000    767.9512      767.950792\n",
      "5          Erina - Green Point   3379.3000     33.7934       33.793681\n",
      "6                      Kariong    830.6000      8.3063        8.306383\n",
      "7  Kincumber - Picketts Valley   1208.9000     12.0887       12.088774\n",
      "8                       Narara    770.2000      7.7021        7.702222\n",
      "9  Wamberal - Forresters Beach   1372.2000     13.7221       13.722908\n"
     ]
    },
    {
     "data": {
      "text/plain": [
       "(True,\n",
       "                      area_name   land_area  areasqkm16  total_area_km2\n",
       " 0        Gosford - Springfield   1691.2000     16.9124       16.911863\n",
       " 1              Goulburn Region   9035.1221   9035.1221     9035.121481\n",
       " 2     Avoca Beach - Copacabana    643.8000      6.4376        6.437286\n",
       " 3  Box Head - MacMasters Beach   3208.6000     32.0860       32.086453\n",
       " 4              Calga - Kulnura  76795.1000    767.9512      767.950792\n",
       " 5          Erina - Green Point   3379.3000     33.7934       33.793681\n",
       " 6                      Kariong    830.6000      8.3063        8.306383\n",
       " 7  Kincumber - Picketts Valley   1208.9000     12.0887       12.088774\n",
       " 8                       Narara    770.2000      7.7021        7.702222\n",
       " 9  Wamberal - Forresters Beach   1372.2000     13.7221       13.722908)"
      ]
     },
     "execution_count": 114,
     "metadata": {},
     "output_type": "execute_result"
    }
   ],
   "source": [
    "query='''\n",
    "SELECT n.area_name, n.land_area, sa.areasqkm16, ST_Area(sa.geom::geography)/1000000 AS total_area_km2 \n",
    "FROM neighbourhoods AS n\n",
    "INNER JOIN sa2_2016_aust AS sa\n",
    "ON n.area_id=sa.sa2_main16\n",
    "LIMIT 10;\n",
    "'''\n",
    "pgquery(conn, query)"
   ]
  },
  {
   "attachments": {
    "1ffb6e46-aa21-4f8b-b66b-b07776d36c3e.png": {
     "image/png": "[encoded data removed]"
    }
   },
   "cell_type": "markdown",
   "metadata": {},
   "source": [
    "#### 1. Population Density\n",
    "\n",
    "![image.png](attachment:1ffb6e46-aa21-4f8b-b66b-b07776d36c3e.png)"
   ]
  },
  {
   "cell_type": "code",
   "execution_count": null,
   "metadata": {},
   "outputs": [],
   "source": [
    "query = '''\n",
    "SELECT n.area_name, n.area_id, n.population, sa.areasqkm16, n.population/sa.areasqkm16 as population_density\n",
    "FROM neighbourhoods AS n\n",
    "INNER JOIN sa2_2016_aust AS sa\n",
    "ON n.area_id=sa.sa2_main16\n",
    "ORDER BY n.population/sa.areasqkm16 DESC;\n",
    "'''\n",
    "response, pop_df = pgquery(conn, query)\n",
    "pop_df =  add_z_score_column(pop_df)"
   ]
  },
  {
   "cell_type": "code",
   "execution_count": 119,
   "metadata": {},
   "outputs": [
    {
     "data": {
      "text/plain": [
       "(array([119.,  86.,  68.,  22.,  13.,   7.,   1.,   1.,   2.,   2.]),\n",
       " array([-1.08430611, -0.46291904,  0.15846802,  0.77985509,  1.40124216,\n",
       "         2.02262922,  2.64401629,  3.26540335,  3.88679042,  4.50817749,\n",
       "         5.12956455]),\n",
       " <BarContainer object of 10 artists>)"
      ]
     },
     "execution_count": 119,
     "metadata": {},
     "output_type": "execute_result"
    },
    {
     "data": {
      "image/png": "[encoded data removed]",
      "text/plain": [
       "<Figure size 432x288 with 1 Axes>"
      ]
     },
     "metadata": {
      "needs_background": "light"
     },
     "output_type": "display_data"
    }
   ],
   "source": [
    "plt.hist(pop_df['z_score'])"
   ]
  },
  {
   "cell_type": "markdown",
   "metadata": {},
   "source": [
    "#### 2. Dwelling Density"
   ]
  },
  {
   "cell_type": "code",
   "execution_count": 136,
   "metadata": {},
   "outputs": [
    {
     "name": "stdout",
     "output_type": "stream",
     "text": [
      "(322, 5)\n",
      "                                       area_name    area_id  dwellings  areasqkm16  dwelling_density\n",
      "0                    Potts Point - Woolloomooloo  117031333     8751.0      1.4591       5997.532726\n",
      "1                               Pyrmont - Ultimo  117031334     7599.0      1.4913       5095.554214\n",
      "2                                   Darlinghurst  117031329     3914.0      0.8569       4567.627494\n",
      "3                                    Surry Hills  117031336     5040.0      1.3164       3828.623519\n",
      "4                        Waterloo - Beaconsfield  117031338    12544.0      3.5809       3503.029965\n",
      "5                          Redfern - Chippendale  117031335     7230.0      2.1631       3342.425223\n",
      "6                       Neutral Bay - Kirribilli  121041416     7298.0      2.2106       3301.366145\n",
      "7                               Randwick - North  118021569     5623.0      1.9356       2905.042364\n",
      "8                      Bondi Beach - North Bondi  118011340     6486.0      2.4605       2636.049583\n",
      "9                      Bondi - Tamarama - Bronte  118011339     5913.0      2.4963       2368.705684\n",
      "10                                     Kingsford  118021565     4741.0      2.0141       2353.904970\n",
      "11                     Dee Why - North Curl Curl  122031426     9303.0      4.0732       2283.953648\n",
      "12                           Cremorne - Cammeray  121041413     7190.0      3.2391       2219.752400\n",
      "13                             Coogee - Clovelly  118021348     8467.0      3.8356       2207.477318\n",
      "14                          Glebe - Forest Lodge  117031331     5073.0      2.3018       2203.927361\n",
      "15                                      Ashfield  120031390     7870.0      3.6699       2144.472601\n",
      "16                                       Lakemba  119021573     4685.0      2.1866       2142.595811\n",
      "17                       Dulwich Hill - Lewisham  120031394     5772.0      2.7016       2136.511697\n",
      "18                   North Sydney - Lavender Bay  121041417     4079.0      1.9144       2130.693690\n",
      "19                         Crows Nest - Waverton  121041414     6259.0      2.9612       2113.670134\n",
      "20                                    Wiley Park  119021574     2936.0      1.3933       2107.227446\n",
      "21                Sydney - Haymarket - The Rocks  117031337     8963.0      4.2934       2087.622863\n",
      "22                    Double Bay - Bellevue Hill  118011343     9187.0      4.7140       1948.875689\n",
      "23                   Chatswood (East) - Artarmon  121011398     9711.0      5.0678       1916.216110\n",
      "24                                 Dover Heights  118011344     3482.0      1.8705       1861.534349\n",
      "25                  Canterbury (South) - Campsie  119021363     8806.0      4.7777       1843.146284\n",
      "26                                    Hurstville  119031368     6691.0      3.6401       1838.136315\n",
      "27                      Bondi Junction - Waverly  118011341     4379.0      2.5234       1735.357058\n",
      "28                                Hornsby - East  121021577     4444.0      2.5689       1729.923313\n",
      "29                            Rockdale - Banksia  119041381     6090.0      3.5760       1703.020134\n",
      "30                        Drummoyne - Rodd Point  120011385     6163.0      3.7047       1663.562502\n",
      "31                             Bankstown - North  119011571     4557.0      2.7406       1662.774575\n",
      "32                          Petersham - Stanmore  117021327     4947.0      3.0033       1647.188093\n",
      "33              Concord West - North Strathfield  120011384     8367.0      5.1030       1639.623751\n",
      "34                              Kensington (NSW)  118021564     4270.0      2.6422       1616.077511\n",
      "35                                       Kogarah  119041378     3571.0      2.2197       1608.775961\n",
      "36                              Maroubra - South  118021567     3254.0      2.0650       1575.786925\n",
      "37                             Burwood - Croydon  120031391     7053.0      4.4925       1569.949917\n",
      "38             Newtown - Camperdown - Darlington  117031332     5079.0      3.2812       1547.909301\n",
      "39                                     Woollahra  118011347     1960.0      1.2805       1530.652089\n",
      "40                    Waitara - Wahroonga (West)  121021579     3217.0      2.1123       1522.984425\n",
      "41                              Maroubra - North  118021566     2752.0      1.8112       1519.434629\n",
      "42               Kogarah Bay - Carlton - Allawah  119041379     5239.0      3.5033       1495.447150\n",
      "43                        Five Dock - Abbotsford  120011386     6800.0      4.6202       1471.797758\n",
      "44                                Auburn - North  125011583     3081.0      2.0966       1469.522083\n",
      "45                               Maroubra - West  118021568     2932.0      2.0464       1432.759969\n",
      "46                        West Ryde - Meadowbank  126021503     6851.0      4.7923       1429.584959\n",
      "47                       St Leonards - Naremburn  121011401     3898.0      2.7610       1411.807316\n",
      "48       Monterey - Brighton-le-Sands - Kyeemagh  119041380     4649.0      3.3799       1375.484482\n",
      "49                                  Marrickville  117021326     7735.0      5.8127       1330.706900\n",
      "50                   Arncliffe - Bardwell Valley  119041375     6611.0      4.9926       1324.159756\n",
      "51            Chatswood (West) - Lane Cove North  121011399     7327.0      5.5372       1323.231958\n",
      "52                            Mascot - Eastlakes  117011322     8150.0      6.1650       1321.978913\n",
      "53                                     Riverwood  119031373     3620.0      2.7733       1305.304150\n",
      "54                                        Bexley  119041376     6726.0      5.2778       1274.394634\n",
      "55                                      Homebush  120031396     4806.0      3.8434       1250.455326\n",
      "56                      Haberfield - Summer Hill  120031395     4200.0      3.4746       1208.772233\n",
      "57                                          Ryde  126021591     8733.0      7.2682       1201.535456\n",
      "58                            Belmore - Belfield  119021362     5359.0      4.5135       1187.326908\n",
      "59                                     Liverpool  127031598     7443.0      6.3185       1177.969455\n",
      "60                              Randwick - South  118021570     3922.0      3.3726       1162.901026\n",
      "61                          Mortdale - Penshurst  119031369     7066.0      6.1164       1155.254725\n",
      "62                                   Strathfield  120031575     7382.0      6.4515       1144.230024\n",
      "63                          Narrabeen - Collaroy  122031431     8126.0      7.1622       1134.567591\n",
      "64                                     Fairfield  127021515     4786.0      4.2304       1131.335098\n",
      "65                             Manly - Fairlight  122011419     7572.0      6.7351       1124.259476\n",
      "66                                        Berala  125011585     2341.0      2.0865       1121.974599\n",
      "67                         Parramatta - Rosehill  125041492     9497.0      8.4965       1117.754369\n",
      "68                                        Mosman  121041415     9651.0      8.6503       1115.683849\n",
      "69                        Narwee - Beverly Hills  119031370     3756.0      3.3909       1107.670530\n",
      "70                 South Hurstville - Blakehurst  119031374     6836.0      6.2489       1093.952536\n",
      "71                  Canterbury (North) - Ashbury  120031392     3293.0      3.0275       1087.696119\n",
      "72                 Concord - Mortlake - Cabarita  120011383     6812.0      6.3192       1077.984555\n",
      "73                        Croydon Park - Enfield  120031393     4264.0      3.9711       1073.757901\n",
      "74             Pagewood - Hillsdale - Daceyville  117011323     3340.0      3.1187       1070.959053\n",
      "75                          Merrylands - Holroyd  125031485     7131.0      6.7188       1061.350241\n",
      "76                     Wentworthville - Westmead  125041589     4138.0      3.9358       1051.374562\n",
      "77                              Auburn - Central  125011582     3892.0      3.7326       1042.704817\n",
      "78            Kingsgrove (South) - Bardwell Park  119041377     3869.0      3.7871       1021.626046\n",
      "79                                     Northmead  125041491     6026.0      5.9332       1015.640801\n",
      "80                        Leichhardt - Annandale  120021388     4530.0      4.4723       1012.901639\n",
      "81                     Erskineville - Alexandria  117031330     4374.0      4.3200       1012.500000\n",
      "82                         Sans Souci - Ramsgate  119041382     4656.0      4.6115       1009.649789\n",
      "83                         Lane Cove - Greenwich  121011400     9026.0      9.0561        996.676273\n",
      "84                        Freshwater - Brookvale  122031429     7079.0      7.1838        985.411621\n",
      "85                  Gladesville - Huntleys Point  126021498     4634.0      4.7162        982.570714\n",
      "86                                     Roselands  119021367     3581.0      3.6461        982.145306\n",
      "87                                       Balmain  120021387     2494.0      2.5815        966.104978\n",
      "88              Guildford West - Merrylands West  125031484     5274.0      5.4654        964.979690\n",
      "89                              North Parramatta  125041489     6700.0      7.0608        948.900974\n",
      "90                             Granville - Clyde  125031481     5301.0      5.6083        945.206212\n",
      "91                             Yagoona - Birrong  119011361     5129.0      5.5596        922.548385\n",
      "92                              Fairfield - West  127021516     4309.0      4.6915        918.469573\n",
      "93                                     Punchbowl  119021366     4809.0      5.2458        916.733387\n",
      "94                           Miranda - Yowie Bay  128011530     5471.0      5.9968        912.319904\n",
      "95                      Beacon Hill - Narraweena  122031424     3919.0      4.3406        902.870571\n",
      "96                         Epping - North Epping  126011495     7994.0      8.8806        900.164403\n",
      "97                         Sutherland - Kirrawee  128021538     6924.0      7.7547        892.877868\n",
      "98                             Bankstown - South  119011572     3942.0      4.4232        891.209984\n",
      "99                              Blacktown (West)  116011561     4165.0      4.6753        890.851924\n",
      "100                    Ashcroft - Busby - Miller  127011504     4854.0      5.4630        888.522790\n",
      "101                 Canley Vale - Canley Heights  127021513     4809.0      5.4161        887.908273\n",
      "102                          Gymea - Grays Point  128011529     5103.0      5.7978        880.161441\n",
      "103                    Oatley - Hurstville Grove  119031371     3828.0      4.3549        879.009851\n",
      "104                                    Caringbah  128011602     3441.0      3.9958        861.154212\n",
      "105                Kingsgrove (North) - Earlwood  119021364     7047.0      8.2016        859.222591\n",
      "106                                 Green Valley  127011594     2752.0      3.2145        856.120703\n",
      "107                         Eastwood - Denistone  126021497     6662.0      7.8201        851.907265\n",
      "108                            Blacktown (South)  116011560     2840.0      3.3594        845.389058\n",
      "109                                     Glenwood  116021309     4282.0      5.1186        836.556871\n",
      "110                          Lurnea - Cartwright  127031599     2897.0      3.4665        835.713255\n",
      "111                                     St Clair  124051470     5988.0      7.2035        831.262581\n",
      "112                     Hassall Grove - Plumpton  116031315     5072.0      6.2053        817.365800\n",
      "113            Cabramatta West - Mount Pritchard  127021512     4337.0      5.3429        811.731457\n",
      "114                           Castle Hill - West  115011557     1315.0      1.6363        803.642364\n",
      "115                              Caringbah South  128011603     3236.0      4.0699        795.105531\n",
      "116                                 Edensor Park  127021514     2448.0      3.0955        790.825392\n",
      "117                          Lilyfield - Rozelle  120021389     2835.0      3.6039        786.647798\n",
      "118                                  Carlingford  125021476     7643.0      9.7457        784.243307\n",
      "119                                       Botany  117011321     2676.0      3.4308        779.993005\n",
      "120                Bidwill - Hebersham - Emerton  116031313     4746.0      6.0950        778.671042\n",
      "121                                Winston Hills  125041494     3337.0      4.3479        767.496953\n",
      "122                   Parklea - Kellyville Ridge  116021310     7498.0      9.8132        764.072881\n",
      "123                        Cabramatta - Lansvale  127021511     5800.0      7.5964        763.519562\n",
      "124               Toongabbie - Constitution Hill  125041493     5689.0      7.4795        760.612340\n",
      "125              Balgowlah - Clontarf - Seaforth  122011418     5771.0      7.6104        758.304426\n",
      "126                      Paddington - Moore Park  118011345     2815.0      3.7250        755.704698\n",
      "127                            Newport - Bilgola  122021422     4377.0      5.7981        754.902468\n",
      "128                      St Johns Park - Wakeley  127021520     2721.0      3.6111        753.510011\n",
      "129                        Baulkham Hills (East)  115011290     6258.0      8.3081        753.240813\n",
      "130                                       Putney  126021590     1131.0      1.5194        744.372779\n",
      "131                               Cambridge Park  124031457     4898.0      6.5871        743.574562\n",
      "132                  Smithfield - Wetherill Park  127021519     4902.0      6.6123        741.345674\n",
      "133                                      Revesby  119011360     3770.0      5.0925        740.304369\n",
      "134                                 Regents Park  125011587     1504.0      2.0325        739.975400\n",
      "135                               Auburn - South  125011584     1787.0      2.4313        734.997738\n",
      "136                      Greenacre - Mount Lewis  119011357     5118.0      6.9817        733.059284\n",
      "137                       Sylvania - Taren Point  128011531     4449.0      6.0725        732.647180\n",
      "138                Bonnyrigg Heights - Bonnyrigg  127021509     3758.0      5.1887        724.266194\n",
      "139                           Castle Hill - East  115011554     1489.0      2.0720        718.629344\n",
      "140      Lilli Pilli - Port Hacking - Dolans Bay  128011605      912.0      1.2706        717.771132\n",
      "141                                     Lidcombe  125011586     4580.0      6.4037        715.211518\n",
      "142            Rose Bay - Vaucluse - Watsons Bay  118011346     3668.0      5.1361        714.160550\n",
      "143       Willoughby - Castle Cove - Northbridge  121011402     7672.0     10.7518        713.554940\n",
      "144  Hoxton Park - Carnes Hill - Horningsea Park  127011596     2919.0      4.1264        707.396278\n",
      "145                  Guildford - South Granville  125031483     4746.0      6.7962        698.331420\n",
      "146                             Fairfield - East  125031480     3976.0      5.7115        696.139368\n",
      "147                         Colyton - Oxley Park  124051580     3148.0      4.6521        676.683648\n",
      "148                      Hunters Hill - Woolwich  126021499     2805.0      4.1512        675.708229\n",
      "149                   Lalor Park - Kings Langley  116011307     7955.0     11.7998        674.163969\n",
      "150                Gorokan - Kanwal - Charmhaven  102021048     7562.0     11.2490        672.237532\n",
      "151                          Castle Hill - South  115011556     2774.0      4.1277        672.044965\n",
      "152                  Oyster Bay - Como - Jannali  128021536     5931.0      8.9053        666.007883\n",
      "153                 Blacktown (North) - Marayong  116011304     4913.0      7.3829        665.456663\n",
      "154                     Oatlands - Dundas Valley  125021478     4029.0      6.0763        663.067985\n",
      "155                          Peakhurst - Lugarno  119031372     4893.0      7.4308        658.475534\n",
      "156                                      Padstow  119011358     4230.0      6.5091        649.859428\n",
      "157                  Glenmore Park - Regentville  124031460     5949.0      9.2330        644.319290\n",
      "158                        Woolaware - Burraneer  128011606     2143.0      3.3282        643.891593\n",
      "159                  Bateau Bay - Killarney Vale  102021044     6941.0     10.8595        639.163866\n",
      "160                Blacktown (East) - Kings Park  116011303     5044.0      7.9753        632.452698\n",
      "161                        Chester Hill - Sefton  125031479     4553.0      7.2676        626.479168\n",
      "162                        Lindfield - Roseville  121031408     7422.0     11.8766        624.926326\n",
      "163                     Bass Hill - Georges Hall  119011354     5539.0      8.9161        621.235742\n",
      "164                      Pendle Hill - Girraween  125041588     2765.0      4.4615        619.746722\n",
      "165                        Greystanes - Pemulwuy  125031482     7339.0     11.8487        619.392845\n",
      "166                  Jamisontown - South Penrith  124031461     5531.0      9.0181        613.322097\n",
      "167                        Mount Druitt - Whalan  116031317     5253.0      8.6855        604.801105\n",
      "168                         Doonside - Woodcroft  116011306     5920.0      9.9106        597.340222\n",
      "169                                  Cherrybrook  115011558     4862.0      8.2514        589.233342\n",
      "170                             Gordon - Killara  121031407     6810.0     11.6714        583.477561\n",
      "171                                     Engadine  128021607     5219.0      8.9538        582.881011\n",
      "172                                   Kellyville  115011559     6122.0     10.6410        575.321868\n",
      "173                Manly Vale - Allambie Heights  122031430     5319.0      9.3541        568.627661\n",
      "174                Greenfield Park - Prairiewood  127021517     2066.0      3.6367        568.097451\n",
      "175                       Warriewood - Mona Vale  122021423     6623.0     11.6627        567.878793\n",
      "176                         Loftus - Yarrawarrah  128021608     2177.0      3.8436        566.396087\n",
      "177                       North Ryde - East Ryde  126021501     3434.0      6.2232        551.806145\n",
      "178                     Seven Hills - Toongabbie  116011308     6182.0     11.2033        551.801701\n",
      "179                                 Hinchinbrook  127011595     2843.0      5.2250        544.114833\n",
      "180                        Castle Hill - Central  115011553     2236.0      4.1512        538.639430\n",
      "181                    Bossley Park - Abbotsbury  127021510     5043.0      9.5146        530.027537\n",
      "182                    Lethbridge Park - Tregear  116031316     5899.0     11.2672        523.555098\n",
      "183                               Hornsby - West  121021578     3271.0      6.2898        520.048332\n",
      "184         Normanhurst - Thornleigh - Westleigh  121021406     5167.0      9.9882        517.310426\n",
      "185                   Homebush Bay - Silverwater  125011473     5729.0     11.2619        508.706346\n",
      "186                        Ermington - Rydalmere  125021477     4929.0      9.8654        499.624952\n",
      "187               Malabar - La Perouse - Chifley  118021350     5879.0     11.8254        497.150202\n",
      "188                         Saratoga - Davistown  102011038     2366.0      4.7683        496.193612\n",
      "189                                       Pymble  121031409     4975.0     10.2514        485.299569\n",
      "190                                       Casula  127031522     3430.0      7.0719        485.018171\n",
      "191                          Castle Hill - North  115011555     3296.0      6.8149        483.646128\n",
      "192                          Avalon - Palm Beach  122021420     4120.0      8.6057        478.752455\n",
      "193          Baulkham Hills (West) - Bella Vista  115011291     5244.0     10.9631        478.331859\n",
      "194                   Macquarie Park - Marsfield  126021500     5028.0     10.6720        471.139430\n",
      "195            Panania - Milperra - Picnic Point  119011359     6720.0     14.3909        466.961761\n",
      "196                                  Cecil Hills  127011593     1725.0      3.7478        460.270025\n",
      "197                   Pennant Hills - Cheltenham  126011496     6076.0     13.2937        457.058607\n",
      "198                 Sydenham - Tempe - St Peters  117021328     1757.0      3.8539        455.901814\n",
      "199                           West Pennant Hills  115011296     3543.0      7.8291        452.542438\n",
      "200                      Glendenning - Dean Park  116031314     2300.0      5.1425        447.253281\n",
      "201                       Terrigal - North Avoca  102011039     4457.0     10.1073        440.968409\n",
      "202              Forestville - Killarney Heights  122031427     3869.0      8.9311        433.205316\n",
      "203                           Minto - St Andrews  123021443     5322.0     12.4133        428.733697\n",
      "204                                 Warwick Farm  127031601     1981.0      4.6502        426.003183\n",
      "205                                  North Rocks  125041490     2283.0      5.3762        424.649381\n",
      "206                     Illawong - Alfords Point  128021534     3032.0      7.2978        415.467675\n",
      "207                  Wahroonga (East) - Warrawee  121031412     5395.0     13.3270        404.817288\n",
      "208               West Hoxton - Middleton Grange  127011597     3657.0      9.2626        394.813551\n",
      "209                                      Wyoming  102011043     3269.0      8.3810        390.048920\n",
      "210           Budgewoi - Buff Point - Halekulani  102021046     3648.0      9.3531        390.031113\n",
      "211                      Campbelltown - Woodbine  123021437     5360.0     13.7476        389.886235\n",
      "212                            Strathfield South  120031576      963.0      2.5112        383.482001\n",
      "213                        Gosford - Springfield  102011032     6373.0     16.9124        376.824105\n",
      "214                                      Penrith  124031464     3808.0     10.3941        366.361686\n",
      "215                     Avoca Beach - Copacabana  102011028     2325.0      6.4376        361.159438\n",
      "216                Cronulla - Kurnell - Bundeena  128011604     9038.0     25.0865        360.273454\n",
      "217                                 Quakers Hill  116021563     2761.0      7.7675        355.455423\n",
      "218                  Chipping Norton - Moorebank  127031523     5132.0     14.4902        354.170405\n",
      "219                                      St Ives  121031410     6225.0     17.7776        350.159752\n",
      "220                       Kingswood - Werrington  124031462     4884.0     14.0229        348.287444\n",
      "221                     Rooty Hill - Minchinbury  116031319     5062.0     14.6244        346.133858\n",
      "222                    St Marys - North St Marys  124051581     4406.0     12.8646        342.490245\n",
      "223                             Woronora Heights  128021609     1050.0      3.1374        334.672021\n",
      "224                 Macquarie Fields - Glenfield  123021442     5273.0     16.0182        329.188049\n",
      "225                      Point Clare - Koolewong  102011037     2220.0      6.7874        327.076642\n",
      "226                          Emu Plains - Leonay  124031459     4419.0     13.7940        320.356677\n",
      "227                                 The Entrance  102021053     4428.0     13.8576        319.535850\n",
      "228                   Mount Annan - Currans Hill  123011435     8224.0     26.1340        314.685850\n",
      "229                    Prestons - Edmondson Park  127031600     4408.0     14.1323        311.909597\n",
      "230                         Toukley - Norah Head  102021054     3208.0     10.5216        304.896594\n",
      "231                                       Cromer  122031425     2247.0      7.4915        299.939932\n",
      "232                 Umina - Booker Bay - Patonga  102011040     7540.0     25.2284        298.869528\n",
      "233                                   Turramurra  121031411     6095.0     20.6426        295.263194\n",
      "234                               Acacia Gardens  116021562      272.0      0.9466        287.344179\n",
      "235                  Elderslie - Harrington Park  123011434     6094.0     21.5414        282.897119\n",
      "236                                       Narara  102011035     2006.0      7.7021        260.448449\n",
      "237                          Woy Woy - Blackwall  102011042     4304.0     17.4225        247.036878\n",
      "238                     Frenchs Forest - Belrose  122031428     7090.0     30.1321        235.297241\n",
      "239                 Summerland Point - Gwandalan  102021052     2143.0      9.1793        233.460068\n",
      "240                                    Glenhaven  115011294     1687.0      7.2309        233.304291\n",
      "241                 Claymore - Eagle Vale - Raby  123021438     5204.0     22.9168        227.082315\n",
      "242                                 Erskine Park  124051469     1880.0      8.3944        223.958830\n",
      "243                                      Kariong  102011033     1824.0      8.3063        219.592358\n",
      "244                                 Condell Park  119011356     2196.0     10.0036        219.520972\n",
      "245                  Wamberal - Forresters Beach  102011041     2947.0     13.7221        214.763046\n",
      "246                      Leumeah - Minto Heights  123021441     4994.0     23.6461        211.197618\n",
      "247               Blaxland - Warrimoo - Lapstone  124011450     6200.0     29.6935        208.799906\n",
      "248                   Chittaway Bay - Tumbi Umbi  102021047     4947.0     24.4986        201.929906\n",
      "249                         Windsor - Bligh Park  124041467     4299.0     22.7300        189.133304\n",
      "250                                        Wyong  102021057     2805.0     15.0334        186.584538\n",
      "251                        Blue Haven - San Remo  102021045     3624.0     20.9797        172.738409\n",
      "252             Menai - Lucas Heights - Woronora  128021535     5523.0     33.4047        165.336016\n",
      "253                  Kincumber - Picketts Valley  102011034     1946.0     12.0887        160.976780\n",
      "254                        Asquith - Mount Colah  121021403     5524.0     34.6849        159.262388\n",
      "255                     Ingleburn - Denham Court  123021440     4580.0     30.9189        148.129461\n",
      "256                        Bradbury - Wedderburn  123021436     5402.0     36.6555        147.372154\n",
      "257                  Rouse Hill - Beaumont Hills  115041302     5400.0     36.6725        147.249301\n",
      "258                          Camden - Ellis Lane  123011433     3795.0     26.1934        144.883826\n",
      "259                       Niagara Park - Lisarow  102011036     2345.0     16.7316        140.153960\n",
      "260                          Erina - Green Point  102011031     4450.0     33.7934        131.682518\n",
      "261                             Katoomba - Leura  124011452     5053.0     40.8734        123.625634\n",
      "262                  Box Head - MacMasters Beach  102011029     3847.0     32.0860        119.896528\n",
      "263               Lake Munmorah - Mannering Park  102021050     4252.0     35.4946        119.792870\n",
      "264                     Rosemeadow - Glen Alpine  123021444     5712.0     48.0827        118.795326\n",
      "265                              Wentworth Falls  124011455     2297.0     21.0358        109.194801\n",
      "266                         Warnervale - Wadalba  102021056     4387.0     42.8900        102.284915\n",
      "267                        Springwood - Winmalee  124011454     7083.0     69.6647        101.672727\n",
      "268                     Castlereagh - Cranebrook  124031458     6709.0     71.5174         93.809339\n",
      "269                 Lawson - Hazelbrook - Linden  124011453     4106.0     46.8873         87.571688\n",
      "270                    Holsworthy - Wattle Grove  127031524     5392.0     73.7001         73.161366\n",
      "271                        Heathcote - Waterfall  128021533     1964.0     27.6162         71.117677\n",
      "272                    Riverstone - Marsden Park  116021312     4867.0     79.4210         61.281021\n",
      "273                         Richmond - Clarendon  124041466     3956.0     74.6728         52.977791\n",
      "274                        Tuggerah - Kangy Angy  102021055     1420.0     27.8463         50.994207\n",
      "275                    Bayview - Elanora Heights  122021421     3225.0     64.5830         49.935742\n",
      "276                                      Lithgow  103031070     5970.0    119.9844         49.756468\n",
      "277                                     Chullora  119011355      185.0      4.0501         45.677884\n",
      "278                   Berowra - Brooklyn - Cowan  121021404     3642.0     81.7548         44.547843\n",
      "279                        Cobbitty - Leppington  127011506     5119.0    132.1375         38.739949\n",
      "280                    Pitt Town - McGraths Hill  115041301     3083.0     81.5516         37.804286\n",
      "281                    Picton - Tahmoor - Buxton  123031447     5109.0    189.9084         26.902443\n",
      "282                                        Bargo  123031445     1704.0     67.7705         25.143683\n",
      "283                      Warragamba - Silverdale  124031465     1562.0     63.6143         24.554228\n",
      "284                          Austral - Greendale  127011505     2353.0    110.7146         21.252843\n",
      "285                   Horsley Park - Kemps Creek  127021518     1150.0     56.2773         20.434527\n",
      "286                     Yarramundi - Londonderry  124041468     1647.0     81.4359         20.224496\n",
      "287                 Kurrajong Heights - Ebenezer  115031300     6680.0    331.8500         20.129577\n",
      "288                        Morisset - Cooranbong  111021218     6298.0    330.5208         19.054777\n",
      "289           Mulgoa - Luddenham - Orchard Hills  124031463     2655.0    158.6776         16.732040\n",
      "290                 Blackheath - Megalong Valley  124011449     2302.0    139.2166         16.535384\n",
      "291           Dural - Kenthurst - Wisemans Ferry  115021297     5920.0    377.5396         15.680474\n",
      "292                 Terrey Hills - Duffys Forest  122031432     1026.0     70.5438         14.544156\n",
      "293                         Hill Top - Colo Vale  114021285     2249.0    174.3752         12.897476\n",
      "294                      Ourimbah - Fountaindale  102021051     1317.0    114.1172         11.540767\n",
      "295                         Douglas Park - Appin  123031446     2752.0    289.9461          9.491419\n",
      "296                       Galston - Laughtondale  115021298     1569.0    191.6990          8.184706\n",
      "297                           The Oaks - Oakdale  123031448     2631.0    322.7354          8.152189\n",
      "298                        Jilliby - Yarramalong  102021049      973.0    346.7662          2.805925\n",
      "299                           Southern Highlands  114021289     3405.0   1409.7013          2.415405\n",
      "300                              Cessnock Region  106011109     3281.0   1570.4341          2.089231\n",
      "301                              Calga - Kulnura  102011030     1575.0    767.9512          2.050912\n",
      "302                               Lithgow Region  103031071     3711.0   2514.0700          1.476093\n",
      "303                           Yennora Industrial  125031487        3.0      2.0787          1.443210\n",
      "304                               Badgerys Creek  127011592       18.0     17.5774          1.024042\n",
      "305                              Bathurst Region  103011060     3049.0   3798.2628          0.802735\n",
      "306                                       Oberon  103011061     2326.0   2972.3813          0.782538\n",
      "307                              Goulburn Region  101051540     6817.0   9035.1221          0.754500\n",
      "308                             Singleton Region  106011113     2055.0   4067.2349          0.505257\n",
      "309                    Bilpin - Colo - St Albans  115031299      858.0   2160.1601          0.397193\n",
      "310                           Prospect Reservoir  116031318        5.0     30.6917          0.162910\n",
      "311                          Royal National Park  128021537        4.0    139.3336          0.028708\n",
      "312                       Blue Mountains - North  124011451        6.0    595.0366          0.010083\n",
      "313                       Blue Mountains - South  124021456        3.0   2456.9093          0.001221\n",
      "314                               Sydney Airport  117011325        0.0      8.9106          0.000000\n",
      "315                              Centennial Park  118011342        0.0      1.9786          0.000000\n",
      "316                                  Banksmeadow  117011320        0.0      3.3683          0.000000\n",
      "317                       Port Botany Industrial  117011324        0.0      2.8044          0.000000\n",
      "318                            Rookwood Cemetery  125011475        0.0      3.0150          0.000000\n",
      "319                    Wetherill Park Industrial  127021521        0.0      8.5566          0.000000\n",
      "320                        Smithfield Industrial  125031486        0.0      4.3017          0.000000\n",
      "321                     Holsworthy Military Area  123021439        0.0    129.8230          0.000000\n",
      "population_density\n"
     ]
    }
   ],
   "source": [
    "query = '''\n",
    "SELECT n.area_name, n.area_id, n.dwellings, sa.areasqkm16, n.dwellings/sa.areasqkm16 as dwelling_density\n",
    "FROM neighbourhoods AS n\n",
    "INNER JOIN sa2_2016_aust AS sa\n",
    "ON n.area_id=sa.sa2_main16\n",
    "ORDER BY n.dwellings/sa.areasqkm16 DESC;\n",
    "'''\n",
    "\n",
    "response, dwell_df = pgquery(conn, query)\n",
    "dwell_df =  add_z_score_column(pop_df)"
   ]
  },
  {
   "cell_type": "markdown",
   "metadata": {},
   "source": [
    "#### 3. Business Density"
   ]
  },
  {
   "cell_type": "code",
   "execution_count": null,
   "metadata": {},
   "outputs": [],
   "source": [
    "query='''\n",
    "SELECT n.area_name, n.area_id, sa.areasqkm16, busi.number_of_businesses, \n",
    "busi.number_of_businesses/sa.areasqkm16 as business_density\n",
    "FROM neighbourhoods AS n\n",
    "INNER JOIN sa2_2016_aust AS sa\n",
    "ON n.area_id=sa.sa2_main16\n",
    "INNER JOIN businessstats AS busi\n",
    "ON n.area_id=busi.area_id\n",
    "ORDER BY busi.number_of_businesses/sa.areasqkm16 DESC;\n",
    "'''\n",
    "response, bus_df = pgquery(conn, query)\n",
    "bus_df =  add_z_score_column(bus_df)"
   ]
  },
  {
   "cell_type": "markdown",
   "metadata": {},
   "source": [
    "#### 4. BFPL Density"
   ]
  },
  {
   "cell_type": "code",
   "execution_count": null,
   "metadata": {},
   "outputs": [],
   "source": []
  },
  {
   "cell_type": "markdown",
   "metadata": {},
   "source": [
    "#### 5. Assistive Service Density"
   ]
  },
  {
   "cell_type": "code",
   "execution_count": null,
   "metadata": {},
   "outputs": [],
   "source": [
    "query='''\n",
    "SELECT n.area_name, n.area_id, sa.areasqkm16, busi.health_care_and_social_assistance,\n",
    "busi.health_care_and_social_assistance/sa.areasqkm16 as assistive_service_density\n",
    "FROM neighbourhoods AS n\n",
    "INNER JOIN sa2_2016_aust AS sa\n",
    "ON n.area_id=sa.sa2_main16\n",
    "INNER JOIN businessstats AS busi\n",
    "ON n.area_id=busi.area_id\n",
    "ORDER BY busi.health_care_and_social_assistance/sa.areasqkm16 DESC;\n",
    "'''\n",
    "\n",
    "response, ass_serv_df = pgquery(conn, query)\n",
    "ass_serv_df =  add_z_score_column(ass_serv_df )"
   ]
  },
  {
   "cell_type": "markdown",
   "metadata": {},
   "source": [
    "#### 6. Exchange Density\n",
    "\n",
    "N.B. Getting a weird key error despite the column being correct. Unresolved."
   ]
  },
  {
   "cell_type": "code",
   "execution_count": null,
   "metadata": {},
   "outputs": [],
   "source": [
    "query='''\n",
    "SELECT n.area_name, n.area_id, nsw_result.count AS exchanges, sa.areasqkm16,\n",
    "nsw_result.count/sa.areasqkm16 AS exchange_density,\n",
    "CASE\n",
    "WHEN nsw_result.count IS NULL THEN 0\n",
    "    ELSE nsw_result.count\n",
    "END AS exchanges_inclzero,\n",
    "CASE\n",
    "    WHEN nsw_result.count/sa.areasqkm16 IS NULL THEN 0\n",
    "    ELSE nsw_result.count/sa.areasqkm16\n",
    "END AS exchange_density_inclzero\n",
    "FROM neighbourhoods AS n\n",
    "    INNER JOIN sa2_2016_aust AS sa\n",
    "    ON n.area_id=sa.sa2_main16 \n",
    "    LEFT JOIN\n",
    "        (\n",
    "            SELECT sa.sa2_main16, sa.sa2_name16, COUNT(e.geom)\n",
    "            FROM sa2_2016_aust AS sa\n",
    "                INNER JOIN exchanges AS e ON ST_Contains(sa.geom, e.geom)\n",
    "            GROUP BY sa.sa2_main16, sa.sa2_name16\n",
    "            ORDER BY COUNT(e.geom) DESC\n",
    "        ) AS nsw_result\n",
    "ON n.area_id = nsw_result.sa2_main16\n",
    "ORDER BY nsw_result.count/sa.areasqkm16;\n",
    "\n",
    "'''\n",
    "\n",
    "response, exchange_df = pgquery(conn, query)\n",
    "exchange_df =  add_z_score_column(exchange_df, column='exchange_density_inclzero')"
   ]
  },
  {
   "cell_type": "markdown",
   "metadata": {},
   "source": [
    "#### Observing the distribution of the z-scores"
   ]
  },
  {
   "cell_type": "code",
   "execution_count": 163,
   "metadata": {},
   "outputs": [
    {
     "data": {
      "image/png": "[encoded data removed]",
      "text/plain": [
       "<Figure size 432x288 with 4 Axes>"
      ]
     },
     "metadata": {
      "needs_background": "light"
     },
     "output_type": "display_data"
    }
   ],
   "source": [
    "fig, axes = plt.subplots(2,2)\n",
    "computed_measures = [pop_df, dwell_df, bus_df, ass_serv_df]\n",
    "\n",
    "for type, ax in zip(computed_measures, axes.flatten()):\n",
    "    ax.hist(type['z_score'])"
   ]
  },
  {
   "cell_type": "markdown",
   "metadata": {},
   "source": [
    "### Fire Risk Score\n",
    "\n",
    "$$fire_risk = S(z(population_density)+z(dwelling_&_business_density)+z(bfpl_density)−z(assistive_service_density))$$"
   ]
  },
  {
   "cell_type": "code",
   "execution_count": null,
   "metadata": {},
   "outputs": [],
   "source": []
  },
  {
   "attachments": {
    "40d7348d-7203-4d87-8cf2-2e8b3beeb426.png": {
     "image/png": "[encoded data removed]"
    }
   },
   "cell_type": "markdown",
   "metadata": {},
   "source": [
    "### Linear Regression & Correlation\n",
    "\n",
    "Pearson correlation coefficient calculated.\n",
    "<div>\n",
    "<img src=\"attachment:40d7348d-7203-4d87-8cf2-2e8b3beeb426.png\" width=\"200\"/>\n",
    "</div>"
   ]
  },
  {
   "cell_type": "code",
   "execution_count": 58,
   "metadata": {},
   "outputs": [],
   "source": [
    "from sklearn.linear_model import LinearRegression\n",
    "\n",
    "def LinearReg(y, X):\n",
    "    query = \"\"\"SELECT area_id, fire_risk_score, {X} FROM neighbourhoods INNER JOIN scores USING(area_id);\"\"\".format(x=x)\n",
    "    response, df = pgquery(conn, query)\n",
    "    y = df.loc[:, fire_risk_score]\n",
    "    X = df.loc[:, X]\n",
    "    reg = LinearRegression().fit(X,y)\n",
    "    cor = df[['fire_risk_score', X]].corr()\n",
    "    return reg, cor\n",
    "    "
   ]
  },
  {
   "cell_type": "code",
   "execution_count": null,
   "metadata": {},
   "outputs": [],
   "source": [
    "\n",
    "reg_model, cor = LinearReg('fire_risk_score', 'median_income')\n"
   ]
  }
 ],
 "metadata": {
  "kernelspec": {
   "display_name": "Python 3",
   "language": "python",
   "name": "python3"
  },
  "language_info": {
   "codemirror_mode": {
    "name": "ipython",
    "version": 3
   },
   "file_extension": ".py",
   "mimetype": "text/x-python",
   "name": "python",
   "nbconvert_exporter": "python",
   "pygments_lexer": "ipython3",
   "version": "3.8.8"
  }
 },
 "nbformat": 4,
 "nbformat_minor": 4
}
