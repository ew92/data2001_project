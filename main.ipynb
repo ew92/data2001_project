{
 "cells": [
  {
   "cell_type": "markdown",
   "metadata": {},
   "source": [
    "# DATA2001 2021 Assignment\n",
    "*An analysis of neighbourhood fire risk and median income & rent.*\n",
    "\n"
   ]
  },
  {
   "cell_type": "code",
   "execution_count": 1,
   "metadata": {},
   "outputs": [],
   "source": [
    "import pandas as pd\n",
    "import geopandas as gpd\n",
    "import os\n",
    "import numpy as np\n",
    "import json\n",
    "\n",
    "from shapely.geometry import Point, Polygon, MultiPolygon\n",
    "from geopandas import GeoSeries, GeoDataFrame\n",
    "from geoalchemy2 import Geometry, WKTElement\n",
    "from sqlalchemy import *\n",
    "from sqlalchemy import create_engine\n",
    "import psycopg2\n",
    "import psycopg2.extras\n",
    "\n",
    "import matplotlib.pyplot as plt"
   ]
  },
  {
   "cell_type": "code",
   "execution_count": 2,
   "metadata": {},
   "outputs": [],
   "source": [
    "# ------ Internal use MATTHEW\n",
    "#For troubleshooting in the case your data isn't loading.\n",
    "#os.chdir('M:\\\\Jupyter Notebooks\\\\data2001_project')\n",
    "#os.getcwd()"
   ]
  },
  {
   "cell_type": "markdown",
   "metadata": {},
   "source": [
    "## Task 1: Data Integration and Database Generation\n",
    "\n",
    "### Loading datasets (standard dataframes)"
   ]
  },
  {
   "cell_type": "code",
   "execution_count": 2,
   "metadata": {},
   "outputs": [
    {
     "name": "stdout",
     "output_type": "stream",
     "text": [
      "area_id            int64\n",
      "area_name         object\n",
      "parent_area_id     int64\n",
      "dtype: object\n"
     ]
    }
   ],
   "source": [
    "stat_areas_df = pd.read_csv('./data/StatisticalAreas.csv')\n",
    "print(stat_areas_df.dtypes)"
   ]
  },
  {
   "cell_type": "code",
   "execution_count": 3,
   "metadata": {},
   "outputs": [
    {
     "name": "stdout",
     "output_type": "stream",
     "text": [
      "431\n",
      "106          2\n",
      "111          2\n",
      "114          2\n",
      "126021498    1\n",
      "125021476    1\n",
      "            ..\n",
      "119031372    1\n",
      "119031373    1\n",
      "119031374    1\n",
      "119021573    1\n",
      "1            1\n",
      "Name: area_id, Length: 431, dtype: int64\n",
      "434\n",
      "431\n"
     ]
    },
    {
     "data": {
      "text/html": [
       "<div>\n",
       "<style scoped>\n",
       "    .dataframe tbody tr th:only-of-type {\n",
       "        vertical-align: middle;\n",
       "    }\n",
       "\n",
       "    .dataframe tbody tr th {\n",
       "        vertical-align: top;\n",
       "    }\n",
       "\n",
       "    .dataframe thead th {\n",
       "        text-align: right;\n",
       "    }\n",
       "</style>\n",
       "<table border=\"1\" class=\"dataframe\">\n",
       "  <thead>\n",
       "    <tr style=\"text-align: right;\">\n",
       "      <th></th>\n",
       "      <th>area_id</th>\n",
       "      <th>area_name</th>\n",
       "      <th>parent_area_id</th>\n",
       "    </tr>\n",
       "  </thead>\n",
       "  <tbody>\n",
       "    <tr>\n",
       "      <th>0</th>\n",
       "      <td>1</td>\n",
       "      <td>New South Wales</td>\n",
       "      <td>0</td>\n",
       "    </tr>\n",
       "    <tr>\n",
       "      <th>1</th>\n",
       "      <td>10</td>\n",
       "      <td>Greater Sydney</td>\n",
       "      <td>1</td>\n",
       "    </tr>\n",
       "  </tbody>\n",
       "</table>\n",
       "</div>"
      ],
      "text/plain": [
       "   area_id        area_name  parent_area_id\n",
       "0        1  New South Wales               0\n",
       "1       10   Greater Sydney               1"
      ]
     },
     "execution_count": 3,
     "metadata": {},
     "output_type": "execute_result"
    }
   ],
   "source": [
    "# Cleaning - remove duplicates\n",
    "print(len(stat_areas_df.area_id.unique()))\n",
    "print(stat_areas_df.area_id.value_counts())\n",
    "\n",
    "# DUPLICATE ROWS in statisticalareas - confirmed\n",
    "\n",
    "#stat_areas_df.loc[stat_areas_df['area_id']==106]\n",
    "#stat_areas_df.loc[stat_areas_df['area_id']==111]\n",
    "#stat_areas_df.loc[stat_areas_df['area_id']==114]\n",
    "\n",
    "print(len(stat_areas_df))\n",
    "stat_areas_df = stat_areas_df.drop_duplicates()\n",
    "print(len(stat_areas_df))\n",
    "\n",
    "stat_areas_df.head(2)"
   ]
  },
  {
   "cell_type": "code",
   "execution_count": 4,
   "metadata": {},
   "outputs": [
    {
     "data": {
      "text/html": [
       "<div>\n",
       "<style scoped>\n",
       "    .dataframe tbody tr th:only-of-type {\n",
       "        vertical-align: middle;\n",
       "    }\n",
       "\n",
       "    .dataframe tbody tr th {\n",
       "        vertical-align: top;\n",
       "    }\n",
       "\n",
       "    .dataframe thead th {\n",
       "        text-align: right;\n",
       "    }\n",
       "</style>\n",
       "<table border=\"1\" class=\"dataframe\">\n",
       "  <thead>\n",
       "    <tr style=\"text-align: right;\">\n",
       "      <th></th>\n",
       "      <th>area_id</th>\n",
       "      <th>area_name</th>\n",
       "      <th>land_area</th>\n",
       "      <th>population</th>\n",
       "      <th>dwellings</th>\n",
       "      <th>businesses</th>\n",
       "      <th>median_income</th>\n",
       "      <th>avg_monthly_rent</th>\n",
       "    </tr>\n",
       "  </thead>\n",
       "  <tbody>\n",
       "    <tr>\n",
       "      <th>0</th>\n",
       "      <td>102011028</td>\n",
       "      <td>Avoca Beach - Copacabana</td>\n",
       "      <td>643.8</td>\n",
       "      <td>7590</td>\n",
       "      <td>2325</td>\n",
       "      <td>738.0</td>\n",
       "      <td>46996.0</td>\n",
       "      <td>1906.0</td>\n",
       "    </tr>\n",
       "  </tbody>\n",
       "</table>\n",
       "</div>"
      ],
      "text/plain": [
       "     area_id                 area_name  land_area population dwellings  \\\n",
       "0  102011028  Avoca Beach - Copacabana      643.8       7590      2325   \n",
       "\n",
       "   businesses  median_income  avg_monthly_rent  \n",
       "0       738.0        46996.0            1906.0  "
      ]
     },
     "execution_count": 4,
     "metadata": {},
     "output_type": "execute_result"
    }
   ],
   "source": [
    "nbhd_df = pd.read_csv('./data/Neighbourhoods.csv')\n",
    "\n",
    "# nbhd_df.area_id.value_counts() # confirmed no duplicate area_id\n",
    "\n",
    "# Changing column names according to assignment sheet\n",
    "nbhd_df = nbhd_df.rename(columns={'number_of_dwellings':'dwellings', 'number_of_businesses':'businesses', 'median_annual_household_income':'median_income'}) \n",
    "nbhd_df.head(1)"
   ]
  },
  {
   "cell_type": "code",
   "execution_count": 5,
   "metadata": {},
   "outputs": [
    {
     "name": "stdout",
     "output_type": "stream",
     "text": [
      "322\n",
      "area_id               int64\n",
      "area_name            object\n",
      "land_area           float64\n",
      "population           object\n",
      "dwellings            object\n",
      "businesses          float64\n",
      "median_income       float64\n",
      "avg_monthly_rent    float64\n",
      "dtype: object\n"
     ]
    }
   ],
   "source": [
    "print(len(nbhd_df))\n",
    "print(nbhd_df.dtypes)"
   ]
  },
  {
   "cell_type": "code",
   "execution_count": 6,
   "metadata": {},
   "outputs": [],
   "source": [
    "# Cleaning - correcting number representation\n",
    "nbhd_df['population'] = nbhd_df['population'].str.replace(',','')\n",
    "nbhd_df['population'] = nbhd_df['population'].astype('float64')\n",
    "\n",
    "nbhd_df['dwellings'] = nbhd_df['dwellings'].str.replace(',','')\n",
    "nbhd_df['dwellings'] = nbhd_df['dwellings'].astype('float64')"
   ]
  },
  {
   "cell_type": "code",
   "execution_count": 7,
   "metadata": {},
   "outputs": [
    {
     "name": "stdout",
     "output_type": "stream",
     "text": [
      "2301\n",
      "area_id                              int64\n",
      "number_of_businesses                 int64\n",
      "accommodation_and_food               int64\n",
      "retail_trade                         int64\n",
      "agriculture_forestry_and_fishing     int64\n",
      "health_care_and_social_assistance    int64\n",
      "public_administration_and_safety     int64\n",
      "transport_postal_and_warehousing     int64\n",
      "dtype: object\n"
     ]
    }
   ],
   "source": [
    "busi_stat_df = pd.read_csv('./data/BusinessStats.csv')\n",
    "\n",
    "busi_stat_df = busi_stat_df.drop(columns=['area_name']) #Not in the required columns according to May revision of assigment sheet v3\n",
    "busi_stat_df = busi_stat_df.rename(columns={'accommodation_and_food_services':'accommodation_and_food'}) #Changing column names according to assignment sheet\n",
    "\n",
    "# busi_stat_df.area_id.value_counts() # confirmed no duplicates\n",
    "print(len(busi_stat_df))\n",
    "print(busi_stat_df.dtypes)"
   ]
  },
  {
   "cell_type": "code",
   "execution_count": 8,
   "metadata": {},
   "outputs": [
    {
     "name": "stdout",
     "output_type": "stream",
     "text": [
      "object\n",
      "object\n",
      "object\n"
     ]
    }
   ],
   "source": [
    "# DECISION: cast area_id in each df as string in order to ensure integrity going into DB as non-numeric values\n",
    "\n",
    "stat_areas_df['area_id'] = stat_areas_df['area_id'].astype('str')\n",
    "print(stat_areas_df['area_id'].dtype)\n",
    "\n",
    "nbhd_df['area_id'] = nbhd_df['area_id'].astype('str')\n",
    "print(nbhd_df['area_id'].dtype)\n",
    "\n",
    "busi_stat_df['area_id'] = busi_stat_df['area_id'].astype('str')\n",
    "print(busi_stat_df['area_id'].dtype)"
   ]
  },
  {
   "cell_type": "code",
   "execution_count": 93,
   "metadata": {},
   "outputs": [
    {
     "name": "stdout",
     "output_type": "stream",
     "text": [
      "2301\n",
      "322\n"
     ]
    }
   ],
   "source": [
    "# POSSIBLE DESIGN DECISION: LIMIT BUSINESS STAT OBSERVATIONS IN DB TO THE NEIGHBOURHOODS STUDIED\n",
    "\n",
    "# print(len(busi_stat_df))\n",
    "# busi_stat_df = busi_stat_df.loc[busi_stat_df['area_id'].isin(nbhd_df['area_id'].tolist())]\n",
    "# print(len(busi_stat_df))"
   ]
  },
  {
   "cell_type": "markdown",
   "metadata": {},
   "source": [
    "### Loading datasets (geodataframes)\n",
    "#### RFS NSW Bushfire Prone Land - shapefile"
   ]
  },
  {
   "cell_type": "code",
   "execution_count": 18,
   "metadata": {},
   "outputs": [
    {
     "name": "stdout",
     "output_type": "stream",
     "text": [
      "epsg:4283\n",
      "category         int64\n",
      "shape_leng     float64\n",
      "shape_area     float64\n",
      "geometry      geometry\n",
      "dtype: object\n"
     ]
    },
    {
     "data": {
      "text/html": [
       "<div>\n",
       "<style scoped>\n",
       "    .dataframe tbody tr th:only-of-type {\n",
       "        vertical-align: middle;\n",
       "    }\n",
       "\n",
       "    .dataframe tbody tr th {\n",
       "        vertical-align: top;\n",
       "    }\n",
       "\n",
       "    .dataframe thead th {\n",
       "        text-align: right;\n",
       "    }\n",
       "</style>\n",
       "<table border=\"1\" class=\"dataframe\">\n",
       "  <thead>\n",
       "    <tr style=\"text-align: right;\">\n",
       "      <th></th>\n",
       "      <th>category</th>\n",
       "      <th>shape_leng</th>\n",
       "      <th>shape_area</th>\n",
       "      <th>geometry</th>\n",
       "    </tr>\n",
       "  </thead>\n",
       "  <tbody>\n",
       "    <tr>\n",
       "      <th>0</th>\n",
       "      <td>1</td>\n",
       "      <td>0.000017</td>\n",
       "      <td>5.392400e-12</td>\n",
       "      <td>POINT (149.11319 -33.05824)</td>\n",
       "    </tr>\n",
       "  </tbody>\n",
       "</table>\n",
       "</div>"
      ],
      "text/plain": [
       "   category  shape_leng    shape_area                     geometry\n",
       "0         1    0.000017  5.392400e-12  POINT (149.11319 -33.05824)"
      ]
     },
     "execution_count": 18,
     "metadata": {},
     "output_type": "execute_result"
    }
   ],
   "source": [
    "rfs_gdf = gpd.read_file('./data/RFSNSW_BFPL/RFSNSW_BFPL.shp')\n",
    "print(rfs_gdf.crs) # Check EPSG / CRS -- 4283 = GDA94\n",
    "rfs_gdf.columns = [x.lower() for x in rfs_gdf.columns] # lower case col names\n",
    "print(rfs_gdf.dtypes)\n",
    "rfs_gdf.head(1)"
   ]
  },
  {
   "cell_type": "code",
   "execution_count": 19,
   "metadata": {},
   "outputs": [
    {
     "name": "stdout",
     "output_type": "stream",
     "text": [
      "516633\n"
     ]
    },
    {
     "data": {
      "text/plain": [
       "Point    516633\n",
       "dtype: int64"
      ]
     },
     "execution_count": 19,
     "metadata": {},
     "output_type": "execute_result"
    }
   ],
   "source": [
    "# Check geometries\n",
    "print(len(rfs_gdf))\n",
    "rfs_gdf.geometry.type.value_counts()"
   ]
  },
  {
   "cell_type": "code",
   "execution_count": 20,
   "metadata": {},
   "outputs": [
    {
     "data": {
      "text/html": [
       "<div>\n",
       "<style scoped>\n",
       "    .dataframe tbody tr th:only-of-type {\n",
       "        vertical-align: middle;\n",
       "    }\n",
       "\n",
       "    .dataframe tbody tr th {\n",
       "        vertical-align: top;\n",
       "    }\n",
       "\n",
       "    .dataframe thead th {\n",
       "        text-align: right;\n",
       "    }\n",
       "</style>\n",
       "<table border=\"1\" class=\"dataframe\">\n",
       "  <thead>\n",
       "    <tr style=\"text-align: right;\">\n",
       "      <th></th>\n",
       "      <th>gid</th>\n",
       "      <th>category</th>\n",
       "      <th>shape_leng</th>\n",
       "      <th>shape_area</th>\n",
       "      <th>geometry</th>\n",
       "    </tr>\n",
       "  </thead>\n",
       "  <tbody>\n",
       "    <tr>\n",
       "      <th>0</th>\n",
       "      <td>0</td>\n",
       "      <td>1</td>\n",
       "      <td>0.000017</td>\n",
       "      <td>5.392400e-12</td>\n",
       "      <td>POINT (149.11319 -33.05824)</td>\n",
       "    </tr>\n",
       "    <tr>\n",
       "      <th>1</th>\n",
       "      <td>1</td>\n",
       "      <td>1</td>\n",
       "      <td>0.000178</td>\n",
       "      <td>1.140005e-09</td>\n",
       "      <td>POINT (152.27536 -29.68316)</td>\n",
       "    </tr>\n",
       "    <tr>\n",
       "      <th>2</th>\n",
       "      <td>2</td>\n",
       "      <td>1</td>\n",
       "      <td>0.000890</td>\n",
       "      <td>4.950178e-08</td>\n",
       "      <td>POINT (152.14244 -29.68266)</td>\n",
       "    </tr>\n",
       "    <tr>\n",
       "      <th>3</th>\n",
       "      <td>3</td>\n",
       "      <td>1</td>\n",
       "      <td>0.000442</td>\n",
       "      <td>8.094091e-09</td>\n",
       "      <td>POINT (152.27579 -29.68259)</td>\n",
       "    </tr>\n",
       "    <tr>\n",
       "      <th>4</th>\n",
       "      <td>4</td>\n",
       "      <td>1</td>\n",
       "      <td>0.000890</td>\n",
       "      <td>4.950155e-08</td>\n",
       "      <td>POINT (151.99619 -29.68131)</td>\n",
       "    </tr>\n",
       "  </tbody>\n",
       "</table>\n",
       "</div>"
      ],
      "text/plain": [
       "   gid  category  shape_leng    shape_area                     geometry\n",
       "0    0         1    0.000017  5.392400e-12  POINT (149.11319 -33.05824)\n",
       "1    1         1    0.000178  1.140005e-09  POINT (152.27536 -29.68316)\n",
       "2    2         1    0.000890  4.950178e-08  POINT (152.14244 -29.68266)\n",
       "3    3         1    0.000442  8.094091e-09  POINT (152.27579 -29.68259)\n",
       "4    4         1    0.000890  4.950155e-08  POINT (151.99619 -29.68131)"
      ]
     },
     "execution_count": 20,
     "metadata": {},
     "output_type": "execute_result"
    }
   ],
   "source": [
    "# Recreate incrementing 'gid' (0 index)\n",
    "rfs_gdf.insert(loc=0, column='gid', value=rfs_gdf.index)\n",
    "rfs_gdf.head()"
   ]
  },
  {
   "cell_type": "markdown",
   "metadata": {},
   "source": [
    "#### ABS Statistical Area 2 (2016) - shapefile"
   ]
  },
  {
   "cell_type": "code",
   "execution_count": 69,
   "metadata": {},
   "outputs": [
    {
     "name": "stdout",
     "output_type": "stream",
     "text": [
      "epsg:4283\n"
     ]
    },
    {
     "data": {
      "text/html": [
       "<div>\n",
       "<style scoped>\n",
       "    .dataframe tbody tr th:only-of-type {\n",
       "        vertical-align: middle;\n",
       "    }\n",
       "\n",
       "    .dataframe tbody tr th {\n",
       "        vertical-align: top;\n",
       "    }\n",
       "\n",
       "    .dataframe thead th {\n",
       "        text-align: right;\n",
       "    }\n",
       "</style>\n",
       "<table border=\"1\" class=\"dataframe\">\n",
       "  <thead>\n",
       "    <tr style=\"text-align: right;\">\n",
       "      <th></th>\n",
       "      <th>g_id</th>\n",
       "      <th>sa2_main16</th>\n",
       "      <th>sa2_5dig16</th>\n",
       "      <th>sa2_name16</th>\n",
       "      <th>sa3_code</th>\n",
       "      <th>sa3_name</th>\n",
       "      <th>sa4_code</th>\n",
       "      <th>sa4_name</th>\n",
       "      <th>gcc_code</th>\n",
       "      <th>gcc_name</th>\n",
       "      <th>ste_code</th>\n",
       "      <th>ste_name</th>\n",
       "      <th>areasqkm16</th>\n",
       "      <th>geometry</th>\n",
       "    </tr>\n",
       "  </thead>\n",
       "  <tbody>\n",
       "    <tr>\n",
       "      <th>0</th>\n",
       "      <td>0</td>\n",
       "      <td>101021007</td>\n",
       "      <td>11007</td>\n",
       "      <td>Braidwood</td>\n",
       "      <td>10102</td>\n",
       "      <td>Queanbeyan</td>\n",
       "      <td>101</td>\n",
       "      <td>Capital Region</td>\n",
       "      <td>1RNSW</td>\n",
       "      <td>Rest of NSW</td>\n",
       "      <td>1</td>\n",
       "      <td>New South Wales</td>\n",
       "      <td>3418.3525</td>\n",
       "      <td>POLYGON ((149.58423 -35.44427, 149.58444 -35.4...</td>\n",
       "    </tr>\n",
       "  </tbody>\n",
       "</table>\n",
       "</div>"
      ],
      "text/plain": [
       "   g_id sa2_main16 sa2_5dig16 sa2_name16 sa3_code    sa3_name sa4_code  \\\n",
       "0     0  101021007      11007  Braidwood    10102  Queanbeyan      101   \n",
       "\n",
       "         sa4_name gcc_code     gcc_name ste_code         ste_name  areasqkm16  \\\n",
       "0  Capital Region    1RNSW  Rest of NSW        1  New South Wales   3418.3525   \n",
       "\n",
       "                                            geometry  \n",
       "0  POLYGON ((149.58423 -35.44427, 149.58444 -35.4...  "
      ]
     },
     "execution_count": 69,
     "metadata": {},
     "output_type": "execute_result"
    }
   ],
   "source": [
    "sa2_gdf = gpd.read_file('./data/1270055001_sa2_2016_aust_shape/SA2_2016_AUST.shp')\n",
    "\n",
    "print(sa2_gdf.crs) # Check EPSG / CRS -- 4283 = GDA94\n",
    "\n",
    "sa2_gdf.columns = [x.lower() for x in sa2_gdf.columns] # lower case col names\n",
    "\n",
    "# Recreate incrementing 'g_id' (0 index)\n",
    "sa2_gdf.insert(loc=0, column='g_id', value=sa2_gdf.index)\n",
    "\n",
    "# Changing column names according to assignment sheet\n",
    "sa2_gdf=sa2_gdf.rename(columns={'sa3_code16':'sa3_code', 'sa3_name16':'sa3_name', 'sa4_code16':'sa4_code', 'sa4_name16':'sa4_name', 'gcc_code16':'gcc_code', 'gcc_name16':'gcc_name', 'ste_code16':'ste_code', 'ste_name16':'ste_name'})\n",
    "\n",
    "sa2_gdf['sa2_main16'] = sa2_gdf['sa2_main16'].astype('str')\n",
    "\n",
    "sa2_gdf.head(1)"
   ]
  },
  {
   "cell_type": "code",
   "execution_count": 10,
   "metadata": {},
   "outputs": [
    {
     "name": "stdout",
     "output_type": "stream",
     "text": [
      "2310\n",
      "Polygon         2083\n",
      "MultiPolygon     209\n",
      "dtype: int64\n",
      "Null geometry count: 18\n"
     ]
    }
   ],
   "source": [
    "# Check geometries\n",
    "print(len(sa2_gdf))\n",
    "print(sa2_gdf.geometry.type.value_counts())\n",
    "no_geoms_sa2 = sum(sa2_gdf.geometry.type.isna())\n",
    "print(f'Null geometry count: {no_geoms_sa2}')"
   ]
  },
  {
   "cell_type": "code",
   "execution_count": 12,
   "metadata": {},
   "outputs": [
    {
     "data": {
      "text/html": [
       "<div>\n",
       "<style scoped>\n",
       "    .dataframe tbody tr th:only-of-type {\n",
       "        vertical-align: middle;\n",
       "    }\n",
       "\n",
       "    .dataframe tbody tr th {\n",
       "        vertical-align: top;\n",
       "    }\n",
       "\n",
       "    .dataframe thead th {\n",
       "        text-align: right;\n",
       "    }\n",
       "</style>\n",
       "<table border=\"1\" class=\"dataframe\">\n",
       "  <thead>\n",
       "    <tr style=\"text-align: right;\">\n",
       "      <th></th>\n",
       "      <th>g_id</th>\n",
       "      <th>sa2_main16</th>\n",
       "      <th>sa2_5dig16</th>\n",
       "      <th>sa2_name16</th>\n",
       "      <th>sa3_code</th>\n",
       "      <th>sa3_name</th>\n",
       "      <th>sa4_code</th>\n",
       "      <th>sa4_name</th>\n",
       "      <th>gcc_code</th>\n",
       "      <th>gcc_name</th>\n",
       "      <th>ste_code</th>\n",
       "      <th>ste_name</th>\n",
       "      <th>areasqkm16</th>\n",
       "      <th>geometry</th>\n",
       "    </tr>\n",
       "  </thead>\n",
       "  <tbody>\n",
       "    <tr>\n",
       "      <th>576</th>\n",
       "      <td>576</td>\n",
       "      <td>197979799</td>\n",
       "      <td>19799</td>\n",
       "      <td>Migratory - Offshore - Shipping (NSW)</td>\n",
       "      <td>19797</td>\n",
       "      <td>Migratory - Offshore - Shipping (NSW)</td>\n",
       "      <td>197</td>\n",
       "      <td>Migratory - Offshore - Shipping (NSW)</td>\n",
       "      <td>19799</td>\n",
       "      <td>Migratory - Offshore - Shipping (NSW)</td>\n",
       "      <td>1</td>\n",
       "      <td>New South Wales</td>\n",
       "      <td>0.0</td>\n",
       "      <td>None</td>\n",
       "    </tr>\n",
       "  </tbody>\n",
       "</table>\n",
       "</div>"
      ],
      "text/plain": [
       "     g_id sa2_main16 sa2_5dig16                             sa2_name16  \\\n",
       "576   576  197979799      19799  Migratory - Offshore - Shipping (NSW)   \n",
       "\n",
       "    sa3_code                               sa3_name sa4_code  \\\n",
       "576    19797  Migratory - Offshore - Shipping (NSW)      197   \n",
       "\n",
       "                                  sa4_name gcc_code  \\\n",
       "576  Migratory - Offshore - Shipping (NSW)    19799   \n",
       "\n",
       "                                  gcc_name ste_code         ste_name  \\\n",
       "576  Migratory - Offshore - Shipping (NSW)        1  New South Wales   \n",
       "\n",
       "     areasqkm16 geometry  \n",
       "576         0.0     None  "
      ]
     },
     "execution_count": 12,
     "metadata": {},
     "output_type": "execute_result"
    }
   ],
   "source": [
    "sa2_gdf.loc[sa2_gdf.geometry.type.isna()].head(1)"
   ]
  },
  {
   "cell_type": "code",
   "execution_count": 13,
   "metadata": {},
   "outputs": [
    {
     "name": "stdout",
     "output_type": "stream",
     "text": [
      "New South Wales                 578\n",
      "Queensland                      530\n",
      "Victoria                        464\n",
      "Western Australia               254\n",
      "South Australia                 174\n",
      "Australian Capital Territory    133\n",
      "Tasmania                        101\n",
      "Northern Territory               70\n",
      "Other Territories                 6\n",
      "Name: ste_name, dtype: int64\n",
      "\n",
      "\n",
      "Greater Sydney                           312\n",
      "Rest of NSW                              264\n",
      "No usual address (NSW)                     1\n",
      "Migratory - Offshore - Shipping (NSW)      1\n",
      "Name: gcc_name, dtype: int64\n"
     ]
    }
   ],
   "source": [
    "# Inspection / preliminary exploration\n",
    "print(sa2_gdf.ste_name.value_counts()) # Confirm federal level dataset\n",
    "print(\"\\n\")\n",
    "print(sa2_gdf.loc[sa2_gdf.ste_name==\"New South Wales\"]['gcc_name'].value_counts()) # Confirm Greater Sydney GCCSA"
   ]
  },
  {
   "cell_type": "code",
   "execution_count": 24,
   "metadata": {},
   "outputs": [
    {
     "name": "stdout",
     "output_type": "stream",
     "text": [
      "Greater Sydney    312\n",
      "Rest of NSW       264\n",
      "Name: gcc_name, dtype: int64\n"
     ]
    }
   ],
   "source": [
    "# POSSIBLE DECISION: REMOVE THE 18 ROWS WHERE NO SPATIAL JOINS OR FUNCTIONS CAN BE PERFORMED (NULL GEOMETRIES)\n",
    "\n",
    "#sa2_gdf = sa2_gdf[sa2_gdf['geometry'].notna()]\n",
    "#print(sa2_gdf.loc[sa2_gdf.ste_name==\"New South Wales\"]['gcc_name'].value_counts())"
   ]
  },
  {
   "cell_type": "markdown",
   "metadata": {},
   "source": [
    "### Connecting with Database and Creation of Tables"
   ]
  },
  {
   "cell_type": "code",
   "execution_count": 14,
   "metadata": {},
   "outputs": [
    {
     "name": "stdout",
     "output_type": "stream",
     "text": [
      "function setup successful.\n"
     ]
    }
   ],
   "source": [
    "### ---------------ATTN MARKER \n",
    "# - RUN THIS---------------\n",
    "\n",
    "# ASSUME THIS WORKS MOST GENERALLY E.g. FOR RUNNING IN USYD SERVER\n",
    "\n",
    "# Function for accessing Postgres DB (SOURCE: DATA2001 Lab materials) - Eugene\n",
    "\n",
    "def pgconnect_using_credfile(credential_filepath):\n",
    "    try:\n",
    "        with open(credential_filepath) as f:\n",
    "            db_conn_dict = json.load(f)\n",
    "        connstring = 'postgres+psycopg2://'+db_conn_dict['user']+':'+db_conn_dict['password']+'@'+db_conn_dict['host']+'/'+db_conn_dict['database']\n",
    "        db = create_engine(connstring, echo=False)\n",
    "        conn = db.connect()\n",
    "        print('connected')\n",
    "    except Exception as e:\n",
    "        print(\"unable to connect to the database\")\n",
    "        print(e)\n",
    "        return None\n",
    "    return db,conn\n",
    "\n",
    "print(\"function setup successful.\")"
   ]
  },
  {
   "cell_type": "code",
   "execution_count": 16,
   "metadata": {},
   "outputs": [],
   "source": [
    "### ---------------ATTN MARKER - DO *NOT* RUN---------------\n",
    "# Alternative Function for accessing Postgres DB (SOURCE: DATA2001 Lab materials) - Matthew\n",
    "# JUST FOR MATTHEW\n",
    "\n",
    "def pgconnect_using_credfile(credential_filepath):\n",
    "    try:\n",
    "        args = {\n",
    "            'sslmode':'disable',\n",
    "            'gssencmode':'disable'\n",
    "        }\n",
    "        with open(credential_filepath) as f:\n",
    "            db_conn_dict = json.load(f)\n",
    "        connstring = 'postgresql+psycopg2://'+db_conn_dict['user']+':'+db_conn_dict['password']+'@'+db_conn_dict['host']+'/'+db_conn_dict['database']\n",
    "        db = create_engine(connstring, echo=False, connect_args=args)\n",
    "        conn = db.connect()\n",
    "        print('connected')\n",
    "    except Exception as e:\n",
    "        print(\"unable to connect to the database\")\n",
    "        print(e)\n",
    "        return None\n",
    "    return db,conn"
   ]
  },
  {
   "cell_type": "code",
   "execution_count": 15,
   "metadata": {},
   "outputs": [
    {
     "name": "stdout",
     "output_type": "stream",
     "text": [
      "connected\n"
     ]
    }
   ],
   "source": [
    "# Connect to University server student Postgres DB\n",
    "\n",
    "credfilepath = './data2x01_db.json' # Internal note: not tracked on Git, must be locally available. \n",
    "# Eugene's JSON to be uploaded in submission\n",
    "\n",
    "db, conn = pgconnect_using_credfile(credfilepath)"
   ]
  },
  {
   "cell_type": "code",
   "execution_count": 16,
   "metadata": {},
   "outputs": [
    {
     "name": "stdout",
     "output_type": "stream",
     "text": [
      "function setup successful.\n"
     ]
    }
   ],
   "source": [
    "# Function for querying the PostgreSQL DB.\n",
    "# Returns value and a converted dataframe (SOURCE: DATA2001 Lab materials)\n",
    "\n",
    "def pgquery( conn, sqlcmd, args=None, silent=False ):\n",
    "    \"\"\" utility function to execute some SQL query statement\n",
    "    can take optional arguments to fill in (dictionary)\n",
    "    will print out on screen the result set of the query\n",
    "    error and transaction handling built-in \"\"\"\n",
    "    retdf = pd.DataFrame()\n",
    "    retval = False\n",
    "    try:\n",
    "        if args is None:\n",
    "            retdf = pd.read_sql_query(sqlcmd,conn)\n",
    "        else:\n",
    "            retdf = pd.read_sql_query(sqlcmd,conn,params=args)\n",
    "        if silent == False:\n",
    "            print(retdf.shape)\n",
    "            print(retdf.to_string())\n",
    "        retval = True\n",
    "    except Exception as e:\n",
    "        if silent == False:\n",
    "            print(\"db read error: \")\n",
    "            print(e)\n",
    "    return retval,retdf\n",
    "\n",
    "print(\"function setup successful.\")"
   ]
  },
  {
   "cell_type": "code",
   "execution_count": 17,
   "metadata": {},
   "outputs": [
    {
     "name": "stdout",
     "output_type": "stream",
     "text": [
      "(1, 1)\n",
      "                         postgis_version\n",
      "0  3.0 USE_GEOS=1 USE_PROJ=1 USE_STATS=1\n"
     ]
    },
    {
     "data": {
      "text/html": [
       "<div>\n",
       "<style scoped>\n",
       "    .dataframe tbody tr th:only-of-type {\n",
       "        vertical-align: middle;\n",
       "    }\n",
       "\n",
       "    .dataframe tbody tr th {\n",
       "        vertical-align: top;\n",
       "    }\n",
       "\n",
       "    .dataframe thead th {\n",
       "        text-align: right;\n",
       "    }\n",
       "</style>\n",
       "<table border=\"1\" class=\"dataframe\">\n",
       "  <thead>\n",
       "    <tr style=\"text-align: right;\">\n",
       "      <th></th>\n",
       "      <th>postgis_version</th>\n",
       "    </tr>\n",
       "  </thead>\n",
       "  <tbody>\n",
       "    <tr>\n",
       "      <th>0</th>\n",
       "      <td>3.0 USE_GEOS=1 USE_PROJ=1 USE_STATS=1</td>\n",
       "    </tr>\n",
       "  </tbody>\n",
       "</table>\n",
       "</div>"
      ],
      "text/plain": [
       "                         postgis_version\n",
       "0  3.0 USE_GEOS=1 USE_PROJ=1 USE_STATS=1"
      ]
     },
     "execution_count": 17,
     "metadata": {},
     "output_type": "execute_result"
    }
   ],
   "source": [
    "# Checking we have PostGIS working on our connection (SOURCE: DATA2001 Lab materials)\n",
    "\n",
    "postgis_check = '''\n",
    "SELECT PostGIS_Version();\n",
    "'''\n",
    "\n",
    "retval,retdf = pgquery(conn,postgis_check)\n",
    "retdf"
   ]
  },
  {
   "cell_type": "markdown",
   "metadata": {},
   "source": [
    "### Creation of Database Tables (from dataframes)"
   ]
  },
  {
   "cell_type": "code",
   "execution_count": 18,
   "metadata": {},
   "outputs": [
    {
     "name": "stdout",
     "output_type": "stream",
     "text": [
      "['spatial_ref_sys', 'sa2_2016_aust', 'neighbourhoods', 'businessstats', 'rfsnsw_bfpl', 'statisticalareas']\n"
     ]
    }
   ],
   "source": [
    "# Check existing tables in Postgres DB public schema\n",
    "print(db.table_names())"
   ]
  },
  {
   "cell_type": "code",
   "execution_count": 19,
   "metadata": {},
   "outputs": [
    {
     "data": {
      "text/plain": [
       "True     322\n",
       "False    109\n",
       "Name: exists, dtype: int64"
      ]
     },
     "execution_count": 19,
     "metadata": {},
     "output_type": "execute_result"
    }
   ],
   "source": [
    "# Establishing set relationships between tables\n",
    "test_df = stat_areas_df.copy() # 431 unique area_ids exist in statisticalareas\n",
    "subset = set(nbhd_df.area_id.unique()) # 322 unique area_ids exist in neighbourhoods\n",
    "test_df['exists'] = stat_areas_df.area_id.map(lambda x : True if x in subset else False)\n",
    "test_df['exists'].value_counts()\n",
    "\n",
    "# Statisticalareas contains a set of area_ids of which the set of neighbourhoods area_id values is a subset \n",
    "# (It is a PK in its own table and an FK in relation to statisticalareas)"
   ]
  },
  {
   "cell_type": "code",
   "execution_count": 20,
   "metadata": {},
   "outputs": [
    {
     "name": "stdout",
     "output_type": "stream",
     "text": [
      "323\n"
     ]
    },
    {
     "data": {
      "text/plain": [
       "False    1987\n",
       "True      323\n",
       "Name: exists, dtype: int64"
      ]
     },
     "execution_count": 20,
     "metadata": {},
     "output_type": "execute_result"
    }
   ],
   "source": [
    "sa2s_in_statareas = stat_areas_df.loc[stat_areas_df['area_id'].str.len() == 9]\n",
    "print(len(sa2s_in_statareas))\n",
    "\n",
    "test_df2 = sa2_gdf.copy()\n",
    "subset2 = set(sa2s_in_statareas.area_id.unique())\n",
    "test_df2['exists'] = sa2_gdf.sa2_main16.map(lambda x : True if x in subset2 else False)\n",
    "test_df2['exists'].value_counts()"
   ]
  },
  {
   "cell_type": "markdown",
   "metadata": {},
   "source": [
    "#### Statistical Areas"
   ]
  },
  {
   "cell_type": "code",
   "execution_count": 39,
   "metadata": {},
   "outputs": [
    {
     "data": {
      "text/plain": [
       "<sqlalchemy.engine.result.ResultProxy at 0x128f96750>"
      ]
     },
     "execution_count": 39,
     "metadata": {},
     "output_type": "execute_result"
    }
   ],
   "source": [
    "conn.execute(\"DROP TABLE IF EXISTS statisticalareas\")\n",
    "\n",
    "stat_areas_create = '''CREATE TABLE statisticalareas (\n",
    "                     area_id VARCHAR NOT NULL,\n",
    "                     area_name VARCHAR NOT NULL,\n",
    "                     parent_area_id VARCHAR NOT NULL,\n",
    "                     CONSTRAINT statisticalareas_pkey PRIMARY KEY (area_id)\n",
    "                     )'''\n",
    "\n",
    "conn.execute(stat_areas_create)"
   ]
  },
  {
   "cell_type": "code",
   "execution_count": 40,
   "metadata": {},
   "outputs": [
    {
     "name": "stdout",
     "output_type": "stream",
     "text": [
      "Data inserted into Table\n",
      "(1, 3)\n",
      "  area_id        area_name parent_area_id\n",
      "0       1  New South Wales              0\n"
     ]
    },
    {
     "data": {
      "text/html": [
       "<div>\n",
       "<style scoped>\n",
       "    .dataframe tbody tr th:only-of-type {\n",
       "        vertical-align: middle;\n",
       "    }\n",
       "\n",
       "    .dataframe tbody tr th {\n",
       "        vertical-align: top;\n",
       "    }\n",
       "\n",
       "    .dataframe thead th {\n",
       "        text-align: right;\n",
       "    }\n",
       "</style>\n",
       "<table border=\"1\" class=\"dataframe\">\n",
       "  <thead>\n",
       "    <tr style=\"text-align: right;\">\n",
       "      <th></th>\n",
       "      <th>area_id</th>\n",
       "      <th>area_name</th>\n",
       "      <th>parent_area_id</th>\n",
       "    </tr>\n",
       "  </thead>\n",
       "  <tbody>\n",
       "    <tr>\n",
       "      <th>0</th>\n",
       "      <td>1</td>\n",
       "      <td>New South Wales</td>\n",
       "      <td>0</td>\n",
       "    </tr>\n",
       "  </tbody>\n",
       "</table>\n",
       "</div>"
      ],
      "text/plain": [
       "  area_id        area_name parent_area_id\n",
       "0       1  New South Wales              0"
      ]
     },
     "execution_count": 40,
     "metadata": {},
     "output_type": "execute_result"
    }
   ],
   "source": [
    "# Insert dataset\n",
    "stat_areas_df.to_sql('statisticalareas', con = conn, if_exists = 'append', index=False)\n",
    "print('Data inserted into Table')\n",
    "\n",
    "# Check table\n",
    "a_response, a_df = pgquery(conn, \"\"\"SELECT * FROM statisticalareas\n",
    "LIMIT 1;\"\"\")\n",
    "a_df.head()"
   ]
  },
  {
   "cell_type": "markdown",
   "metadata": {},
   "source": [
    "#### Neighbourhoods"
   ]
  },
  {
   "cell_type": "code",
   "execution_count": 87,
   "metadata": {},
   "outputs": [
    {
     "data": {
      "text/plain": [
       "<sqlalchemy.engine.result.ResultProxy at 0x129a1dfd0>"
      ]
     },
     "execution_count": 87,
     "metadata": {},
     "output_type": "execute_result"
    }
   ],
   "source": [
    "conn.execute(\"DROP TABLE IF EXISTS neighbourhoods\")\n",
    "\n",
    "neighbourhoods_create = '''CREATE TABLE neighbourhoods (\n",
    "                     area_id VARCHAR NOT NULL,\n",
    "                     area_name VARCHAR NOT NULL,\n",
    "                     land_area FLOAT NOT NULL,\n",
    "                     population NUMERIC,\n",
    "                     dwellings NUMERIC NOT NULL,\n",
    "                     businesses NUMERIC,\n",
    "                     median_income NUMERIC,\n",
    "                     avg_monthly_rent NUMERIC,\n",
    "                     CONSTRAINT neighbourhoods_pkey PRIMARY KEY (area_id),\n",
    "                     CONSTRAINT neighbourhoods_fkey1 FOREIGN KEY(area_id) REFERENCES statisticalareas(area_id)\n",
    "                     )'''\n",
    "\n",
    "# ALLOW NULL for 'population' 'businesses' avg_monthly_rent' 'median_income'\n",
    "# CONSIDER PREPROCESS CLEANING LATER\n",
    "\n",
    "conn.execute(neighbourhoods_create)"
   ]
  },
  {
   "cell_type": "code",
   "execution_count": 88,
   "metadata": {},
   "outputs": [
    {
     "name": "stdout",
     "output_type": "stream",
     "text": [
      "Data inserted into Table\n",
      "(1, 8)\n",
      "     area_id                 area_name  land_area  population  dwellings  businesses  median_income  avg_monthly_rent\n",
      "0  102011028  Avoca Beach - Copacabana      643.8      7590.0     2325.0       738.0        46996.0            1906.0\n"
     ]
    },
    {
     "data": {
      "text/html": [
       "<div>\n",
       "<style scoped>\n",
       "    .dataframe tbody tr th:only-of-type {\n",
       "        vertical-align: middle;\n",
       "    }\n",
       "\n",
       "    .dataframe tbody tr th {\n",
       "        vertical-align: top;\n",
       "    }\n",
       "\n",
       "    .dataframe thead th {\n",
       "        text-align: right;\n",
       "    }\n",
       "</style>\n",
       "<table border=\"1\" class=\"dataframe\">\n",
       "  <thead>\n",
       "    <tr style=\"text-align: right;\">\n",
       "      <th></th>\n",
       "      <th>area_id</th>\n",
       "      <th>area_name</th>\n",
       "      <th>land_area</th>\n",
       "      <th>population</th>\n",
       "      <th>dwellings</th>\n",
       "      <th>businesses</th>\n",
       "      <th>median_income</th>\n",
       "      <th>avg_monthly_rent</th>\n",
       "    </tr>\n",
       "  </thead>\n",
       "  <tbody>\n",
       "    <tr>\n",
       "      <th>0</th>\n",
       "      <td>102011028</td>\n",
       "      <td>Avoca Beach - Copacabana</td>\n",
       "      <td>643.8</td>\n",
       "      <td>7590.0</td>\n",
       "      <td>2325.0</td>\n",
       "      <td>738.0</td>\n",
       "      <td>46996.0</td>\n",
       "      <td>1906.0</td>\n",
       "    </tr>\n",
       "  </tbody>\n",
       "</table>\n",
       "</div>"
      ],
      "text/plain": [
       "     area_id                 area_name  land_area  population  dwellings  \\\n",
       "0  102011028  Avoca Beach - Copacabana      643.8      7590.0     2325.0   \n",
       "\n",
       "   businesses  median_income  avg_monthly_rent  \n",
       "0       738.0        46996.0            1906.0  "
      ]
     },
     "execution_count": 88,
     "metadata": {},
     "output_type": "execute_result"
    }
   ],
   "source": [
    "# Insert dataset\n",
    "nbhd_df.to_sql('neighbourhoods', con = conn, if_exists = 'append', index=False)\n",
    "print('Data inserted into Table')\n",
    "\n",
    "# Check table\n",
    "a_response, a_df = pgquery(conn, \"\"\"SELECT * FROM neighbourhoods\n",
    "LIMIT 1;\"\"\")\n",
    "a_df.head()"
   ]
  },
  {
   "cell_type": "markdown",
   "metadata": {},
   "source": [
    "#### Business Stats"
   ]
  },
  {
   "cell_type": "code",
   "execution_count": 22,
   "metadata": {},
   "outputs": [
    {
     "data": {
      "text/plain": [
       "<sqlalchemy.engine.result.ResultProxy at 0x12084f090>"
      ]
     },
     "execution_count": 22,
     "metadata": {},
     "output_type": "execute_result"
    }
   ],
   "source": [
    "conn.execute(\"DROP TABLE IF EXISTS businessstats\")\n",
    "\n",
    "business_create = '''CREATE TABLE businessstats (\n",
    "                     area_id VARCHAR NOT NULL,\n",
    "                     number_of_businesses NUMERIC NOT NULL,\n",
    "                     accommodation_and_food NUMERIC NOT NULL,\n",
    "                     retail_trade NUMERIC NOT NULL,\n",
    "                     agriculture_forestry_and_fishing NUMERIC NOT NULL,\n",
    "                     health_care_and_social_assistance NUMERIC NOT NULL,\n",
    "                     public_administration_and_safety NUMERIC NOT NULL,\n",
    "                     transport_postal_and_warehousing NUMERIC NOT NULL,\n",
    "                     CONSTRAINT businessstats_pkey PRIMARY KEY (area_id)\n",
    "                     )'''\n",
    "\n",
    "conn.execute(business_create)"
   ]
  },
  {
   "cell_type": "code",
   "execution_count": 25,
   "metadata": {},
   "outputs": [
    {
     "name": "stdout",
     "output_type": "stream",
     "text": [
      "Data inserted into Table\n",
      "(1, 1)\n",
      "   count\n",
      "0   2301\n"
     ]
    }
   ],
   "source": [
    "busi_stat_df.to_sql('businessstats', con = conn, if_exists = 'append', index=False)\n",
    "print('Data inserted into Table')\n",
    "\n",
    "# Check table\n",
    "a_response, a_df = pgquery(conn, \"\"\"SELECT COUNT(*) FROM businessstats\n",
    "LIMIT 1;\"\"\")"
   ]
  },
  {
   "cell_type": "code",
   "execution_count": 24,
   "metadata": {},
   "outputs": [
    {
     "name": "stdout",
     "output_type": "stream",
     "text": [
      "(1, 8)\n",
      "     area_id  number_of_businesses  accommodation_and_food  retail_trade  agriculture_forestry_and_fishing  health_care_and_social_assistance  public_administration_and_safety  transport_postal_and_warehousing\n",
      "0  101021007                 629.0                    26.0          27.0                             280.0                               11.0                               0.0                              35.0\n"
     ]
    },
    {
     "data": {
      "text/html": [
       "<div>\n",
       "<style scoped>\n",
       "    .dataframe tbody tr th:only-of-type {\n",
       "        vertical-align: middle;\n",
       "    }\n",
       "\n",
       "    .dataframe tbody tr th {\n",
       "        vertical-align: top;\n",
       "    }\n",
       "\n",
       "    .dataframe thead th {\n",
       "        text-align: right;\n",
       "    }\n",
       "</style>\n",
       "<table border=\"1\" class=\"dataframe\">\n",
       "  <thead>\n",
       "    <tr style=\"text-align: right;\">\n",
       "      <th></th>\n",
       "      <th>area_id</th>\n",
       "      <th>number_of_businesses</th>\n",
       "      <th>accommodation_and_food</th>\n",
       "      <th>retail_trade</th>\n",
       "      <th>agriculture_forestry_and_fishing</th>\n",
       "      <th>health_care_and_social_assistance</th>\n",
       "      <th>public_administration_and_safety</th>\n",
       "      <th>transport_postal_and_warehousing</th>\n",
       "    </tr>\n",
       "  </thead>\n",
       "  <tbody>\n",
       "    <tr>\n",
       "      <th>0</th>\n",
       "      <td>101021007</td>\n",
       "      <td>629.0</td>\n",
       "      <td>26.0</td>\n",
       "      <td>27.0</td>\n",
       "      <td>280.0</td>\n",
       "      <td>11.0</td>\n",
       "      <td>0.0</td>\n",
       "      <td>35.0</td>\n",
       "    </tr>\n",
       "  </tbody>\n",
       "</table>\n",
       "</div>"
      ],
      "text/plain": [
       "     area_id  number_of_businesses  accommodation_and_food  retail_trade  \\\n",
       "0  101021007                 629.0                    26.0          27.0   \n",
       "\n",
       "   agriculture_forestry_and_fishing  health_care_and_social_assistance  \\\n",
       "0                             280.0                               11.0   \n",
       "\n",
       "   public_administration_and_safety  transport_postal_and_warehousing  \n",
       "0                               0.0                              35.0  "
      ]
     },
     "execution_count": 24,
     "metadata": {},
     "output_type": "execute_result"
    }
   ],
   "source": [
    "a_response, a_df = pgquery(conn, \"\"\"SELECT * FROM businessstats\n",
    "LIMIT 1;\"\"\")\n",
    "a_df.head()"
   ]
  },
  {
   "cell_type": "markdown",
   "metadata": {},
   "source": [
    "### Creation of Database Tables (from geodataframes)"
   ]
  },
  {
   "cell_type": "markdown",
   "metadata": {},
   "source": [
    "#### RFS NSW Bushfire Prone Land - shapefile"
   ]
  },
  {
   "cell_type": "code",
   "execution_count": 27,
   "metadata": {},
   "outputs": [],
   "source": [
    "# WKT point geom creation function (SOURCE: DATA2001 Lab materials)\n",
    "\n",
    "def create_wkt_point_element(geom,srid):\n",
    "    return WKTElement(geom.wkt, srid)"
   ]
  },
  {
   "cell_type": "code",
   "execution_count": 28,
   "metadata": {},
   "outputs": [
    {
     "data": {
      "text/html": [
       "<div>\n",
       "<style scoped>\n",
       "    .dataframe tbody tr th:only-of-type {\n",
       "        vertical-align: middle;\n",
       "    }\n",
       "\n",
       "    .dataframe tbody tr th {\n",
       "        vertical-align: top;\n",
       "    }\n",
       "\n",
       "    .dataframe thead th {\n",
       "        text-align: right;\n",
       "    }\n",
       "</style>\n",
       "<table border=\"1\" class=\"dataframe\">\n",
       "  <thead>\n",
       "    <tr style=\"text-align: right;\">\n",
       "      <th></th>\n",
       "      <th>gid</th>\n",
       "      <th>category</th>\n",
       "      <th>shape_leng</th>\n",
       "      <th>shape_area</th>\n",
       "      <th>geom</th>\n",
       "    </tr>\n",
       "  </thead>\n",
       "  <tbody>\n",
       "    <tr>\n",
       "      <th>0</th>\n",
       "      <td>0</td>\n",
       "      <td>1</td>\n",
       "      <td>0.000017</td>\n",
       "      <td>5.392400e-12</td>\n",
       "      <td>POINT (149.1131894786667 -33.05824346699998)</td>\n",
       "    </tr>\n",
       "    <tr>\n",
       "      <th>1</th>\n",
       "      <td>1</td>\n",
       "      <td>1</td>\n",
       "      <td>0.000178</td>\n",
       "      <td>1.140005e-09</td>\n",
       "      <td>POINT (152.2753625074807 -29.68315654934266)</td>\n",
       "    </tr>\n",
       "    <tr>\n",
       "      <th>2</th>\n",
       "      <td>2</td>\n",
       "      <td>1</td>\n",
       "      <td>0.000890</td>\n",
       "      <td>4.950178e-08</td>\n",
       "      <td>POINT (152.1424400005001 -29.68265650149996)</td>\n",
       "    </tr>\n",
       "    <tr>\n",
       "      <th>3</th>\n",
       "      <td>3</td>\n",
       "      <td>1</td>\n",
       "      <td>0.000442</td>\n",
       "      <td>8.094091e-09</td>\n",
       "      <td>POINT (152.2757861369404 -29.68259377308781)</td>\n",
       "    </tr>\n",
       "    <tr>\n",
       "      <th>4</th>\n",
       "      <td>4</td>\n",
       "      <td>1</td>\n",
       "      <td>0.000890</td>\n",
       "      <td>4.950155e-08</td>\n",
       "      <td>POINT (151.996189999 -29.68130649949998)</td>\n",
       "    </tr>\n",
       "  </tbody>\n",
       "</table>\n",
       "</div>"
      ],
      "text/plain": [
       "   gid  category  shape_leng    shape_area  \\\n",
       "0    0         1    0.000017  5.392400e-12   \n",
       "1    1         1    0.000178  1.140005e-09   \n",
       "2    2         1    0.000890  4.950178e-08   \n",
       "3    3         1    0.000442  8.094091e-09   \n",
       "4    4         1    0.000890  4.950155e-08   \n",
       "\n",
       "                                           geom  \n",
       "0  POINT (149.1131894786667 -33.05824346699998)  \n",
       "1  POINT (152.2753625074807 -29.68315654934266)  \n",
       "2  POINT (152.1424400005001 -29.68265650149996)  \n",
       "3  POINT (152.2757861369404 -29.68259377308781)  \n",
       "4      POINT (151.996189999 -29.68130649949998)  "
      ]
     },
     "execution_count": 28,
     "metadata": {},
     "output_type": "execute_result"
    }
   ],
   "source": [
    "srid = 4283\n",
    "rfs_gdf['geom'] = rfs_gdf['geometry'].apply(lambda x: create_wkt_point_element(geom=x, srid=srid))\n",
    "rfs_gdf = rfs_gdf.drop(columns=\"geometry\")\n",
    "rfs_gdf.head()"
   ]
  },
  {
   "cell_type": "code",
   "execution_count": 29,
   "metadata": {},
   "outputs": [
    {
     "data": {
      "text/plain": [
       "<sqlalchemy.engine.cursor.LegacyCursorResult at 0x280a65cde20>"
      ]
     },
     "execution_count": 29,
     "metadata": {},
     "output_type": "execute_result"
    }
   ],
   "source": [
    "rfs_bushfire_create = '''CREATE TABLE rfsnsw_bfpl (\n",
    "                     gid INTEGER PRIMARY KEY,\n",
    "                     category CHAR(1),\n",
    "                     shape_leng FLOAT,\n",
    "                     shape_area FLOAT,\n",
    "                     geom GEOMETRY(POINT, 4283)\n",
    "                     )'''\n",
    "\n",
    "conn.execute(\"DROP TABLE IF EXISTS rfsnsw_bfpl\")\n",
    "conn.execute(rfs_bushfire_create)"
   ]
  },
  {
   "cell_type": "code",
   "execution_count": 30,
   "metadata": {},
   "outputs": [],
   "source": [
    "srid = 4283\n",
    "rfs_gdf.to_sql('rfsnsw_bfpl', conn, if_exists='append', index=False, \n",
    "                         dtype={'geom': Geometry('POINT', srid)})"
   ]
  },
  {
   "cell_type": "code",
   "execution_count": 31,
   "metadata": {},
   "outputs": [
    {
     "name": "stdout",
     "output_type": "stream",
     "text": [
      "(1, 5)\n",
      "   gid category  shape_leng    shape_area                                                geom\n",
      "0    0        1    0.000017  5.392400e-12  0101000020BB100000FEA38A3F9FA362403CFC9C85748740C0\n"
     ]
    },
    {
     "data": {
      "text/html": [
       "<div>\n",
       "<style scoped>\n",
       "    .dataframe tbody tr th:only-of-type {\n",
       "        vertical-align: middle;\n",
       "    }\n",
       "\n",
       "    .dataframe tbody tr th {\n",
       "        vertical-align: top;\n",
       "    }\n",
       "\n",
       "    .dataframe thead th {\n",
       "        text-align: right;\n",
       "    }\n",
       "</style>\n",
       "<table border=\"1\" class=\"dataframe\">\n",
       "  <thead>\n",
       "    <tr style=\"text-align: right;\">\n",
       "      <th></th>\n",
       "      <th>gid</th>\n",
       "      <th>category</th>\n",
       "      <th>shape_leng</th>\n",
       "      <th>shape_area</th>\n",
       "      <th>geom</th>\n",
       "    </tr>\n",
       "  </thead>\n",
       "  <tbody>\n",
       "    <tr>\n",
       "      <th>0</th>\n",
       "      <td>0</td>\n",
       "      <td>1</td>\n",
       "      <td>0.000017</td>\n",
       "      <td>5.392400e-12</td>\n",
       "      <td>0101000020BB100000FEA38A3F9FA362403CFC9C857487...</td>\n",
       "    </tr>\n",
       "  </tbody>\n",
       "</table>\n",
       "</div>"
      ],
      "text/plain": [
       "   gid category  shape_leng    shape_area  \\\n",
       "0    0        1    0.000017  5.392400e-12   \n",
       "\n",
       "                                                geom  \n",
       "0  0101000020BB100000FEA38A3F9FA362403CFC9C857487...  "
      ]
     },
     "execution_count": 31,
     "metadata": {},
     "output_type": "execute_result"
    }
   ],
   "source": [
    "# Check table\n",
    "a_response, a_df = pgquery(conn, \"\"\"SELECT * FROM rfsnsw_bfpl\n",
    "LIMIT 1;\"\"\")\n",
    "a_df.head()"
   ]
  },
  {
   "cell_type": "markdown",
   "metadata": {},
   "source": [
    "#### ABS Statistical Area 2 (2016) - shapefile"
   ]
  },
  {
   "cell_type": "code",
   "execution_count": 89,
   "metadata": {},
   "outputs": [
    {
     "name": "stdout",
     "output_type": "stream",
     "text": [
      "0\n"
     ]
    },
    {
     "name": "stderr",
     "output_type": "stream",
     "text": [
      "/Users/eugenework/anaconda3/envs/data2001-py374/lib/python3.7/site-packages/ipykernel_launcher.py:2: UserWarning: GeoSeries.isna() previously returned True for both missing (None) and empty geometries. Now, it only returns True for missing values. Since the calling GeoSeries contains empty geometries, the result has changed compared to previous versions of GeoPandas.\n",
      "Given a GeoSeries 's', you can use 's.is_empty | s.isna()' to get back the old behaviour.\n",
      "\n",
      "To further ignore this warning, you can do: \n",
      "import warnings; warnings.filterwarnings('ignore', 'GeoSeries.isna', UserWarning)\n",
      "  \n"
     ]
    },
    {
     "data": {
      "text/html": [
       "<div>\n",
       "<style scoped>\n",
       "    .dataframe tbody tr th:only-of-type {\n",
       "        vertical-align: middle;\n",
       "    }\n",
       "\n",
       "    .dataframe tbody tr th {\n",
       "        vertical-align: top;\n",
       "    }\n",
       "\n",
       "    .dataframe thead th {\n",
       "        text-align: right;\n",
       "    }\n",
       "</style>\n",
       "<table border=\"1\" class=\"dataframe\">\n",
       "  <thead>\n",
       "    <tr style=\"text-align: right;\">\n",
       "      <th></th>\n",
       "      <th>g_id</th>\n",
       "      <th>sa2_main16</th>\n",
       "      <th>sa2_5dig16</th>\n",
       "      <th>sa2_name16</th>\n",
       "      <th>sa3_code</th>\n",
       "      <th>sa3_name</th>\n",
       "      <th>sa4_code</th>\n",
       "      <th>sa4_name</th>\n",
       "      <th>gcc_code</th>\n",
       "      <th>gcc_name</th>\n",
       "      <th>ste_code</th>\n",
       "      <th>ste_name</th>\n",
       "      <th>areasqkm16</th>\n",
       "      <th>geometry</th>\n",
       "    </tr>\n",
       "  </thead>\n",
       "  <tbody>\n",
       "    <tr>\n",
       "      <th>2305</th>\n",
       "      <td>2305</td>\n",
       "      <td>901021002</td>\n",
       "      <td>91002</td>\n",
       "      <td>Cocos (Keeling) Islands</td>\n",
       "      <td>90102</td>\n",
       "      <td>Cocos (Keeling) Islands</td>\n",
       "      <td>901</td>\n",
       "      <td>Other Territories</td>\n",
       "      <td>9OTER</td>\n",
       "      <td>Other Territories</td>\n",
       "      <td>9</td>\n",
       "      <td>Other Territories</td>\n",
       "      <td>13.7163</td>\n",
       "      <td>MULTIPOLYGON (((96.83047 -12.17636, 96.83045 -...</td>\n",
       "    </tr>\n",
       "    <tr>\n",
       "      <th>2306</th>\n",
       "      <td>2306</td>\n",
       "      <td>901031003</td>\n",
       "      <td>91003</td>\n",
       "      <td>Jervis Bay</td>\n",
       "      <td>90103</td>\n",
       "      <td>Jervis Bay</td>\n",
       "      <td>901</td>\n",
       "      <td>Other Territories</td>\n",
       "      <td>9OTER</td>\n",
       "      <td>Other Territories</td>\n",
       "      <td>9</td>\n",
       "      <td>Other Territories</td>\n",
       "      <td>67.8134</td>\n",
       "      <td>MULTIPOLYGON (((150.69566 -35.18297, 150.69555...</td>\n",
       "    </tr>\n",
       "    <tr>\n",
       "      <th>2307</th>\n",
       "      <td>2307</td>\n",
       "      <td>901041004</td>\n",
       "      <td>91004</td>\n",
       "      <td>Norfolk Island</td>\n",
       "      <td>90104</td>\n",
       "      <td>Norfolk Island</td>\n",
       "      <td>901</td>\n",
       "      <td>Other Territories</td>\n",
       "      <td>9OTER</td>\n",
       "      <td>Other Territories</td>\n",
       "      <td>9</td>\n",
       "      <td>Other Territories</td>\n",
       "      <td>38.6509</td>\n",
       "      <td>MULTIPOLYGON (((167.99472 -29.04534, 167.99432...</td>\n",
       "    </tr>\n",
       "    <tr>\n",
       "      <th>2308</th>\n",
       "      <td>2308</td>\n",
       "      <td>997979799</td>\n",
       "      <td>99799</td>\n",
       "      <td>Migratory - Offshore - Shipping (OT)</td>\n",
       "      <td>99797</td>\n",
       "      <td>Migratory - Offshore - Shipping (OT)</td>\n",
       "      <td>997</td>\n",
       "      <td>Migratory - Offshore - Shipping (OT)</td>\n",
       "      <td>99799</td>\n",
       "      <td>Migratory - Offshore - Shipping (OT)</td>\n",
       "      <td>9</td>\n",
       "      <td>Other Territories</td>\n",
       "      <td>0.0000</td>\n",
       "      <td>GEOMETRYCOLLECTION EMPTY</td>\n",
       "    </tr>\n",
       "    <tr>\n",
       "      <th>2309</th>\n",
       "      <td>2309</td>\n",
       "      <td>999999499</td>\n",
       "      <td>99499</td>\n",
       "      <td>No usual address (OT)</td>\n",
       "      <td>99999</td>\n",
       "      <td>No usual address (OT)</td>\n",
       "      <td>999</td>\n",
       "      <td>No usual address (OT)</td>\n",
       "      <td>99499</td>\n",
       "      <td>No usual address (OT)</td>\n",
       "      <td>9</td>\n",
       "      <td>Other Territories</td>\n",
       "      <td>0.0000</td>\n",
       "      <td>GEOMETRYCOLLECTION EMPTY</td>\n",
       "    </tr>\n",
       "  </tbody>\n",
       "</table>\n",
       "</div>"
      ],
      "text/plain": [
       "      g_id sa2_main16 sa2_5dig16                            sa2_name16  \\\n",
       "2305  2305  901021002      91002               Cocos (Keeling) Islands   \n",
       "2306  2306  901031003      91003                            Jervis Bay   \n",
       "2307  2307  901041004      91004                        Norfolk Island   \n",
       "2308  2308  997979799      99799  Migratory - Offshore - Shipping (OT)   \n",
       "2309  2309  999999499      99499                 No usual address (OT)   \n",
       "\n",
       "     sa3_code                              sa3_name sa4_code  \\\n",
       "2305    90102               Cocos (Keeling) Islands      901   \n",
       "2306    90103                            Jervis Bay      901   \n",
       "2307    90104                        Norfolk Island      901   \n",
       "2308    99797  Migratory - Offshore - Shipping (OT)      997   \n",
       "2309    99999                 No usual address (OT)      999   \n",
       "\n",
       "                                  sa4_name gcc_code  \\\n",
       "2305                     Other Territories    9OTER   \n",
       "2306                     Other Territories    9OTER   \n",
       "2307                     Other Territories    9OTER   \n",
       "2308  Migratory - Offshore - Shipping (OT)    99799   \n",
       "2309                 No usual address (OT)    99499   \n",
       "\n",
       "                                  gcc_name ste_code           ste_name  \\\n",
       "2305                     Other Territories        9  Other Territories   \n",
       "2306                     Other Territories        9  Other Territories   \n",
       "2307                     Other Territories        9  Other Territories   \n",
       "2308  Migratory - Offshore - Shipping (OT)        9  Other Territories   \n",
       "2309                 No usual address (OT)        9  Other Territories   \n",
       "\n",
       "      areasqkm16                                           geometry  \n",
       "2305     13.7163  MULTIPOLYGON (((96.83047 -12.17636, 96.83045 -...  \n",
       "2306     67.8134  MULTIPOLYGON (((150.69566 -35.18297, 150.69555...  \n",
       "2307     38.6509  MULTIPOLYGON (((167.99472 -29.04534, 167.99432...  \n",
       "2308      0.0000                           GEOMETRYCOLLECTION EMPTY  \n",
       "2309      0.0000                           GEOMETRYCOLLECTION EMPTY  "
      ]
     },
     "execution_count": 89,
     "metadata": {},
     "output_type": "execute_result"
    }
   ],
   "source": [
    "# FILL NONE GEOMETRIES WITH EMPTY GEOMETRY OBJECTS SO THAT THEY CAN BE PERSISTED\n",
    "# See: https://geopandas.readthedocs.io/en/latest/docs/reference/api/geopandas.GeoSeries.fillna.html\n",
    "\n",
    "sa2_gdf['geometry'] = sa2_gdf['geometry'].fillna()\n",
    "print(len(sa2_gdf.loc[sa2_gdf.geometry.isna()]))\n",
    "sa2_gdf.tail()"
   ]
  },
  {
   "cell_type": "code",
   "execution_count": 92,
   "metadata": {},
   "outputs": [
    {
     "data": {
      "text/plain": [
       "0                  Polygon\n",
       "1                  Polygon\n",
       "2                  Polygon\n",
       "3                  Polygon\n",
       "4                  Polygon\n",
       "               ...        \n",
       "2305          MultiPolygon\n",
       "2306          MultiPolygon\n",
       "2307          MultiPolygon\n",
       "2308    GeometryCollection\n",
       "2309    GeometryCollection\n",
       "Length: 2310, dtype: object"
      ]
     },
     "execution_count": 92,
     "metadata": {},
     "output_type": "execute_result"
    }
   ],
   "source": [
    "sa2_gdf.geometry.geom_type"
   ]
  },
  {
   "cell_type": "code",
   "execution_count": 93,
   "metadata": {},
   "outputs": [],
   "source": [
    "# WKT polygon geom creation function (SOURCE: DATA2001 Lab materials)\n",
    "\n",
    "def create_wkt_element(geom,srid):\n",
    "    if (geom.geom_type == 'Polygon'):\n",
    "        geom = MultiPolygon([geom])\n",
    "    elif (geom.geom_type == 'GeometryCollection'):\n",
    "        geom = MultiPolygon([geom])\n",
    "    return WKTElement(geom.wkt, srid)"
   ]
  },
  {
   "cell_type": "code",
   "execution_count": 94,
   "metadata": {},
   "outputs": [
    {
     "data": {
      "text/html": [
       "<div>\n",
       "<style scoped>\n",
       "    .dataframe tbody tr th:only-of-type {\n",
       "        vertical-align: middle;\n",
       "    }\n",
       "\n",
       "    .dataframe tbody tr th {\n",
       "        vertical-align: top;\n",
       "    }\n",
       "\n",
       "    .dataframe thead th {\n",
       "        text-align: right;\n",
       "    }\n",
       "</style>\n",
       "<table border=\"1\" class=\"dataframe\">\n",
       "  <thead>\n",
       "    <tr style=\"text-align: right;\">\n",
       "      <th></th>\n",
       "      <th>g_id</th>\n",
       "      <th>sa2_main16</th>\n",
       "      <th>sa2_5dig16</th>\n",
       "      <th>sa2_name16</th>\n",
       "      <th>sa3_code</th>\n",
       "      <th>sa3_name</th>\n",
       "      <th>sa4_code</th>\n",
       "      <th>sa4_name</th>\n",
       "      <th>gcc_code</th>\n",
       "      <th>gcc_name</th>\n",
       "      <th>ste_code</th>\n",
       "      <th>ste_name</th>\n",
       "      <th>areasqkm16</th>\n",
       "      <th>geom</th>\n",
       "    </tr>\n",
       "  </thead>\n",
       "  <tbody>\n",
       "    <tr>\n",
       "      <th>2305</th>\n",
       "      <td>2305</td>\n",
       "      <td>901021002</td>\n",
       "      <td>91002</td>\n",
       "      <td>Cocos (Keeling) Islands</td>\n",
       "      <td>90102</td>\n",
       "      <td>Cocos (Keeling) Islands</td>\n",
       "      <td>901</td>\n",
       "      <td>Other Territories</td>\n",
       "      <td>9OTER</td>\n",
       "      <td>Other Territories</td>\n",
       "      <td>9</td>\n",
       "      <td>Other Territories</td>\n",
       "      <td>13.7163</td>\n",
       "      <td>MULTIPOLYGON (((96.83046599400006 -12.17635995...</td>\n",
       "    </tr>\n",
       "    <tr>\n",
       "      <th>2306</th>\n",
       "      <td>2306</td>\n",
       "      <td>901031003</td>\n",
       "      <td>91003</td>\n",
       "      <td>Jervis Bay</td>\n",
       "      <td>90103</td>\n",
       "      <td>Jervis Bay</td>\n",
       "      <td>901</td>\n",
       "      <td>Other Territories</td>\n",
       "      <td>9OTER</td>\n",
       "      <td>Other Territories</td>\n",
       "      <td>9</td>\n",
       "      <td>Other Territories</td>\n",
       "      <td>67.8134</td>\n",
       "      <td>MULTIPOLYGON (((150.6956629970001 -35.18296700...</td>\n",
       "    </tr>\n",
       "    <tr>\n",
       "      <th>2307</th>\n",
       "      <td>2307</td>\n",
       "      <td>901041004</td>\n",
       "      <td>91004</td>\n",
       "      <td>Norfolk Island</td>\n",
       "      <td>90104</td>\n",
       "      <td>Norfolk Island</td>\n",
       "      <td>901</td>\n",
       "      <td>Other Territories</td>\n",
       "      <td>9OTER</td>\n",
       "      <td>Other Territories</td>\n",
       "      <td>9</td>\n",
       "      <td>Other Territories</td>\n",
       "      <td>38.6509</td>\n",
       "      <td>MULTIPOLYGON (((167.9947210150001 -29.04533600...</td>\n",
       "    </tr>\n",
       "    <tr>\n",
       "      <th>2308</th>\n",
       "      <td>2308</td>\n",
       "      <td>997979799</td>\n",
       "      <td>99799</td>\n",
       "      <td>Migratory - Offshore - Shipping (OT)</td>\n",
       "      <td>99797</td>\n",
       "      <td>Migratory - Offshore - Shipping (OT)</td>\n",
       "      <td>997</td>\n",
       "      <td>Migratory - Offshore - Shipping (OT)</td>\n",
       "      <td>99799</td>\n",
       "      <td>Migratory - Offshore - Shipping (OT)</td>\n",
       "      <td>9</td>\n",
       "      <td>Other Territories</td>\n",
       "      <td>0.0000</td>\n",
       "      <td>MULTIPOLYGON EMPTY</td>\n",
       "    </tr>\n",
       "    <tr>\n",
       "      <th>2309</th>\n",
       "      <td>2309</td>\n",
       "      <td>999999499</td>\n",
       "      <td>99499</td>\n",
       "      <td>No usual address (OT)</td>\n",
       "      <td>99999</td>\n",
       "      <td>No usual address (OT)</td>\n",
       "      <td>999</td>\n",
       "      <td>No usual address (OT)</td>\n",
       "      <td>99499</td>\n",
       "      <td>No usual address (OT)</td>\n",
       "      <td>9</td>\n",
       "      <td>Other Territories</td>\n",
       "      <td>0.0000</td>\n",
       "      <td>MULTIPOLYGON EMPTY</td>\n",
       "    </tr>\n",
       "  </tbody>\n",
       "</table>\n",
       "</div>"
      ],
      "text/plain": [
       "      g_id sa2_main16 sa2_5dig16                            sa2_name16  \\\n",
       "2305  2305  901021002      91002               Cocos (Keeling) Islands   \n",
       "2306  2306  901031003      91003                            Jervis Bay   \n",
       "2307  2307  901041004      91004                        Norfolk Island   \n",
       "2308  2308  997979799      99799  Migratory - Offshore - Shipping (OT)   \n",
       "2309  2309  999999499      99499                 No usual address (OT)   \n",
       "\n",
       "     sa3_code                              sa3_name sa4_code  \\\n",
       "2305    90102               Cocos (Keeling) Islands      901   \n",
       "2306    90103                            Jervis Bay      901   \n",
       "2307    90104                        Norfolk Island      901   \n",
       "2308    99797  Migratory - Offshore - Shipping (OT)      997   \n",
       "2309    99999                 No usual address (OT)      999   \n",
       "\n",
       "                                  sa4_name gcc_code  \\\n",
       "2305                     Other Territories    9OTER   \n",
       "2306                     Other Territories    9OTER   \n",
       "2307                     Other Territories    9OTER   \n",
       "2308  Migratory - Offshore - Shipping (OT)    99799   \n",
       "2309                 No usual address (OT)    99499   \n",
       "\n",
       "                                  gcc_name ste_code           ste_name  \\\n",
       "2305                     Other Territories        9  Other Territories   \n",
       "2306                     Other Territories        9  Other Territories   \n",
       "2307                     Other Territories        9  Other Territories   \n",
       "2308  Migratory - Offshore - Shipping (OT)        9  Other Territories   \n",
       "2309                 No usual address (OT)        9  Other Territories   \n",
       "\n",
       "      areasqkm16                                               geom  \n",
       "2305     13.7163  MULTIPOLYGON (((96.83046599400006 -12.17635995...  \n",
       "2306     67.8134  MULTIPOLYGON (((150.6956629970001 -35.18296700...  \n",
       "2307     38.6509  MULTIPOLYGON (((167.9947210150001 -29.04533600...  \n",
       "2308      0.0000                                 MULTIPOLYGON EMPTY  \n",
       "2309      0.0000                                 MULTIPOLYGON EMPTY  "
      ]
     },
     "execution_count": 94,
     "metadata": {},
     "output_type": "execute_result"
    }
   ],
   "source": [
    "srid = 4283\n",
    "\n",
    "# WKT CONVERSION\n",
    "sa2_gdf['geom'] = sa2_gdf['geometry'].apply(lambda x: create_wkt_element(geom=x, srid=srid))\n",
    "sa2_gdf = sa2_gdf.drop(columns=\"geometry\")\n",
    "sa2_gdf.tail()"
   ]
  },
  {
   "cell_type": "code",
   "execution_count": 95,
   "metadata": {},
   "outputs": [
    {
     "data": {
      "text/plain": [
       "<sqlalchemy.engine.result.ResultProxy at 0x120f1a910>"
      ]
     },
     "execution_count": 95,
     "metadata": {},
     "output_type": "execute_result"
    }
   ],
   "source": [
    "conn.execute(\"DROP TABLE IF EXISTS sa2_2016_aust\")\n",
    "\n",
    "sa2_shape_create = '''CREATE TABLE sa2_2016_aust (\n",
    "                     g_id INTEGER PRIMARY KEY,\n",
    "                     sa2_main16 VARCHAR,\n",
    "                     sa2_5dig16 VARCHAR,\n",
    "                     sa2_name16 VARCHAR,\n",
    "                     sa3_code   VARCHAR,\n",
    "                     sa3_name   VARCHAR,\n",
    "                     sa4_code   VARCHAR,\n",
    "                     sa4_name   VARCHAR,\n",
    "                     gcc_code   VARCHAR,\n",
    "                     gcc_name   VARCHAR,\n",
    "                     ste_code   VARCHAR,\n",
    "                     ste_name   VARCHAR,\n",
    "                     areasqkm16 FLOAT,\n",
    "                     geom GEOMETRY(MULTIPOLYGON, 4283)\n",
    "                     )'''\n",
    "\n",
    "conn.execute(sa2_shape_create)"
   ]
  },
  {
   "cell_type": "code",
   "execution_count": 96,
   "metadata": {},
   "outputs": [],
   "source": [
    "srid = 4283\n",
    "sa2_gdf.to_sql('sa2_2016_aust', conn, if_exists='append', index=False, \n",
    "                         dtype={'geom': Geometry('MULTIPOLYGON', srid)})"
   ]
  },
  {
   "cell_type": "code",
   "execution_count": 97,
   "metadata": {},
   "outputs": [
    {
     "name": "stdout",
     "output_type": "stream",
     "text": [
      "(1, 14)\n",
      "   g_id sa2_main16 sa2_5dig16                            sa2_name16 sa3_code                              sa3_name sa4_code                              sa4_name gcc_code                              gcc_name ste_code           ste_name  areasqkm16                        geom\n",
      "0  2308  997979799      99799  Migratory - Offshore - Shipping (OT)    99797  Migratory - Offshore - Shipping (OT)      997  Migratory - Offshore - Shipping (OT)    99799  Migratory - Offshore - Shipping (OT)        9  Other Territories         0.0  0106000020BB10000000000000\n"
     ]
    }
   ],
   "source": [
    "# Check table\n",
    "a_response, a_df = pgquery(conn, \"\"\"SELECT * FROM sa2_2016_aust WHERE g_id = 2308\"\"\")"
   ]
  },
  {
   "cell_type": "code",
   "execution_count": 98,
   "metadata": {},
   "outputs": [
    {
     "name": "stdout",
     "output_type": "stream",
     "text": [
      "(1, 1)\n",
      "   count\n",
      "0   2310\n"
     ]
    },
    {
     "data": {
      "text/plain": [
       "(True,\n",
       "    count\n",
       " 0   2310)"
      ]
     },
     "execution_count": 98,
     "metadata": {},
     "output_type": "execute_result"
    }
   ],
   "source": [
    "pgquery(conn, \"\"\"SELECT COUNT(*) FROM sa2_2016_aust\n",
    "LIMIT 1;\"\"\")"
   ]
  },
  {
   "cell_type": "code",
   "execution_count": 99,
   "metadata": {},
   "outputs": [
    {
     "name": "stdout",
     "output_type": "stream",
     "text": [
      "disconnected\n"
     ]
    }
   ],
   "source": [
    "# Disconnect from DB\n",
    "\n",
    "conn.close()\n",
    "db.dispose()\n",
    "print(\"disconnected\")\n"
   ]
  },
  {
   "cell_type": "markdown",
   "metadata": {},
   "source": [
    "## Task 2: Fire Risk Analysis\n",
    "\n",
    "### Fire Risk Score\n",
    "\n",
    "$$fire_risk = S(z(population_density)+z(dwelling_&_business_density)+z(bfpl_density)−z(assistive_service_density))$$"
   ]
  },
  {
   "cell_type": "code",
   "execution_count": 38,
   "metadata": {},
   "outputs": [],
   "source": [
    "#Z-score\n",
    "def z(x, avg, sd):\n",
    "    return((x-avg)/sd)\n",
    "\n",
    "#Sigmoidal function. Did not use native exponential because fails for large negative values.\n",
    "def sigmoid(x):\n",
    "    return(1/(1+np.exp(-x)))\n",
    "\n",
    "#Fire risk score formula.\n",
    "def fire_risk(pop_d, dwell_bus_d, bfpl_d, ass_serv_d):\n",
    "    fire_risk_score = sigmoid(z(pop_d)+z(dwell_bus_d)+z(bfpl_d)-z(ass_serv_d))\n",
    "    return fire_risk_score"
   ]
  }
 ],
 "metadata": {
  "kernelspec": {
   "display_name": "Python 3",
   "language": "python",
   "name": "python3"
  },
  "language_info": {
   "codemirror_mode": {
    "name": "ipython",
    "version": 3
   },
   "file_extension": ".py",
   "mimetype": "text/x-python",
   "name": "python",
   "nbconvert_exporter": "python",
   "pygments_lexer": "ipython3",
   "version": "3.7.4"
  }
 },
 "nbformat": 4,
 "nbformat_minor": 4
}
